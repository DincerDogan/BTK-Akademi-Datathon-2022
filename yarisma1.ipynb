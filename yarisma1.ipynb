{
 "cells": [
  {
   "cell_type": "markdown",
   "id": "73243349-a8c3-4241-bdd4-da22c02e56f5",
   "metadata": {},
   "source": [
    "## Veriye ilk bakış"
   ]
  },
  {
   "cell_type": "code",
   "execution_count": 1,
   "id": "bb4a481d-2bba-42c1-a2c0-6cac3d28ef05",
   "metadata": {},
   "outputs": [],
   "source": [
    "import pandas as pd\n",
    "import numpy as np\n",
    "import matplotlib.pyplot as plt\n",
    "import seaborn as sns\n",
    "import warnings\n",
    "from datetime import date, timedelta\n",
    "\n",
    "\n",
    "warnings.filterwarnings('ignore')"
   ]
  },
  {
   "cell_type": "code",
   "execution_count": 2,
   "id": "126f4db3-9e03-445e-9c87-f8fceb70fa43",
   "metadata": {},
   "outputs": [
    {
     "data": {
      "text/html": [
       "<div>\n",
       "<style scoped>\n",
       "    .dataframe tbody tr th:only-of-type {\n",
       "        vertical-align: middle;\n",
       "    }\n",
       "\n",
       "    .dataframe tbody tr th {\n",
       "        vertical-align: top;\n",
       "    }\n",
       "\n",
       "    .dataframe thead th {\n",
       "        text-align: right;\n",
       "    }\n",
       "</style>\n",
       "<table border=\"1\" class=\"dataframe\">\n",
       "  <thead>\n",
       "    <tr style=\"text-align: right;\">\n",
       "      <th></th>\n",
       "      <th>tarih</th>\n",
       "      <th>ürün</th>\n",
       "      <th>ürün besin değeri</th>\n",
       "      <th>ürün kategorisi</th>\n",
       "      <th>ürün fiyatı</th>\n",
       "      <th>ürün üretim yeri</th>\n",
       "      <th>market</th>\n",
       "      <th>şehir</th>\n",
       "    </tr>\n",
       "  </thead>\n",
       "  <tbody>\n",
       "    <tr>\n",
       "      <th>0</th>\n",
       "      <td>2016-01-01</td>\n",
       "      <td>kıyma</td>\n",
       "      <td>120</td>\n",
       "      <td>et</td>\n",
       "      <td>33.41</td>\n",
       "      <td>Yurt içi</td>\n",
       "      <td>M</td>\n",
       "      <td>A</td>\n",
       "    </tr>\n",
       "    <tr>\n",
       "      <th>1</th>\n",
       "      <td>2016-01-01</td>\n",
       "      <td>tavuk</td>\n",
       "      <td>103</td>\n",
       "      <td>et</td>\n",
       "      <td>11.22</td>\n",
       "      <td>Yurt içi</td>\n",
       "      <td>M</td>\n",
       "      <td>A</td>\n",
       "    </tr>\n",
       "    <tr>\n",
       "      <th>2</th>\n",
       "      <td>2016-01-01</td>\n",
       "      <td>hindi</td>\n",
       "      <td>160</td>\n",
       "      <td>et</td>\n",
       "      <td>11.12</td>\n",
       "      <td>Yurt içi</td>\n",
       "      <td>M</td>\n",
       "      <td>A</td>\n",
       "    </tr>\n",
       "    <tr>\n",
       "      <th>3</th>\n",
       "      <td>2016-01-01</td>\n",
       "      <td>Bakla-kuru</td>\n",
       "      <td>354</td>\n",
       "      <td>sebze ve bakliyat</td>\n",
       "      <td>7.02</td>\n",
       "      <td>Yurt içi</td>\n",
       "      <td>M</td>\n",
       "      <td>A</td>\n",
       "    </tr>\n",
       "    <tr>\n",
       "      <th>4</th>\n",
       "      <td>2016-01-01</td>\n",
       "      <td>Bakla-taze</td>\n",
       "      <td>72</td>\n",
       "      <td>sebze ve bakliyat</td>\n",
       "      <td>13.14</td>\n",
       "      <td>Yurt içi</td>\n",
       "      <td>M</td>\n",
       "      <td>A</td>\n",
       "    </tr>\n",
       "  </tbody>\n",
       "</table>\n",
       "</div>"
      ],
      "text/plain": [
       "       tarih        ürün  ürün besin değeri    ürün kategorisi  ürün fiyatı  \\\n",
       "0 2016-01-01       kıyma                120                 et        33.41   \n",
       "1 2016-01-01       tavuk                103                 et        11.22   \n",
       "2 2016-01-01       hindi                160                 et        11.12   \n",
       "3 2016-01-01  Bakla-kuru                354  sebze ve bakliyat         7.02   \n",
       "4 2016-01-01  Bakla-taze                 72  sebze ve bakliyat        13.14   \n",
       "\n",
       "  ürün üretim yeri market şehir  \n",
       "0         Yurt içi      M     A  \n",
       "1         Yurt içi      M     A  \n",
       "2         Yurt içi      M     A  \n",
       "3         Yurt içi      M     A  \n",
       "4         Yurt içi      M     A  "
      ]
     },
     "execution_count": 2,
     "metadata": {},
     "output_type": "execute_result"
    }
   ],
   "source": [
    "train = pd.read_csv(\"~/Desktop/DataThon_Yarisma/train.csv\", parse_dates= [\"tarih\"])\n",
    "test = pd.read_csv(\"~/Desktop/DataThon_Yarisma/testFeatures.csv\", parse_dates=['tarih'])\n",
    "train.head()"
   ]
  },
  {
   "cell_type": "code",
   "execution_count": 3,
   "id": "0d9204d0-1d7b-42dd-bf98-79fcec8f3fb3",
   "metadata": {},
   "outputs": [
    {
     "data": {
      "text/html": [
       "<div>\n",
       "<style scoped>\n",
       "    .dataframe tbody tr th:only-of-type {\n",
       "        vertical-align: middle;\n",
       "    }\n",
       "\n",
       "    .dataframe tbody tr th {\n",
       "        vertical-align: top;\n",
       "    }\n",
       "\n",
       "    .dataframe thead th {\n",
       "        text-align: right;\n",
       "    }\n",
       "</style>\n",
       "<table border=\"1\" class=\"dataframe\">\n",
       "  <thead>\n",
       "    <tr style=\"text-align: right;\">\n",
       "      <th></th>\n",
       "      <th>tarih</th>\n",
       "      <th>ürün</th>\n",
       "      <th>ürün besin değeri</th>\n",
       "      <th>ürün kategorisi</th>\n",
       "      <th>ürün fiyatı</th>\n",
       "      <th>ürün üretim yeri</th>\n",
       "      <th>market</th>\n",
       "      <th>şehir</th>\n",
       "    </tr>\n",
       "  </thead>\n",
       "  <tbody>\n",
       "    <tr>\n",
       "      <th>0</th>\n",
       "      <td>2016-01-01</td>\n",
       "      <td>kıyma</td>\n",
       "      <td>120</td>\n",
       "      <td>et</td>\n",
       "      <td>33.41</td>\n",
       "      <td>Yurt içi</td>\n",
       "      <td>M</td>\n",
       "      <td>A</td>\n",
       "    </tr>\n",
       "    <tr>\n",
       "      <th>1</th>\n",
       "      <td>2016-01-01</td>\n",
       "      <td>tavuk</td>\n",
       "      <td>103</td>\n",
       "      <td>et</td>\n",
       "      <td>11.22</td>\n",
       "      <td>Yurt içi</td>\n",
       "      <td>M</td>\n",
       "      <td>A</td>\n",
       "    </tr>\n",
       "    <tr>\n",
       "      <th>2</th>\n",
       "      <td>2016-01-01</td>\n",
       "      <td>hindi</td>\n",
       "      <td>160</td>\n",
       "      <td>et</td>\n",
       "      <td>11.12</td>\n",
       "      <td>Yurt içi</td>\n",
       "      <td>M</td>\n",
       "      <td>A</td>\n",
       "    </tr>\n",
       "    <tr>\n",
       "      <th>3</th>\n",
       "      <td>2016-01-01</td>\n",
       "      <td>Bakla-kuru</td>\n",
       "      <td>354</td>\n",
       "      <td>sebze ve bakliyat</td>\n",
       "      <td>7.02</td>\n",
       "      <td>Yurt içi</td>\n",
       "      <td>M</td>\n",
       "      <td>A</td>\n",
       "    </tr>\n",
       "    <tr>\n",
       "      <th>4</th>\n",
       "      <td>2016-01-01</td>\n",
       "      <td>Bakla-taze</td>\n",
       "      <td>72</td>\n",
       "      <td>sebze ve bakliyat</td>\n",
       "      <td>13.14</td>\n",
       "      <td>Yurt içi</td>\n",
       "      <td>M</td>\n",
       "      <td>A</td>\n",
       "    </tr>\n",
       "  </tbody>\n",
       "</table>\n",
       "</div>"
      ],
      "text/plain": [
       "       tarih        ürün  ürün besin değeri    ürün kategorisi  ürün fiyatı  \\\n",
       "0 2016-01-01       kıyma                120                 et        33.41   \n",
       "1 2016-01-01       tavuk                103                 et        11.22   \n",
       "2 2016-01-01       hindi                160                 et        11.12   \n",
       "3 2016-01-01  Bakla-kuru                354  sebze ve bakliyat         7.02   \n",
       "4 2016-01-01  Bakla-taze                 72  sebze ve bakliyat        13.14   \n",
       "\n",
       "  ürün üretim yeri market şehir  \n",
       "0         Yurt içi      M     A  \n",
       "1         Yurt içi      M     A  \n",
       "2         Yurt içi      M     A  \n",
       "3         Yurt içi      M     A  \n",
       "4         Yurt içi      M     A  "
      ]
     },
     "execution_count": 3,
     "metadata": {},
     "output_type": "execute_result"
    }
   ],
   "source": [
    "train_copy = train.copy()\n",
    "train_copy.head()"
   ]
  },
  {
   "cell_type": "code",
   "execution_count": 4,
   "id": "158f86b6-3896-4a51-9ebf-9c79487ac62f",
   "metadata": {},
   "outputs": [
    {
     "data": {
      "text/html": [
       "<div>\n",
       "<style scoped>\n",
       "    .dataframe tbody tr th:only-of-type {\n",
       "        vertical-align: middle;\n",
       "    }\n",
       "\n",
       "    .dataframe tbody tr th {\n",
       "        vertical-align: top;\n",
       "    }\n",
       "\n",
       "    .dataframe thead th {\n",
       "        text-align: right;\n",
       "    }\n",
       "</style>\n",
       "<table border=\"1\" class=\"dataframe\">\n",
       "  <thead>\n",
       "    <tr style=\"text-align: right;\">\n",
       "      <th></th>\n",
       "      <th>id</th>\n",
       "      <th>tarih</th>\n",
       "      <th>ürün</th>\n",
       "      <th>ürün besin değeri</th>\n",
       "      <th>ürün kategorisi</th>\n",
       "      <th>ürün üretim yeri</th>\n",
       "      <th>market</th>\n",
       "      <th>şehir</th>\n",
       "    </tr>\n",
       "  </thead>\n",
       "  <tbody>\n",
       "    <tr>\n",
       "      <th>0</th>\n",
       "      <td>0</td>\n",
       "      <td>2021-01-01</td>\n",
       "      <td>kıyma</td>\n",
       "      <td>120</td>\n",
       "      <td>et</td>\n",
       "      <td>Yurt içi</td>\n",
       "      <td>M</td>\n",
       "      <td>A</td>\n",
       "    </tr>\n",
       "    <tr>\n",
       "      <th>1</th>\n",
       "      <td>1</td>\n",
       "      <td>2021-01-01</td>\n",
       "      <td>tavuk</td>\n",
       "      <td>103</td>\n",
       "      <td>et</td>\n",
       "      <td>Yurt içi</td>\n",
       "      <td>M</td>\n",
       "      <td>A</td>\n",
       "    </tr>\n",
       "    <tr>\n",
       "      <th>2</th>\n",
       "      <td>2</td>\n",
       "      <td>2021-01-01</td>\n",
       "      <td>hindi</td>\n",
       "      <td>160</td>\n",
       "      <td>et</td>\n",
       "      <td>Yurt içi</td>\n",
       "      <td>M</td>\n",
       "      <td>A</td>\n",
       "    </tr>\n",
       "    <tr>\n",
       "      <th>3</th>\n",
       "      <td>3</td>\n",
       "      <td>2021-01-01</td>\n",
       "      <td>Bakla-kuru</td>\n",
       "      <td>354</td>\n",
       "      <td>sebze ve bakliyat</td>\n",
       "      <td>Yurt içi</td>\n",
       "      <td>M</td>\n",
       "      <td>A</td>\n",
       "    </tr>\n",
       "    <tr>\n",
       "      <th>4</th>\n",
       "      <td>4</td>\n",
       "      <td>2021-01-01</td>\n",
       "      <td>Bakla-taze</td>\n",
       "      <td>72</td>\n",
       "      <td>sebze ve bakliyat</td>\n",
       "      <td>Yurt içi</td>\n",
       "      <td>M</td>\n",
       "      <td>A</td>\n",
       "    </tr>\n",
       "  </tbody>\n",
       "</table>\n",
       "</div>"
      ],
      "text/plain": [
       "   id      tarih        ürün  ürün besin değeri    ürün kategorisi  \\\n",
       "0   0 2021-01-01       kıyma                120                 et   \n",
       "1   1 2021-01-01       tavuk                103                 et   \n",
       "2   2 2021-01-01       hindi                160                 et   \n",
       "3   3 2021-01-01  Bakla-kuru                354  sebze ve bakliyat   \n",
       "4   4 2021-01-01  Bakla-taze                 72  sebze ve bakliyat   \n",
       "\n",
       "  ürün üretim yeri market şehir  \n",
       "0         Yurt içi      M     A  \n",
       "1         Yurt içi      M     A  \n",
       "2         Yurt içi      M     A  \n",
       "3         Yurt içi      M     A  \n",
       "4         Yurt içi      M     A  "
      ]
     },
     "execution_count": 4,
     "metadata": {},
     "output_type": "execute_result"
    }
   ],
   "source": [
    "testkopya = test.copy()\n",
    "testkopya.head()"
   ]
  },
  {
   "cell_type": "code",
   "execution_count": 5,
   "id": "d591a33c-41fa-4c18-acd2-a772bf29b5c4",
   "metadata": {},
   "outputs": [],
   "source": [
    "## Veri seti yapısal bilgileri"
   ]
  },
  {
   "cell_type": "code",
   "execution_count": 6,
   "id": "19f44bcf-29ef-4f8c-8b71-3e477768fda9",
   "metadata": {},
   "outputs": [
    {
     "name": "stdout",
     "output_type": "stream",
     "text": [
      "<class 'pandas.core.frame.DataFrame'>\n",
      "RangeIndex: 227520 entries, 0 to 227519\n",
      "Data columns (total 8 columns):\n",
      " #   Column             Non-Null Count   Dtype         \n",
      "---  ------             --------------   -----         \n",
      " 0   tarih              227520 non-null  datetime64[ns]\n",
      " 1   ürün               227520 non-null  object        \n",
      " 2   ürün besin değeri  227520 non-null  int64         \n",
      " 3   ürün kategorisi    227520 non-null  object        \n",
      " 4   ürün fiyatı        227520 non-null  float64       \n",
      " 5   ürün üretim yeri   227520 non-null  object        \n",
      " 6   market             227520 non-null  object        \n",
      " 7   şehir              227520 non-null  object        \n",
      "dtypes: datetime64[ns](1), float64(1), int64(1), object(5)\n",
      "memory usage: 13.9+ MB\n"
     ]
    }
   ],
   "source": [
    "train_copy.info()"
   ]
  },
  {
   "cell_type": "code",
   "execution_count": 7,
   "id": "a13fbca0-4a09-4f0c-9c1c-84f8171ec9b1",
   "metadata": {},
   "outputs": [
    {
     "data": {
      "text/plain": [
       "tarih                datetime64[ns]\n",
       "ürün                         object\n",
       "ürün besin değeri             int64\n",
       "ürün kategorisi              object\n",
       "ürün fiyatı                 float64\n",
       "ürün üretim yeri             object\n",
       "market                       object\n",
       "şehir                        object\n",
       "dtype: object"
      ]
     },
     "execution_count": 7,
     "metadata": {},
     "output_type": "execute_result"
    }
   ],
   "source": [
    "train_copy.dtypes ## degiskenlerin tiplerine bakildi"
   ]
  },
  {
   "cell_type": "markdown",
   "id": "55a0a5bf-accf-4583-9edb-02cb5974884f",
   "metadata": {},
   "source": [
    "## Veri setinin betimlenmesi"
   ]
  },
  {
   "cell_type": "code",
   "execution_count": 8,
   "id": "e83313b9-4f23-4205-911c-8e3aaa746800",
   "metadata": {},
   "outputs": [
    {
     "data": {
      "text/plain": [
       "(227520, 8)"
      ]
     },
     "execution_count": 8,
     "metadata": {},
     "output_type": "execute_result"
    }
   ],
   "source": [
    "train_copy.shape"
   ]
  },
  {
   "cell_type": "code",
   "execution_count": 9,
   "id": "e46cc423-99e1-4f20-8085-8ac9f518505c",
   "metadata": {},
   "outputs": [
    {
     "data": {
      "text/plain": [
       "Index(['tarih', 'ürün', 'ürün besin değeri', 'ürün kategorisi', 'ürün fiyatı',\n",
       "       'ürün üretim yeri', 'market', 'şehir'],\n",
       "      dtype='object')"
      ]
     },
     "execution_count": 9,
     "metadata": {},
     "output_type": "execute_result"
    }
   ],
   "source": [
    "train_copy.columns"
   ]
  },
  {
   "cell_type": "code",
   "execution_count": 10,
   "id": "831c98fd-8eca-476c-bc45-45e3d568a165",
   "metadata": {},
   "outputs": [
    {
     "data": {
      "text/html": [
       "<div>\n",
       "<style scoped>\n",
       "    .dataframe tbody tr th:only-of-type {\n",
       "        vertical-align: middle;\n",
       "    }\n",
       "\n",
       "    .dataframe tbody tr th {\n",
       "        vertical-align: top;\n",
       "    }\n",
       "\n",
       "    .dataframe thead th {\n",
       "        text-align: right;\n",
       "    }\n",
       "</style>\n",
       "<table border=\"1\" class=\"dataframe\">\n",
       "  <thead>\n",
       "    <tr style=\"text-align: right;\">\n",
       "      <th></th>\n",
       "      <th>count</th>\n",
       "      <th>mean</th>\n",
       "      <th>std</th>\n",
       "      <th>min</th>\n",
       "      <th>25%</th>\n",
       "      <th>50%</th>\n",
       "      <th>75%</th>\n",
       "      <th>max</th>\n",
       "    </tr>\n",
       "  </thead>\n",
       "  <tbody>\n",
       "    <tr>\n",
       "      <th>ürün besin değeri</th>\n",
       "      <td>227520.0</td>\n",
       "      <td>143.113924</td>\n",
       "      <td>133.218871</td>\n",
       "      <td>8.00</td>\n",
       "      <td>41.00</td>\n",
       "      <td>83.0</td>\n",
       "      <td>250.0</td>\n",
       "      <td>402.00</td>\n",
       "    </tr>\n",
       "    <tr>\n",
       "      <th>ürün fiyatı</th>\n",
       "      <td>227520.0</td>\n",
       "      <td>16.348622</td>\n",
       "      <td>13.260935</td>\n",
       "      <td>0.73</td>\n",
       "      <td>7.33</td>\n",
       "      <td>12.6</td>\n",
       "      <td>20.9</td>\n",
       "      <td>141.33</td>\n",
       "    </tr>\n",
       "  </tbody>\n",
       "</table>\n",
       "</div>"
      ],
      "text/plain": [
       "                      count        mean         std   min    25%   50%    75%  \\\n",
       "ürün besin değeri  227520.0  143.113924  133.218871  8.00  41.00  83.0  250.0   \n",
       "ürün fiyatı        227520.0   16.348622   13.260935  0.73   7.33  12.6   20.9   \n",
       "\n",
       "                      max  \n",
       "ürün besin değeri  402.00  \n",
       "ürün fiyatı        141.33  "
      ]
     },
     "execution_count": 10,
     "metadata": {},
     "output_type": "execute_result"
    }
   ],
   "source": [
    "train_copy.describe().T"
   ]
  },
  {
   "cell_type": "markdown",
   "id": "680a55d2-47cd-41ff-8d68-ae54f1a5e489",
   "metadata": {},
   "source": [
    "## Eksik degerlerin İncelenmesi"
   ]
  },
  {
   "cell_type": "code",
   "execution_count": 11,
   "id": "120e5e31-67f9-4937-ae4a-4a7b8420d8a4",
   "metadata": {},
   "outputs": [
    {
     "data": {
      "text/plain": [
       "False"
      ]
     },
     "execution_count": 11,
     "metadata": {},
     "output_type": "execute_result"
    }
   ],
   "source": [
    "train_copy.isnull().values.any()"
   ]
  },
  {
   "cell_type": "code",
   "execution_count": 12,
   "id": "0e70e9d0-5526-41f6-b697-51a050024b38",
   "metadata": {},
   "outputs": [
    {
     "data": {
      "text/plain": [
       "tarih                0\n",
       "ürün                 0\n",
       "ürün besin değeri    0\n",
       "ürün kategorisi      0\n",
       "ürün fiyatı          0\n",
       "ürün üretim yeri     0\n",
       "market               0\n",
       "şehir                0\n",
       "dtype: int64"
      ]
     },
     "execution_count": 12,
     "metadata": {},
     "output_type": "execute_result"
    }
   ],
   "source": [
    "train_copy.isnull().sum()"
   ]
  },
  {
   "cell_type": "code",
   "execution_count": 13,
   "id": "25f9de3a-1fc9-4622-8718-bcffd8a51952",
   "metadata": {},
   "outputs": [],
   "source": [
    "## eksik deger olsaydı fillna ile doldurabilirsin"
   ]
  },
  {
   "cell_type": "markdown",
   "id": "3b76ce21-56d8-4baa-b83a-8db993cfeedc",
   "metadata": {},
   "source": [
    "## Kategorik degisken ozeti"
   ]
  },
  {
   "cell_type": "code",
   "execution_count": 14,
   "id": "fdce18c1-d19d-42ad-a15d-aaefb7716c65",
   "metadata": {},
   "outputs": [
    {
     "data": {
      "text/html": [
       "<div>\n",
       "<style scoped>\n",
       "    .dataframe tbody tr th:only-of-type {\n",
       "        vertical-align: middle;\n",
       "    }\n",
       "\n",
       "    .dataframe tbody tr th {\n",
       "        vertical-align: top;\n",
       "    }\n",
       "\n",
       "    .dataframe thead th {\n",
       "        text-align: right;\n",
       "    }\n",
       "</style>\n",
       "<table border=\"1\" class=\"dataframe\">\n",
       "  <thead>\n",
       "    <tr style=\"text-align: right;\">\n",
       "      <th></th>\n",
       "      <th>ürün</th>\n",
       "      <th>ürün kategorisi</th>\n",
       "      <th>ürün üretim yeri</th>\n",
       "      <th>market</th>\n",
       "      <th>şehir</th>\n",
       "    </tr>\n",
       "  </thead>\n",
       "  <tbody>\n",
       "    <tr>\n",
       "      <th>0</th>\n",
       "      <td>kıyma</td>\n",
       "      <td>et</td>\n",
       "      <td>Yurt içi</td>\n",
       "      <td>M</td>\n",
       "      <td>A</td>\n",
       "    </tr>\n",
       "    <tr>\n",
       "      <th>1</th>\n",
       "      <td>tavuk</td>\n",
       "      <td>et</td>\n",
       "      <td>Yurt içi</td>\n",
       "      <td>M</td>\n",
       "      <td>A</td>\n",
       "    </tr>\n",
       "    <tr>\n",
       "      <th>2</th>\n",
       "      <td>hindi</td>\n",
       "      <td>et</td>\n",
       "      <td>Yurt içi</td>\n",
       "      <td>M</td>\n",
       "      <td>A</td>\n",
       "    </tr>\n",
       "    <tr>\n",
       "      <th>3</th>\n",
       "      <td>Bakla-kuru</td>\n",
       "      <td>sebze ve bakliyat</td>\n",
       "      <td>Yurt içi</td>\n",
       "      <td>M</td>\n",
       "      <td>A</td>\n",
       "    </tr>\n",
       "    <tr>\n",
       "      <th>4</th>\n",
       "      <td>Bakla-taze</td>\n",
       "      <td>sebze ve bakliyat</td>\n",
       "      <td>Yurt içi</td>\n",
       "      <td>M</td>\n",
       "      <td>A</td>\n",
       "    </tr>\n",
       "  </tbody>\n",
       "</table>\n",
       "</div>"
      ],
      "text/plain": [
       "         ürün    ürün kategorisi ürün üretim yeri market şehir\n",
       "0       kıyma                 et         Yurt içi      M     A\n",
       "1       tavuk                 et         Yurt içi      M     A\n",
       "2       hindi                 et         Yurt içi      M     A\n",
       "3  Bakla-kuru  sebze ve bakliyat         Yurt içi      M     A\n",
       "4  Bakla-taze  sebze ve bakliyat         Yurt içi      M     A"
      ]
     },
     "execution_count": 14,
     "metadata": {},
     "output_type": "execute_result"
    }
   ],
   "source": [
    "train_kategorik = train_copy.select_dtypes(include= [\"object\"])\n",
    "train_kategorik.head()"
   ]
  },
  {
   "cell_type": "markdown",
   "id": "c9b7d4ad-5c4c-41d7-8a80-af75b3d1aa6e",
   "metadata": {},
   "source": [
    "### Kategorik degiskenin sınıflarına ve sınıf sayısına erismek"
   ]
  },
  {
   "cell_type": "code",
   "execution_count": 15,
   "id": "98e505be-098e-40d0-9974-84a00992235a",
   "metadata": {},
   "outputs": [],
   "source": [
    "def sinifSayisi(col):\n",
    "    adet = train_copy[col].value_counts().count()\n",
    "    print(\"{} tane {} vardir.\".format(adet, col))"
   ]
  },
  {
   "cell_type": "code",
   "execution_count": 16,
   "id": "a532f98b-fc79-41b4-af38-5e76ef60da37",
   "metadata": {},
   "outputs": [
    {
     "name": "stdout",
     "output_type": "stream",
     "text": [
      "79 tane ürün vardir.\n",
      "6 tane ürün kategorisi vardir.\n",
      "2 tane ürün üretim yeri vardir.\n",
      "3 tane market vardir.\n",
      "8 tane şehir vardir.\n"
     ]
    }
   ],
   "source": [
    "columns = [\"ürün\", \"ürün kategorisi\", \"ürün üretim yeri\", \"market\", \"şehir\"]\n",
    "for i in np.arange(5):\n",
    "    sinifSayisi(columns[i])"
   ]
  },
  {
   "cell_type": "code",
   "execution_count": 17,
   "id": "2588c6fe-3bb3-448c-8ff9-b9c6e4b061d1",
   "metadata": {},
   "outputs": [
    {
     "data": {
      "text/plain": [
       "sebze ve bakliyat              83520\n",
       "meyve                          51840\n",
       "tahıl ve ürünleri              34560\n",
       "süt ürünleri ve kahvaltılık    34560\n",
       "kuruyemiş                      14400\n",
       "et                              8640\n",
       "Name: ürün kategorisi, dtype: int64"
      ]
     },
     "execution_count": 17,
     "metadata": {},
     "output_type": "execute_result"
    }
   ],
   "source": [
    "train_copy[\"ürün kategorisi\"].value_counts()"
   ]
  },
  {
   "cell_type": "code",
   "execution_count": 18,
   "id": "37b04fe3-7da2-45bc-acf4-5b7cccba341b",
   "metadata": {},
   "outputs": [
    {
     "data": {
      "image/png": "[encoded data removed]",
      "text/plain": [
       "<Figure size 432x288 with 1 Axes>"
      ]
     },
     "metadata": {
      "needs_background": "light"
     },
     "output_type": "display_data"
    }
   ],
   "source": [
    "train_copy[\"ürün kategorisi\"].value_counts().plot.barh();"
   ]
  },
  {
   "cell_type": "code",
   "execution_count": 19,
   "id": "b4fafa5f-7f68-4186-9240-3a96c6f09e82",
   "metadata": {},
   "outputs": [
    {
     "data": {
      "text/plain": [
       "kıyma            2880\n",
       "salam            2880\n",
       "Çilek            2880\n",
       "Armut            2880\n",
       "tereyağ          2880\n",
       "                 ... \n",
       "Nohut            2880\n",
       "Mercimek-kuru    2880\n",
       "Marul            2880\n",
       "Mantar           2880\n",
       "ceviz            2880\n",
       "Name: ürün, Length: 79, dtype: int64"
      ]
     },
     "execution_count": 19,
     "metadata": {},
     "output_type": "execute_result"
    }
   ],
   "source": [
    "train_copy[\"ürün\"].value_counts()"
   ]
  },
  {
   "cell_type": "code",
   "execution_count": 20,
   "id": "b9740f10-4b5a-48b6-afa7-815cecfddebc",
   "metadata": {},
   "outputs": [
    {
     "data": {
      "text/plain": [
       "Yurt içi     113760\n",
       "Yurt dışı    113760\n",
       "Name: ürün üretim yeri, dtype: int64"
      ]
     },
     "execution_count": 20,
     "metadata": {},
     "output_type": "execute_result"
    }
   ],
   "source": [
    "train_copy[\"ürün üretim yeri\"].value_counts()"
   ]
  },
  {
   "cell_type": "code",
   "execution_count": 21,
   "id": "2528ee34-b9de-41bf-9f21-0f6496d001e2",
   "metadata": {},
   "outputs": [
    {
     "data": {
      "text/plain": [
       "M    75840\n",
       "C    75840\n",
       "B    75840\n",
       "Name: market, dtype: int64"
      ]
     },
     "execution_count": 21,
     "metadata": {},
     "output_type": "execute_result"
    }
   ],
   "source": [
    "train_copy[\"market\"].value_counts()"
   ]
  },
  {
   "cell_type": "code",
   "execution_count": 22,
   "id": "a8ab8daa-2b3a-4f5e-a3e9-e0bacdaa8b07",
   "metadata": {},
   "outputs": [
    {
     "data": {
      "text/plain": [
       "A    28440\n",
       "B    28440\n",
       "C    28440\n",
       "D    28440\n",
       "E    28440\n",
       "F    28440\n",
       "G    28440\n",
       "H    28440\n",
       "Name: şehir, dtype: int64"
      ]
     },
     "execution_count": 22,
     "metadata": {},
     "output_type": "execute_result"
    }
   ],
   "source": [
    "train_copy[\"şehir\"].value_counts()"
   ]
  },
  {
   "cell_type": "markdown",
   "id": "fc340bdf-9b4c-4d6c-b5e6-74cb2378b029",
   "metadata": {},
   "source": [
    "## Dağılım Grafikleri & Veri görselleştirilmesi"
   ]
  },
  {
   "cell_type": "markdown",
   "id": "4c9499b7-45c0-4ba1-b266-764a9755cade",
   "metadata": {},
   "source": [
    "### scatterplot"
   ]
  },
  {
   "cell_type": "code",
   "execution_count": 23,
   "id": "76ac2fae-4328-432c-80e1-3ee4eeb5f88f",
   "metadata": {},
   "outputs": [
    {
     "data": {
      "image/png": "[encoded data removed]",
      "text/plain": [
       "<Figure size 600x400 with 1 Axes>"
      ]
     },
     "metadata": {
      "needs_background": "light"
     },
     "output_type": "display_data"
    }
   ],
   "source": [
    "plt.figure(dpi=100)\n",
    "sns.scatterplot(x= \"ürün besin değeri\", y= \"ürün fiyatı\", hue= \"ürün kategorisi\", data= train_copy);"
   ]
  },
  {
   "cell_type": "markdown",
   "id": "e5a5457e-c9f5-4e71-bcc8-210364dec315",
   "metadata": {},
   "source": [
    "#### et kategorisi besin degeri incelemesi"
   ]
  },
  {
   "cell_type": "code",
   "execution_count": 24,
   "id": "8a85f978-1750-4ae7-957b-ee0f38d4d986",
   "metadata": {},
   "outputs": [
    {
     "data": {
      "text/plain": [
       "120    2880\n",
       "103    2880\n",
       "160    2880\n",
       "Name: ürün besin değeri, dtype: int64"
      ]
     },
     "execution_count": 24,
     "metadata": {},
     "output_type": "execute_result"
    }
   ],
   "source": [
    "train_copy[train_copy[\"ürün kategorisi\"] == \"et\"][\"ürün besin değeri\"].value_counts()\n",
    "\n",
    "# Çok onemli!! 120 besin degerine sahip olan etin fiyatı cok yukarılara gidebiliyor."
   ]
  },
  {
   "cell_type": "code",
   "execution_count": 25,
   "id": "8fd149fe-d470-439e-bad1-2569ada63052",
   "metadata": {},
   "outputs": [
    {
     "data": {
      "text/plain": [
       "kıyma    2880\n",
       "tavuk    2880\n",
       "hindi    2880\n",
       "Name: ürün, dtype: int64"
      ]
     },
     "execution_count": 25,
     "metadata": {},
     "output_type": "execute_result"
    }
   ],
   "source": [
    "train_copy[train_copy[\"ürün kategorisi\"] == \"et\"][\"ürün\"].value_counts()"
   ]
  },
  {
   "cell_type": "code",
   "execution_count": 26,
   "id": "904bf511-3c81-4c27-921b-692be2c0d23f",
   "metadata": {},
   "outputs": [
    {
     "data": {
      "text/plain": [
       "120    2880\n",
       "Name: ürün besin değeri, dtype: int64"
      ]
     },
     "execution_count": 26,
     "metadata": {},
     "output_type": "execute_result"
    }
   ],
   "source": [
    "train_copy[train_copy[\"ürün kategorisi\"] == \"et\"][train_copy[\"ürün\"]== \"kıyma\"][\"ürün besin değeri\"].value_counts() \n",
    "\n",
    "## Kıymanın besin değeri hep 120"
   ]
  },
  {
   "cell_type": "code",
   "execution_count": 27,
   "id": "46ed98b3-fd7e-4013-bd97-9cbb6e76a5e7",
   "metadata": {},
   "outputs": [
    {
     "data": {
      "text/plain": [
       "160    2880\n",
       "Name: ürün besin değeri, dtype: int64"
      ]
     },
     "execution_count": 27,
     "metadata": {},
     "output_type": "execute_result"
    }
   ],
   "source": [
    "train_copy[train_copy[\"ürün kategorisi\"] == \"et\"][train_copy[\"ürün\"]== \"hindi\"][\"ürün besin değeri\"].value_counts() \n"
   ]
  },
  {
   "cell_type": "markdown",
   "id": "2930ae09-f0cb-411d-80d5-8cfed45b77e6",
   "metadata": {},
   "source": [
    "#### süt ürünleri besin degeri incelemesi"
   ]
  },
  {
   "cell_type": "code",
   "execution_count": 28,
   "id": "2e518892-b60f-43fb-9a40-01b1bc6c83e2",
   "metadata": {},
   "outputs": [
    {
     "data": {
      "text/plain": [
       "125    5760\n",
       "100    2880\n",
       "150    2880\n",
       "170    2880\n",
       "200    2880\n",
       "90     2880\n",
       "120    2880\n",
       "250    2880\n",
       "350    2880\n",
       "400    2880\n",
       "375    2880\n",
       "Name: ürün besin değeri, dtype: int64"
      ]
     },
     "execution_count": 28,
     "metadata": {},
     "output_type": "execute_result"
    }
   ],
   "source": [
    "train_copy[train_copy[\"ürün kategorisi\"] == \"süt ürünleri ve kahvaltılık\"][\"ürün besin değeri\"].value_counts()\n"
   ]
  },
  {
   "cell_type": "code",
   "execution_count": 29,
   "id": "d729e2bd-0451-4304-8eac-f394f5c1a10c",
   "metadata": {},
   "outputs": [
    {
     "data": {
      "text/plain": [
       "yumurta             2880\n",
       "beyaz peynir        2880\n",
       "Kaşar peyniri       2880\n",
       "krema               2880\n",
       "yoğurt              2880\n",
       "sucuk               2880\n",
       "salam               2880\n",
       "sosis               2880\n",
       "tam buğday ekmek    2880\n",
       "kaymak              2880\n",
       "bal                 2880\n",
       "tereyağ             2880\n",
       "Name: ürün, dtype: int64"
      ]
     },
     "execution_count": 29,
     "metadata": {},
     "output_type": "execute_result"
    }
   ],
   "source": [
    "train_copy[train_copy[\"ürün kategorisi\"] == \"süt ürünleri ve kahvaltılık\"][\"ürün\"].value_counts()"
   ]
  },
  {
   "cell_type": "code",
   "execution_count": 30,
   "id": "01e92f94-c5c8-49d3-bc39-94b53a6b660c",
   "metadata": {},
   "outputs": [
    {
     "data": {
      "text/plain": [
       "100    2880\n",
       "Name: ürün besin değeri, dtype: int64"
      ]
     },
     "execution_count": 30,
     "metadata": {},
     "output_type": "execute_result"
    }
   ],
   "source": [
    "train_copy[train_copy[\"ürün kategorisi\"] == \"süt ürünleri ve kahvaltılık\"][train_copy[\"ürün\"]== \"yumurta\"][\"ürün besin değeri\"].value_counts() "
   ]
  },
  {
   "cell_type": "code",
   "execution_count": 31,
   "id": "b89f351b-9213-4a0e-a83c-0dee508d38f4",
   "metadata": {},
   "outputs": [
    {
     "data": {
      "text/html": [
       "<div>\n",
       "<style scoped>\n",
       "    .dataframe tbody tr th:only-of-type {\n",
       "        vertical-align: middle;\n",
       "    }\n",
       "\n",
       "    .dataframe tbody tr th {\n",
       "        vertical-align: top;\n",
       "    }\n",
       "\n",
       "    .dataframe thead th {\n",
       "        text-align: right;\n",
       "    }\n",
       "</style>\n",
       "<table border=\"1\" class=\"dataframe\">\n",
       "  <thead>\n",
       "    <tr style=\"text-align: right;\">\n",
       "      <th></th>\n",
       "      <th>tarih</th>\n",
       "      <th>ürün</th>\n",
       "      <th>ürün besin değeri</th>\n",
       "      <th>ürün kategorisi</th>\n",
       "      <th>ürün fiyatı</th>\n",
       "      <th>ürün üretim yeri</th>\n",
       "      <th>market</th>\n",
       "      <th>şehir</th>\n",
       "    </tr>\n",
       "  </thead>\n",
       "  <tbody>\n",
       "    <tr>\n",
       "      <th>0</th>\n",
       "      <td>2016-01-01</td>\n",
       "      <td>kıyma</td>\n",
       "      <td>120</td>\n",
       "      <td>et</td>\n",
       "      <td>33.41</td>\n",
       "      <td>Yurt içi</td>\n",
       "      <td>M</td>\n",
       "      <td>A</td>\n",
       "    </tr>\n",
       "    <tr>\n",
       "      <th>1</th>\n",
       "      <td>2016-01-01</td>\n",
       "      <td>tavuk</td>\n",
       "      <td>103</td>\n",
       "      <td>et</td>\n",
       "      <td>11.22</td>\n",
       "      <td>Yurt içi</td>\n",
       "      <td>M</td>\n",
       "      <td>A</td>\n",
       "    </tr>\n",
       "    <tr>\n",
       "      <th>2</th>\n",
       "      <td>2016-01-01</td>\n",
       "      <td>hindi</td>\n",
       "      <td>160</td>\n",
       "      <td>et</td>\n",
       "      <td>11.12</td>\n",
       "      <td>Yurt içi</td>\n",
       "      <td>M</td>\n",
       "      <td>A</td>\n",
       "    </tr>\n",
       "    <tr>\n",
       "      <th>3</th>\n",
       "      <td>2016-01-01</td>\n",
       "      <td>Bakla-kuru</td>\n",
       "      <td>354</td>\n",
       "      <td>sebze ve bakliyat</td>\n",
       "      <td>7.02</td>\n",
       "      <td>Yurt içi</td>\n",
       "      <td>M</td>\n",
       "      <td>A</td>\n",
       "    </tr>\n",
       "    <tr>\n",
       "      <th>4</th>\n",
       "      <td>2016-01-01</td>\n",
       "      <td>Bakla-taze</td>\n",
       "      <td>72</td>\n",
       "      <td>sebze ve bakliyat</td>\n",
       "      <td>13.14</td>\n",
       "      <td>Yurt içi</td>\n",
       "      <td>M</td>\n",
       "      <td>A</td>\n",
       "    </tr>\n",
       "  </tbody>\n",
       "</table>\n",
       "</div>"
      ],
      "text/plain": [
       "       tarih        ürün  ürün besin değeri    ürün kategorisi  ürün fiyatı  \\\n",
       "0 2016-01-01       kıyma                120                 et        33.41   \n",
       "1 2016-01-01       tavuk                103                 et        11.22   \n",
       "2 2016-01-01       hindi                160                 et        11.12   \n",
       "3 2016-01-01  Bakla-kuru                354  sebze ve bakliyat         7.02   \n",
       "4 2016-01-01  Bakla-taze                 72  sebze ve bakliyat        13.14   \n",
       "\n",
       "  ürün üretim yeri market şehir  \n",
       "0         Yurt içi      M     A  \n",
       "1         Yurt içi      M     A  \n",
       "2         Yurt içi      M     A  \n",
       "3         Yurt içi      M     A  \n",
       "4         Yurt içi      M     A  "
      ]
     },
     "execution_count": 31,
     "metadata": {},
     "output_type": "execute_result"
    }
   ],
   "source": [
    "train_copy.head()"
   ]
  },
  {
   "cell_type": "markdown",
   "id": "2bb8394f-db70-4af1-a9b3-566f02527aa9",
   "metadata": {},
   "source": [
    "#### Kategorilerin birbirine göre ilişkisi"
   ]
  },
  {
   "cell_type": "code",
   "execution_count": 32,
   "id": "10e07c50-76ef-45d6-85f2-193e43eb447f",
   "metadata": {},
   "outputs": [
    {
     "data": {
      "image/png": "[encoded data removed]",
      "text/plain": [
       "<Figure size 432x288 with 1 Axes>"
      ]
     },
     "metadata": {
      "needs_background": "light"
     },
     "output_type": "display_data"
    }
   ],
   "source": [
    "sns.barplot(x= \"market\", y= \"ürün fiyatı\", hue= \"ürün kategorisi\", data= train_copy);\n",
    "\n",
    "## market özelinde fıyat ortalamaları"
   ]
  },
  {
   "cell_type": "code",
   "execution_count": 33,
   "id": "2c3f2407-d0d1-4f7f-8745-fee344b75eb1",
   "metadata": {},
   "outputs": [
    {
     "data": {
      "text/plain": [
       "market  ürün kategorisi            \n",
       "B       et                             35.995198\n",
       "        kuruyemiş                      30.014744\n",
       "        meyve                           9.992151\n",
       "        sebze ve bakliyat              14.944694\n",
       "        süt ürünleri ve kahvaltılık    25.818628\n",
       "        tahıl ve ürünleri               9.535002\n",
       "C       et                             35.507347\n",
       "        kuruyemiş                      30.032744\n",
       "        meyve                           9.958138\n",
       "        sebze ve bakliyat              14.904890\n",
       "        süt ürünleri ve kahvaltılık    25.539446\n",
       "        tahıl ve ürünleri               9.521207\n",
       "M       et                             35.666330\n",
       "        kuruyemiş                      30.099960\n",
       "        meyve                          10.028312\n",
       "        sebze ve bakliyat              14.879722\n",
       "        süt ürünleri ve kahvaltılık    25.500941\n",
       "        tahıl ve ürünleri               9.552688\n",
       "Name: ürün fiyatı, dtype: float64"
      ]
     },
     "execution_count": 33,
     "metadata": {},
     "output_type": "execute_result"
    }
   ],
   "source": [
    "train_copy.groupby([\"market\", \"ürün kategorisi\"])[\"ürün fiyatı\"].mean()"
   ]
  },
  {
   "cell_type": "code",
   "execution_count": 34,
   "id": "97fa1905-5930-4947-b9b0-59da3ef424f7",
   "metadata": {},
   "outputs": [
    {
     "data": {
      "image/png": "[encoded data removed]",
      "text/plain": [
       "<Figure size 576x576 with 1 Axes>"
      ]
     },
     "metadata": {
      "needs_background": "light"
     },
     "output_type": "display_data"
    }
   ],
   "source": [
    "plt.figure(figsize=(8,8))\n",
    "sns.barplot(x= \"şehir\", y= \"ürün fiyatı\", hue= \"ürün kategorisi\", data= train_copy);\n",
    "\n",
    "## Şehir özelinde ürün fiyatları"
   ]
  },
  {
   "cell_type": "code",
   "execution_count": 35,
   "id": "e804593b-69e0-40d4-958d-43ebf346e2d5",
   "metadata": {},
   "outputs": [
    {
     "data": {
      "image/png": "[encoded data removed]",
      "text/plain": [
       "<Figure size 576x576 with 1 Axes>"
      ]
     },
     "metadata": {
      "needs_background": "light"
     },
     "output_type": "display_data"
    }
   ],
   "source": [
    "plt.figure(figsize=(8,8))\n",
    "sns.barplot(x= \"ürün üretim yeri\", y= \"ürün fiyatı\", hue= \"ürün kategorisi\", data= train_copy);\n",
    "\n",
    "## üretim yeri özelinde ürün fiyatları"
   ]
  },
  {
   "cell_type": "code",
   "execution_count": 36,
   "id": "caee8ac8-ddd4-4df8-b6ff-17e3af1e5305",
   "metadata": {},
   "outputs": [
    {
     "data": {
      "text/plain": [
       "ürün üretim yeri  ürün kategorisi            \n",
       "Yurt dışı         et                             25.424891\n",
       "                  kuruyemiş                      11.372274\n",
       "                  meyve                           4.838450\n",
       "                  sebze ve bakliyat              10.353037\n",
       "                  süt ürünleri ve kahvaltılık    14.202032\n",
       "                  tahıl ve ürünleri               8.280900\n",
       "Yurt içi          et                             25.582553\n",
       "                  kuruyemiş                      11.499822\n",
       "                  meyve                           4.866383\n",
       "                  sebze ve bakliyat              10.446702\n",
       "                  süt ürünleri ve kahvaltılık    14.393761\n",
       "                  tahıl ve ürünleri               8.391178\n",
       "Name: ürün fiyatı, dtype: float64"
      ]
     },
     "execution_count": 36,
     "metadata": {},
     "output_type": "execute_result"
    }
   ],
   "source": [
    "train_copy.groupby([\"ürün üretim yeri\", \"ürün kategorisi\"])[\"ürün fiyatı\"].std()\n",
    "\n",
    "#ortalama dogrulamasi yapildi"
   ]
  },
  {
   "cell_type": "code",
   "execution_count": 37,
   "id": "84b93139-91b2-4779-a8cb-30a1d1250499",
   "metadata": {},
   "outputs": [
    {
     "data": {
      "image/png": "[encoded data removed]",
      "text/plain": [
       "<Figure size 576x576 with 1 Axes>"
      ]
     },
     "metadata": {
      "needs_background": "light"
     },
     "output_type": "display_data"
    }
   ],
   "source": [
    "plt.figure(figsize=(8,8))\n",
    "plt.xticks(rotation=45)\n",
    "sns.barplot(x= \"ürün kategorisi\", y= \"ürün fiyatı\", data= train_copy);\n",
    "\n",
    "## ürün kategorisi özelinde ürün fiyatları"
   ]
  },
  {
   "cell_type": "markdown",
   "id": "ebfb96ac-32de-4c0d-a1b9-f34be89511ac",
   "metadata": {},
   "source": [
    "#### Fiyat artislarinin incelenmesi"
   ]
  },
  {
   "cell_type": "code",
   "execution_count": 38,
   "id": "8259ac9f-e466-48ac-9931-c4cd03779d3a",
   "metadata": {},
   "outputs": [
    {
     "data": {
      "image/png": "[encoded data removed]",
      "text/plain": [
       "<Figure size 600x400 with 1 Axes>"
      ]
     },
     "metadata": {
      "needs_background": "light"
     },
     "output_type": "display_data"
    }
   ],
   "source": [
    "## Et ütünlerinin fiyat artisi\n",
    "renk = train_copy[train_copy[\"ürün kategorisi\"]== \"et\"][\"ürün\"]\n",
    "plt.figure(dpi=100)\n",
    "sns.scatterplot(x= \"tarih\", y= \"ürün fiyatı\", hue= renk, data= train_copy[train_copy[\"ürün kategorisi\"]== \"et\"]);"
   ]
  },
  {
   "cell_type": "code",
   "execution_count": 39,
   "id": "a9d0f576-324e-4c16-a9b0-59d0032d2f62",
   "metadata": {},
   "outputs": [
    {
     "data": {
      "image/png": "[encoded data removed]",
      "text/plain": [
       "<Figure size 600x400 with 1 Axes>"
      ]
     },
     "metadata": {
      "needs_background": "light"
     },
     "output_type": "display_data"
    }
   ],
   "source": [
    "## Sut ürünlerinin fiyat artısı\n",
    "renk = train_copy[train_copy[\"ürün kategorisi\"]== \"süt ürünleri ve kahvaltılık\"][\"ürün\"]\n",
    "plt.figure(dpi=100)\n",
    "sns.scatterplot(x= \"tarih\", y= \"ürün fiyatı\", hue= renk, data= train_copy[train_copy[\"ürün kategorisi\"]== \"süt ürünleri ve kahvaltılık\"]);"
   ]
  },
  {
   "cell_type": "code",
   "execution_count": 40,
   "id": "fbfbba0a-c519-48a0-ba01-8131f31488ad",
   "metadata": {},
   "outputs": [],
   "source": [
    "## Not= Dolar kurunun etki ettiği çok açık şekilde görülüyor. dolar kuru da eklenebilir."
   ]
  },
  {
   "cell_type": "code",
   "execution_count": 41,
   "id": "3662c636-c413-4270-84a5-0d2ed4f3cf56",
   "metadata": {},
   "outputs": [
    {
     "data": {
      "image/png": "[encoded data removed]",
      "text/plain": [
       "<Figure size 600x400 with 1 Axes>"
      ]
     },
     "metadata": {
      "needs_background": "light"
     },
     "output_type": "display_data"
    }
   ],
   "source": [
    "renk = train_copy[train_copy[\"ürün kategorisi\"]== \"kuruyemiş\"][\"ürün\"]\n",
    "plt.figure(dpi=100)\n",
    "sns.scatterplot(x= \"tarih\", y= \"ürün fiyatı\", hue= renk, data= train_copy[train_copy[\"ürün kategorisi\"]== \"kuruyemiş\"]);"
   ]
  },
  {
   "cell_type": "markdown",
   "id": "f0fa1bee-c5b2-4846-aaf8-1e2a4cfea449",
   "metadata": {},
   "source": [
    "#### ürünlerin ne kadarı yurt dışından geliyor"
   ]
  },
  {
   "cell_type": "code",
   "execution_count": 42,
   "id": "1f597042-26d4-4c26-a3b4-6898c271a916",
   "metadata": {},
   "outputs": [
    {
     "data": {
      "text/plain": [
       "Yurt içi     113760\n",
       "Yurt dışı    113760\n",
       "Name: ürün üretim yeri, dtype: int64"
      ]
     },
     "execution_count": 42,
     "metadata": {},
     "output_type": "execute_result"
    }
   ],
   "source": [
    "train_copy[\"ürün üretim yeri\"].value_counts()"
   ]
  },
  {
   "cell_type": "code",
   "execution_count": 43,
   "id": "13b1b8e4-c897-458a-b40f-68666b634a4d",
   "metadata": {},
   "outputs": [
    {
     "data": {
      "text/html": [
       "<div>\n",
       "<style scoped>\n",
       "    .dataframe tbody tr th:only-of-type {\n",
       "        vertical-align: middle;\n",
       "    }\n",
       "\n",
       "    .dataframe tbody tr th {\n",
       "        vertical-align: top;\n",
       "    }\n",
       "\n",
       "    .dataframe thead th {\n",
       "        text-align: right;\n",
       "    }\n",
       "</style>\n",
       "<table border=\"1\" class=\"dataframe\">\n",
       "  <thead>\n",
       "    <tr style=\"text-align: right;\">\n",
       "      <th></th>\n",
       "      <th>tarih</th>\n",
       "      <th>ürün</th>\n",
       "      <th>ürün besin değeri</th>\n",
       "      <th>ürün kategorisi</th>\n",
       "      <th>ürün fiyatı</th>\n",
       "      <th>ürün üretim yeri</th>\n",
       "      <th>market</th>\n",
       "      <th>şehir</th>\n",
       "    </tr>\n",
       "  </thead>\n",
       "  <tbody>\n",
       "    <tr>\n",
       "      <th>0</th>\n",
       "      <td>2016-01-01</td>\n",
       "      <td>kıyma</td>\n",
       "      <td>120</td>\n",
       "      <td>et</td>\n",
       "      <td>33.41</td>\n",
       "      <td>Yurt içi</td>\n",
       "      <td>M</td>\n",
       "      <td>A</td>\n",
       "    </tr>\n",
       "    <tr>\n",
       "      <th>1</th>\n",
       "      <td>2016-01-01</td>\n",
       "      <td>tavuk</td>\n",
       "      <td>103</td>\n",
       "      <td>et</td>\n",
       "      <td>11.22</td>\n",
       "      <td>Yurt içi</td>\n",
       "      <td>M</td>\n",
       "      <td>A</td>\n",
       "    </tr>\n",
       "    <tr>\n",
       "      <th>2</th>\n",
       "      <td>2016-01-01</td>\n",
       "      <td>hindi</td>\n",
       "      <td>160</td>\n",
       "      <td>et</td>\n",
       "      <td>11.12</td>\n",
       "      <td>Yurt içi</td>\n",
       "      <td>M</td>\n",
       "      <td>A</td>\n",
       "    </tr>\n",
       "    <tr>\n",
       "      <th>3</th>\n",
       "      <td>2016-01-01</td>\n",
       "      <td>Bakla-kuru</td>\n",
       "      <td>354</td>\n",
       "      <td>sebze ve bakliyat</td>\n",
       "      <td>7.02</td>\n",
       "      <td>Yurt içi</td>\n",
       "      <td>M</td>\n",
       "      <td>A</td>\n",
       "    </tr>\n",
       "    <tr>\n",
       "      <th>4</th>\n",
       "      <td>2016-01-01</td>\n",
       "      <td>Bakla-taze</td>\n",
       "      <td>72</td>\n",
       "      <td>sebze ve bakliyat</td>\n",
       "      <td>13.14</td>\n",
       "      <td>Yurt içi</td>\n",
       "      <td>M</td>\n",
       "      <td>A</td>\n",
       "    </tr>\n",
       "  </tbody>\n",
       "</table>\n",
       "</div>"
      ],
      "text/plain": [
       "       tarih        ürün  ürün besin değeri    ürün kategorisi  ürün fiyatı  \\\n",
       "0 2016-01-01       kıyma                120                 et        33.41   \n",
       "1 2016-01-01       tavuk                103                 et        11.22   \n",
       "2 2016-01-01       hindi                160                 et        11.12   \n",
       "3 2016-01-01  Bakla-kuru                354  sebze ve bakliyat         7.02   \n",
       "4 2016-01-01  Bakla-taze                 72  sebze ve bakliyat        13.14   \n",
       "\n",
       "  ürün üretim yeri market şehir  \n",
       "0         Yurt içi      M     A  \n",
       "1         Yurt içi      M     A  \n",
       "2         Yurt içi      M     A  \n",
       "3         Yurt içi      M     A  \n",
       "4         Yurt içi      M     A  "
      ]
     },
     "execution_count": 43,
     "metadata": {},
     "output_type": "execute_result"
    }
   ],
   "source": [
    "train_copy.head()"
   ]
  },
  {
   "cell_type": "markdown",
   "id": "03e44443-741e-4bb1-a845-1c25396122cb",
   "metadata": {},
   "source": [
    "#### Hangi market ne kadar yurt İçi/dısı urun satıyor"
   ]
  },
  {
   "cell_type": "code",
   "execution_count": 44,
   "id": "a7d0f570-552d-41f6-93f2-9de9e7fb02ca",
   "metadata": {},
   "outputs": [
    {
     "data": {
      "text/plain": [
       "market  ürün üretim yeri\n",
       "B       Yurt dışı           37920\n",
       "        Yurt içi            37920\n",
       "C       Yurt dışı           37920\n",
       "        Yurt içi            37920\n",
       "M       Yurt dışı           37920\n",
       "        Yurt içi            37920\n",
       "Name: ürün üretim yeri, dtype: int64"
      ]
     },
     "execution_count": 44,
     "metadata": {},
     "output_type": "execute_result"
    }
   ],
   "source": [
    "train_copy.groupby(\"market\")[\"ürün üretim yeri\"].value_counts()"
   ]
  },
  {
   "cell_type": "markdown",
   "id": "7e31eaf3-3822-4547-a48b-cb69e19a98c5",
   "metadata": {},
   "source": [
    "## Doviz kuru eklenmesi"
   ]
  },
  {
   "cell_type": "code",
   "execution_count": 45,
   "id": "c355998a-241d-4762-ad6e-ec9c3c8c7c4d",
   "metadata": {},
   "outputs": [
    {
     "data": {
      "text/html": [
       "<div>\n",
       "<style scoped>\n",
       "    .dataframe tbody tr th:only-of-type {\n",
       "        vertical-align: middle;\n",
       "    }\n",
       "\n",
       "    .dataframe tbody tr th {\n",
       "        vertical-align: top;\n",
       "    }\n",
       "\n",
       "    .dataframe thead th {\n",
       "        text-align: right;\n",
       "    }\n",
       "</style>\n",
       "<table border=\"1\" class=\"dataframe\">\n",
       "  <thead>\n",
       "    <tr style=\"text-align: right;\">\n",
       "      <th></th>\n",
       "      <th>ürün</th>\n",
       "      <th>ürün besin değeri</th>\n",
       "      <th>ürün kategorisi</th>\n",
       "      <th>ürün fiyatı</th>\n",
       "      <th>ürün üretim yeri</th>\n",
       "      <th>market</th>\n",
       "      <th>şehir</th>\n",
       "    </tr>\n",
       "    <tr>\n",
       "      <th>tarih</th>\n",
       "      <th></th>\n",
       "      <th></th>\n",
       "      <th></th>\n",
       "      <th></th>\n",
       "      <th></th>\n",
       "      <th></th>\n",
       "      <th></th>\n",
       "    </tr>\n",
       "  </thead>\n",
       "  <tbody>\n",
       "    <tr>\n",
       "      <th>2016-01-01</th>\n",
       "      <td>kıyma</td>\n",
       "      <td>120</td>\n",
       "      <td>et</td>\n",
       "      <td>33.41</td>\n",
       "      <td>Yurt içi</td>\n",
       "      <td>M</td>\n",
       "      <td>A</td>\n",
       "    </tr>\n",
       "    <tr>\n",
       "      <th>2016-01-01</th>\n",
       "      <td>tavuk</td>\n",
       "      <td>103</td>\n",
       "      <td>et</td>\n",
       "      <td>11.22</td>\n",
       "      <td>Yurt içi</td>\n",
       "      <td>M</td>\n",
       "      <td>A</td>\n",
       "    </tr>\n",
       "    <tr>\n",
       "      <th>2016-01-01</th>\n",
       "      <td>hindi</td>\n",
       "      <td>160</td>\n",
       "      <td>et</td>\n",
       "      <td>11.12</td>\n",
       "      <td>Yurt içi</td>\n",
       "      <td>M</td>\n",
       "      <td>A</td>\n",
       "    </tr>\n",
       "    <tr>\n",
       "      <th>2016-01-01</th>\n",
       "      <td>Bakla-kuru</td>\n",
       "      <td>354</td>\n",
       "      <td>sebze ve bakliyat</td>\n",
       "      <td>7.02</td>\n",
       "      <td>Yurt içi</td>\n",
       "      <td>M</td>\n",
       "      <td>A</td>\n",
       "    </tr>\n",
       "    <tr>\n",
       "      <th>2016-01-01</th>\n",
       "      <td>Bakla-taze</td>\n",
       "      <td>72</td>\n",
       "      <td>sebze ve bakliyat</td>\n",
       "      <td>13.14</td>\n",
       "      <td>Yurt içi</td>\n",
       "      <td>M</td>\n",
       "      <td>A</td>\n",
       "    </tr>\n",
       "  </tbody>\n",
       "</table>\n",
       "</div>"
      ],
      "text/plain": [
       "                  ürün  ürün besin değeri    ürün kategorisi  ürün fiyatı  \\\n",
       "tarih                                                                       \n",
       "2016-01-01       kıyma                120                 et        33.41   \n",
       "2016-01-01       tavuk                103                 et        11.22   \n",
       "2016-01-01       hindi                160                 et        11.12   \n",
       "2016-01-01  Bakla-kuru                354  sebze ve bakliyat         7.02   \n",
       "2016-01-01  Bakla-taze                 72  sebze ve bakliyat        13.14   \n",
       "\n",
       "           ürün üretim yeri market şehir  \n",
       "tarih                                     \n",
       "2016-01-01         Yurt içi      M     A  \n",
       "2016-01-01         Yurt içi      M     A  \n",
       "2016-01-01         Yurt içi      M     A  \n",
       "2016-01-01         Yurt içi      M     A  \n",
       "2016-01-01         Yurt içi      M     A  "
      ]
     },
     "execution_count": 45,
     "metadata": {},
     "output_type": "execute_result"
    }
   ],
   "source": [
    "train_copy = train_copy.set_index(\"tarih\")\n",
    "train_copy.head()"
   ]
  },
  {
   "cell_type": "code",
   "execution_count": 46,
   "id": "a47255f5-ddf1-4aee-bca0-be60fb03f2af",
   "metadata": {},
   "outputs": [],
   "source": [
    "testkopya = testkopya.set_index(\"tarih\")"
   ]
  },
  {
   "cell_type": "code",
   "execution_count": 47,
   "id": "84907a65-40f2-4ded-8e98-1898e73673ce",
   "metadata": {},
   "outputs": [
    {
     "data": {
      "text/html": [
       "<div>\n",
       "<style scoped>\n",
       "    .dataframe tbody tr th:only-of-type {\n",
       "        vertical-align: middle;\n",
       "    }\n",
       "\n",
       "    .dataframe tbody tr th {\n",
       "        vertical-align: top;\n",
       "    }\n",
       "\n",
       "    .dataframe thead th {\n",
       "        text-align: right;\n",
       "    }\n",
       "</style>\n",
       "<table border=\"1\" class=\"dataframe\">\n",
       "  <thead>\n",
       "    <tr style=\"text-align: right;\">\n",
       "      <th></th>\n",
       "      <th>id</th>\n",
       "      <th>ürün</th>\n",
       "      <th>ürün besin değeri</th>\n",
       "      <th>ürün kategorisi</th>\n",
       "      <th>ürün üretim yeri</th>\n",
       "      <th>market</th>\n",
       "      <th>şehir</th>\n",
       "    </tr>\n",
       "    <tr>\n",
       "      <th>tarih</th>\n",
       "      <th></th>\n",
       "      <th></th>\n",
       "      <th></th>\n",
       "      <th></th>\n",
       "      <th></th>\n",
       "      <th></th>\n",
       "      <th></th>\n",
       "    </tr>\n",
       "  </thead>\n",
       "  <tbody>\n",
       "    <tr>\n",
       "      <th>2021-01-01</th>\n",
       "      <td>0</td>\n",
       "      <td>kıyma</td>\n",
       "      <td>120</td>\n",
       "      <td>et</td>\n",
       "      <td>Yurt içi</td>\n",
       "      <td>M</td>\n",
       "      <td>A</td>\n",
       "    </tr>\n",
       "    <tr>\n",
       "      <th>2021-01-01</th>\n",
       "      <td>1</td>\n",
       "      <td>tavuk</td>\n",
       "      <td>103</td>\n",
       "      <td>et</td>\n",
       "      <td>Yurt içi</td>\n",
       "      <td>M</td>\n",
       "      <td>A</td>\n",
       "    </tr>\n",
       "    <tr>\n",
       "      <th>2021-01-01</th>\n",
       "      <td>2</td>\n",
       "      <td>hindi</td>\n",
       "      <td>160</td>\n",
       "      <td>et</td>\n",
       "      <td>Yurt içi</td>\n",
       "      <td>M</td>\n",
       "      <td>A</td>\n",
       "    </tr>\n",
       "    <tr>\n",
       "      <th>2021-01-01</th>\n",
       "      <td>3</td>\n",
       "      <td>Bakla-kuru</td>\n",
       "      <td>354</td>\n",
       "      <td>sebze ve bakliyat</td>\n",
       "      <td>Yurt içi</td>\n",
       "      <td>M</td>\n",
       "      <td>A</td>\n",
       "    </tr>\n",
       "    <tr>\n",
       "      <th>2021-01-01</th>\n",
       "      <td>4</td>\n",
       "      <td>Bakla-taze</td>\n",
       "      <td>72</td>\n",
       "      <td>sebze ve bakliyat</td>\n",
       "      <td>Yurt içi</td>\n",
       "      <td>M</td>\n",
       "      <td>A</td>\n",
       "    </tr>\n",
       "  </tbody>\n",
       "</table>\n",
       "</div>"
      ],
      "text/plain": [
       "            id        ürün  ürün besin değeri    ürün kategorisi  \\\n",
       "tarih                                                              \n",
       "2021-01-01   0       kıyma                120                 et   \n",
       "2021-01-01   1       tavuk                103                 et   \n",
       "2021-01-01   2       hindi                160                 et   \n",
       "2021-01-01   3  Bakla-kuru                354  sebze ve bakliyat   \n",
       "2021-01-01   4  Bakla-taze                 72  sebze ve bakliyat   \n",
       "\n",
       "           ürün üretim yeri market şehir  \n",
       "tarih                                     \n",
       "2021-01-01         Yurt içi      M     A  \n",
       "2021-01-01         Yurt içi      M     A  \n",
       "2021-01-01         Yurt içi      M     A  \n",
       "2021-01-01         Yurt içi      M     A  \n",
       "2021-01-01         Yurt içi      M     A  "
      ]
     },
     "execution_count": 47,
     "metadata": {},
     "output_type": "execute_result"
    }
   ],
   "source": [
    "testkopya.head()"
   ]
  },
  {
   "cell_type": "code",
   "execution_count": 48,
   "id": "35f8c3b2-a8c5-4da5-af87-2fd67d4f1e00",
   "metadata": {},
   "outputs": [],
   "source": [
    "tamDF = pd.concat([train_copy, testkopya])"
   ]
  },
  {
   "cell_type": "code",
   "execution_count": 49,
   "id": "99917ec0-635a-4e81-b874-b90de3010115",
   "metadata": {},
   "outputs": [
    {
     "data": {
      "text/html": [
       "<div>\n",
       "<style scoped>\n",
       "    .dataframe tbody tr th:only-of-type {\n",
       "        vertical-align: middle;\n",
       "    }\n",
       "\n",
       "    .dataframe tbody tr th {\n",
       "        vertical-align: top;\n",
       "    }\n",
       "\n",
       "    .dataframe thead th {\n",
       "        text-align: right;\n",
       "    }\n",
       "</style>\n",
       "<table border=\"1\" class=\"dataframe\">\n",
       "  <thead>\n",
       "    <tr style=\"text-align: right;\">\n",
       "      <th></th>\n",
       "      <th>ürün</th>\n",
       "      <th>ürün besin değeri</th>\n",
       "      <th>ürün kategorisi</th>\n",
       "      <th>ürün fiyatı</th>\n",
       "      <th>ürün üretim yeri</th>\n",
       "      <th>market</th>\n",
       "      <th>şehir</th>\n",
       "      <th>id</th>\n",
       "    </tr>\n",
       "    <tr>\n",
       "      <th>tarih</th>\n",
       "      <th></th>\n",
       "      <th></th>\n",
       "      <th></th>\n",
       "      <th></th>\n",
       "      <th></th>\n",
       "      <th></th>\n",
       "      <th></th>\n",
       "      <th></th>\n",
       "    </tr>\n",
       "  </thead>\n",
       "  <tbody>\n",
       "    <tr>\n",
       "      <th>2016-01-01</th>\n",
       "      <td>kıyma</td>\n",
       "      <td>120</td>\n",
       "      <td>et</td>\n",
       "      <td>33.41</td>\n",
       "      <td>Yurt içi</td>\n",
       "      <td>M</td>\n",
       "      <td>A</td>\n",
       "      <td>NaN</td>\n",
       "    </tr>\n",
       "    <tr>\n",
       "      <th>2016-01-01</th>\n",
       "      <td>tavuk</td>\n",
       "      <td>103</td>\n",
       "      <td>et</td>\n",
       "      <td>11.22</td>\n",
       "      <td>Yurt içi</td>\n",
       "      <td>M</td>\n",
       "      <td>A</td>\n",
       "      <td>NaN</td>\n",
       "    </tr>\n",
       "    <tr>\n",
       "      <th>2016-01-01</th>\n",
       "      <td>hindi</td>\n",
       "      <td>160</td>\n",
       "      <td>et</td>\n",
       "      <td>11.12</td>\n",
       "      <td>Yurt içi</td>\n",
       "      <td>M</td>\n",
       "      <td>A</td>\n",
       "      <td>NaN</td>\n",
       "    </tr>\n",
       "    <tr>\n",
       "      <th>2016-01-01</th>\n",
       "      <td>Bakla-kuru</td>\n",
       "      <td>354</td>\n",
       "      <td>sebze ve bakliyat</td>\n",
       "      <td>7.02</td>\n",
       "      <td>Yurt içi</td>\n",
       "      <td>M</td>\n",
       "      <td>A</td>\n",
       "      <td>NaN</td>\n",
       "    </tr>\n",
       "    <tr>\n",
       "      <th>2016-01-01</th>\n",
       "      <td>Bakla-taze</td>\n",
       "      <td>72</td>\n",
       "      <td>sebze ve bakliyat</td>\n",
       "      <td>13.14</td>\n",
       "      <td>Yurt içi</td>\n",
       "      <td>M</td>\n",
       "      <td>A</td>\n",
       "      <td>NaN</td>\n",
       "    </tr>\n",
       "  </tbody>\n",
       "</table>\n",
       "</div>"
      ],
      "text/plain": [
       "                  ürün  ürün besin değeri    ürün kategorisi  ürün fiyatı  \\\n",
       "tarih                                                                       \n",
       "2016-01-01       kıyma                120                 et        33.41   \n",
       "2016-01-01       tavuk                103                 et        11.22   \n",
       "2016-01-01       hindi                160                 et        11.12   \n",
       "2016-01-01  Bakla-kuru                354  sebze ve bakliyat         7.02   \n",
       "2016-01-01  Bakla-taze                 72  sebze ve bakliyat        13.14   \n",
       "\n",
       "           ürün üretim yeri market şehir  id  \n",
       "tarih                                         \n",
       "2016-01-01         Yurt içi      M     A NaN  \n",
       "2016-01-01         Yurt içi      M     A NaN  \n",
       "2016-01-01         Yurt içi      M     A NaN  \n",
       "2016-01-01         Yurt içi      M     A NaN  \n",
       "2016-01-01         Yurt içi      M     A NaN  "
      ]
     },
     "execution_count": 49,
     "metadata": {},
     "output_type": "execute_result"
    }
   ],
   "source": [
    "tamDF.head()"
   ]
  },
  {
   "cell_type": "code",
   "execution_count": 50,
   "id": "048e8935-2c7c-4dab-8eb6-c81becb763a9",
   "metadata": {},
   "outputs": [
    {
     "data": {
      "text/html": [
       "<div>\n",
       "<style scoped>\n",
       "    .dataframe tbody tr th:only-of-type {\n",
       "        vertical-align: middle;\n",
       "    }\n",
       "\n",
       "    .dataframe tbody tr th {\n",
       "        vertical-align: top;\n",
       "    }\n",
       "\n",
       "    .dataframe thead th {\n",
       "        text-align: right;\n",
       "    }\n",
       "</style>\n",
       "<table border=\"1\" class=\"dataframe\">\n",
       "  <thead>\n",
       "    <tr style=\"text-align: right;\">\n",
       "      <th></th>\n",
       "      <th>ürün</th>\n",
       "      <th>ürün besin değeri</th>\n",
       "      <th>ürün kategorisi</th>\n",
       "      <th>ürün fiyatı</th>\n",
       "      <th>ürün üretim yeri</th>\n",
       "      <th>market</th>\n",
       "      <th>şehir</th>\n",
       "      <th>id</th>\n",
       "    </tr>\n",
       "    <tr>\n",
       "      <th>tarih</th>\n",
       "      <th></th>\n",
       "      <th></th>\n",
       "      <th></th>\n",
       "      <th></th>\n",
       "      <th></th>\n",
       "      <th></th>\n",
       "      <th></th>\n",
       "      <th></th>\n",
       "    </tr>\n",
       "  </thead>\n",
       "  <tbody>\n",
       "    <tr>\n",
       "      <th>2021-12-01</th>\n",
       "      <td>fındık</td>\n",
       "      <td>110</td>\n",
       "      <td>kuruyemiş</td>\n",
       "      <td>NaN</td>\n",
       "      <td>Yurt dışı</td>\n",
       "      <td>B</td>\n",
       "      <td>H</td>\n",
       "      <td>45499.0</td>\n",
       "    </tr>\n",
       "    <tr>\n",
       "      <th>2021-12-01</th>\n",
       "      <td>fıstık</td>\n",
       "      <td>115</td>\n",
       "      <td>kuruyemiş</td>\n",
       "      <td>NaN</td>\n",
       "      <td>Yurt dışı</td>\n",
       "      <td>B</td>\n",
       "      <td>H</td>\n",
       "      <td>45500.0</td>\n",
       "    </tr>\n",
       "    <tr>\n",
       "      <th>2021-12-01</th>\n",
       "      <td>kaju</td>\n",
       "      <td>100</td>\n",
       "      <td>kuruyemiş</td>\n",
       "      <td>NaN</td>\n",
       "      <td>Yurt dışı</td>\n",
       "      <td>B</td>\n",
       "      <td>H</td>\n",
       "      <td>45501.0</td>\n",
       "    </tr>\n",
       "    <tr>\n",
       "      <th>2021-12-01</th>\n",
       "      <td>badem</td>\n",
       "      <td>110</td>\n",
       "      <td>kuruyemiş</td>\n",
       "      <td>NaN</td>\n",
       "      <td>Yurt dışı</td>\n",
       "      <td>B</td>\n",
       "      <td>H</td>\n",
       "      <td>45502.0</td>\n",
       "    </tr>\n",
       "    <tr>\n",
       "      <th>2021-12-01</th>\n",
       "      <td>ceviz</td>\n",
       "      <td>120</td>\n",
       "      <td>kuruyemiş</td>\n",
       "      <td>NaN</td>\n",
       "      <td>Yurt dışı</td>\n",
       "      <td>B</td>\n",
       "      <td>H</td>\n",
       "      <td>45503.0</td>\n",
       "    </tr>\n",
       "  </tbody>\n",
       "</table>\n",
       "</div>"
      ],
      "text/plain": [
       "              ürün  ürün besin değeri ürün kategorisi  ürün fiyatı  \\\n",
       "tarih                                                                \n",
       "2021-12-01  fındık                110       kuruyemiş          NaN   \n",
       "2021-12-01  fıstık                115       kuruyemiş          NaN   \n",
       "2021-12-01    kaju                100       kuruyemiş          NaN   \n",
       "2021-12-01   badem                110       kuruyemiş          NaN   \n",
       "2021-12-01   ceviz                120       kuruyemiş          NaN   \n",
       "\n",
       "           ürün üretim yeri market şehir       id  \n",
       "tarih                                              \n",
       "2021-12-01        Yurt dışı      B     H  45499.0  \n",
       "2021-12-01        Yurt dışı      B     H  45500.0  \n",
       "2021-12-01        Yurt dışı      B     H  45501.0  \n",
       "2021-12-01        Yurt dışı      B     H  45502.0  \n",
       "2021-12-01        Yurt dışı      B     H  45503.0  "
      ]
     },
     "execution_count": 50,
     "metadata": {},
     "output_type": "execute_result"
    }
   ],
   "source": [
    "tamDF.tail()"
   ]
  },
  {
   "cell_type": "code",
   "execution_count": 51,
   "id": "0591cb62-fe23-429d-955e-76433f7735d1",
   "metadata": {},
   "outputs": [
    {
     "data": {
      "text/html": [
       "<div>\n",
       "<style scoped>\n",
       "    .dataframe tbody tr th:only-of-type {\n",
       "        vertical-align: middle;\n",
       "    }\n",
       "\n",
       "    .dataframe tbody tr th {\n",
       "        vertical-align: top;\n",
       "    }\n",
       "\n",
       "    .dataframe thead th {\n",
       "        text-align: right;\n",
       "    }\n",
       "</style>\n",
       "<table border=\"1\" class=\"dataframe\">\n",
       "  <thead>\n",
       "    <tr style=\"text-align: right;\">\n",
       "      <th></th>\n",
       "      <th>Date</th>\n",
       "      <th>Price</th>\n",
       "      <th>Open</th>\n",
       "      <th>High</th>\n",
       "      <th>Low</th>\n",
       "      <th>Change %</th>\n",
       "    </tr>\n",
       "  </thead>\n",
       "  <tbody>\n",
       "    <tr>\n",
       "      <th>0</th>\n",
       "      <td>2016-01-01</td>\n",
       "      <td>2.9139</td>\n",
       "      <td>2.9177</td>\n",
       "      <td>2.9201</td>\n",
       "      <td>2.9129</td>\n",
       "      <td>-0.13%</td>\n",
       "    </tr>\n",
       "    <tr>\n",
       "      <th>1</th>\n",
       "      <td>2016-01-04</td>\n",
       "      <td>2.9642</td>\n",
       "      <td>2.9185</td>\n",
       "      <td>2.9810</td>\n",
       "      <td>2.9137</td>\n",
       "      <td>1.73%</td>\n",
       "    </tr>\n",
       "    <tr>\n",
       "      <th>2</th>\n",
       "      <td>2016-01-05</td>\n",
       "      <td>2.9852</td>\n",
       "      <td>2.9642</td>\n",
       "      <td>2.9918</td>\n",
       "      <td>2.9538</td>\n",
       "      <td>0.71%</td>\n",
       "    </tr>\n",
       "    <tr>\n",
       "      <th>3</th>\n",
       "      <td>2016-01-06</td>\n",
       "      <td>3.0024</td>\n",
       "      <td>2.9849</td>\n",
       "      <td>3.0160</td>\n",
       "      <td>2.9820</td>\n",
       "      <td>0.58%</td>\n",
       "    </tr>\n",
       "    <tr>\n",
       "      <th>4</th>\n",
       "      <td>2016-01-07</td>\n",
       "      <td>2.9993</td>\n",
       "      <td>3.0007</td>\n",
       "      <td>3.0290</td>\n",
       "      <td>2.9850</td>\n",
       "      <td>-0.10%</td>\n",
       "    </tr>\n",
       "  </tbody>\n",
       "</table>\n",
       "</div>"
      ],
      "text/plain": [
       "        Date   Price    Open    High     Low Change %\n",
       "0 2016-01-01  2.9139  2.9177  2.9201  2.9129   -0.13%\n",
       "1 2016-01-04  2.9642  2.9185  2.9810  2.9137    1.73%\n",
       "2 2016-01-05  2.9852  2.9642  2.9918  2.9538    0.71%\n",
       "3 2016-01-06  3.0024  2.9849  3.0160  2.9820    0.58%\n",
       "4 2016-01-07  2.9993  3.0007  3.0290  2.9850   -0.10%"
      ]
     },
     "execution_count": 51,
     "metadata": {},
     "output_type": "execute_result"
    }
   ],
   "source": [
    "trainUSD = pd.read_csv(\"~/Desktop/DataThon_Yarisma/trainUSD.csv\", parse_dates=['Date'])\n",
    "testUSD = pd.read_csv(\"~/Desktop/DataThon_Yarisma/testUSD.csv\", parse_dates=['Date'])\n",
    "trainUSD.head()"
   ]
  },
  {
   "cell_type": "code",
   "execution_count": 52,
   "id": "eac1b9fc-04b4-41c6-ab11-903b9718778c",
   "metadata": {},
   "outputs": [
    {
     "data": {
      "text/html": [
       "<div>\n",
       "<style scoped>\n",
       "    .dataframe tbody tr th:only-of-type {\n",
       "        vertical-align: middle;\n",
       "    }\n",
       "\n",
       "    .dataframe tbody tr th {\n",
       "        vertical-align: top;\n",
       "    }\n",
       "\n",
       "    .dataframe thead th {\n",
       "        text-align: right;\n",
       "    }\n",
       "</style>\n",
       "<table border=\"1\" class=\"dataframe\">\n",
       "  <thead>\n",
       "    <tr style=\"text-align: right;\">\n",
       "      <th></th>\n",
       "      <th>Date</th>\n",
       "      <th>Price</th>\n",
       "      <th>Open</th>\n",
       "      <th>High</th>\n",
       "      <th>Low</th>\n",
       "      <th>Change %</th>\n",
       "    </tr>\n",
       "  </thead>\n",
       "  <tbody>\n",
       "    <tr>\n",
       "      <th>0</th>\n",
       "      <td>2021-01-01</td>\n",
       "      <td>7.4392</td>\n",
       "      <td>7.4392</td>\n",
       "      <td>7.4392</td>\n",
       "      <td>7.4392</td>\n",
       "      <td>0.10%</td>\n",
       "    </tr>\n",
       "    <tr>\n",
       "      <th>1</th>\n",
       "      <td>2021-01-04</td>\n",
       "      <td>7.4198</td>\n",
       "      <td>7.4403</td>\n",
       "      <td>7.4470</td>\n",
       "      <td>7.3393</td>\n",
       "      <td>-0.26%</td>\n",
       "    </tr>\n",
       "    <tr>\n",
       "      <th>2</th>\n",
       "      <td>2021-01-05</td>\n",
       "      <td>7.3856</td>\n",
       "      <td>7.4263</td>\n",
       "      <td>7.4382</td>\n",
       "      <td>7.3591</td>\n",
       "      <td>-0.46%</td>\n",
       "    </tr>\n",
       "    <tr>\n",
       "      <th>3</th>\n",
       "      <td>2021-01-06</td>\n",
       "      <td>7.3047</td>\n",
       "      <td>7.3893</td>\n",
       "      <td>7.3973</td>\n",
       "      <td>7.2663</td>\n",
       "      <td>-1.10%</td>\n",
       "    </tr>\n",
       "    <tr>\n",
       "      <th>4</th>\n",
       "      <td>2021-01-07</td>\n",
       "      <td>7.3149</td>\n",
       "      <td>7.3067</td>\n",
       "      <td>7.3955</td>\n",
       "      <td>7.2372</td>\n",
       "      <td>0.14%</td>\n",
       "    </tr>\n",
       "  </tbody>\n",
       "</table>\n",
       "</div>"
      ],
      "text/plain": [
       "        Date   Price    Open    High     Low Change %\n",
       "0 2021-01-01  7.4392  7.4392  7.4392  7.4392    0.10%\n",
       "1 2021-01-04  7.4198  7.4403  7.4470  7.3393   -0.26%\n",
       "2 2021-01-05  7.3856  7.4263  7.4382  7.3591   -0.46%\n",
       "3 2021-01-06  7.3047  7.3893  7.3973  7.2663   -1.10%\n",
       "4 2021-01-07  7.3149  7.3067  7.3955  7.2372    0.14%"
      ]
     },
     "execution_count": 52,
     "metadata": {},
     "output_type": "execute_result"
    }
   ],
   "source": [
    "testUSD.head()"
   ]
  },
  {
   "cell_type": "code",
   "execution_count": 53,
   "id": "3fd1729d-5894-4983-84f0-910c1c530d9a",
   "metadata": {},
   "outputs": [],
   "source": [
    "trainUSD = trainUSD.set_index(\"Date\")\n",
    "testUSD = testUSD.set_index(\"Date\")"
   ]
  },
  {
   "cell_type": "code",
   "execution_count": 54,
   "id": "81a91387-7b37-42f3-b57f-c903a0b85b97",
   "metadata": {},
   "outputs": [],
   "source": [
    "tamUSD = pd.concat([trainUSD, testUSD])"
   ]
  },
  {
   "cell_type": "code",
   "execution_count": 55,
   "id": "d5cc778a-6687-401b-adef-23f374c6ee20",
   "metadata": {},
   "outputs": [
    {
     "data": {
      "text/html": [
       "<div>\n",
       "<style scoped>\n",
       "    .dataframe tbody tr th:only-of-type {\n",
       "        vertical-align: middle;\n",
       "    }\n",
       "\n",
       "    .dataframe tbody tr th {\n",
       "        vertical-align: top;\n",
       "    }\n",
       "\n",
       "    .dataframe thead th {\n",
       "        text-align: right;\n",
       "    }\n",
       "</style>\n",
       "<table border=\"1\" class=\"dataframe\">\n",
       "  <thead>\n",
       "    <tr style=\"text-align: right;\">\n",
       "      <th></th>\n",
       "      <th>Price</th>\n",
       "      <th>Open</th>\n",
       "      <th>High</th>\n",
       "      <th>Low</th>\n",
       "      <th>Change %</th>\n",
       "    </tr>\n",
       "    <tr>\n",
       "      <th>Date</th>\n",
       "      <th></th>\n",
       "      <th></th>\n",
       "      <th></th>\n",
       "      <th></th>\n",
       "      <th></th>\n",
       "    </tr>\n",
       "  </thead>\n",
       "  <tbody>\n",
       "    <tr>\n",
       "      <th>2016-01-01</th>\n",
       "      <td>2.9139</td>\n",
       "      <td>2.9177</td>\n",
       "      <td>2.9201</td>\n",
       "      <td>2.9129</td>\n",
       "      <td>-0.13%</td>\n",
       "    </tr>\n",
       "    <tr>\n",
       "      <th>2016-01-04</th>\n",
       "      <td>2.9642</td>\n",
       "      <td>2.9185</td>\n",
       "      <td>2.9810</td>\n",
       "      <td>2.9137</td>\n",
       "      <td>1.73%</td>\n",
       "    </tr>\n",
       "    <tr>\n",
       "      <th>2016-01-05</th>\n",
       "      <td>2.9852</td>\n",
       "      <td>2.9642</td>\n",
       "      <td>2.9918</td>\n",
       "      <td>2.9538</td>\n",
       "      <td>0.71%</td>\n",
       "    </tr>\n",
       "    <tr>\n",
       "      <th>2016-01-06</th>\n",
       "      <td>3.0024</td>\n",
       "      <td>2.9849</td>\n",
       "      <td>3.0160</td>\n",
       "      <td>2.9820</td>\n",
       "      <td>0.58%</td>\n",
       "    </tr>\n",
       "    <tr>\n",
       "      <th>2016-01-07</th>\n",
       "      <td>2.9993</td>\n",
       "      <td>3.0007</td>\n",
       "      <td>3.0290</td>\n",
       "      <td>2.9850</td>\n",
       "      <td>-0.10%</td>\n",
       "    </tr>\n",
       "  </tbody>\n",
       "</table>\n",
       "</div>"
      ],
      "text/plain": [
       "             Price    Open    High     Low Change %\n",
       "Date                                               \n",
       "2016-01-01  2.9139  2.9177  2.9201  2.9129   -0.13%\n",
       "2016-01-04  2.9642  2.9185  2.9810  2.9137    1.73%\n",
       "2016-01-05  2.9852  2.9642  2.9918  2.9538    0.71%\n",
       "2016-01-06  3.0024  2.9849  3.0160  2.9820    0.58%\n",
       "2016-01-07  2.9993  3.0007  3.0290  2.9850   -0.10%"
      ]
     },
     "execution_count": 55,
     "metadata": {},
     "output_type": "execute_result"
    }
   ],
   "source": [
    "tamUSD.head()"
   ]
  },
  {
   "cell_type": "code",
   "execution_count": 56,
   "id": "7d3c5a4f-9514-4ae2-9ce3-25329ef7f9d0",
   "metadata": {},
   "outputs": [],
   "source": [
    "DF = tamDF.join(tamUSD)"
   ]
  },
  {
   "cell_type": "code",
   "execution_count": 57,
   "id": "f5339c90-9277-4553-b05a-4bf687b27d87",
   "metadata": {},
   "outputs": [
    {
     "data": {
      "text/html": [
       "<div>\n",
       "<style scoped>\n",
       "    .dataframe tbody tr th:only-of-type {\n",
       "        vertical-align: middle;\n",
       "    }\n",
       "\n",
       "    .dataframe tbody tr th {\n",
       "        vertical-align: top;\n",
       "    }\n",
       "\n",
       "    .dataframe thead th {\n",
       "        text-align: right;\n",
       "    }\n",
       "</style>\n",
       "<table border=\"1\" class=\"dataframe\">\n",
       "  <thead>\n",
       "    <tr style=\"text-align: right;\">\n",
       "      <th></th>\n",
       "      <th>ürün</th>\n",
       "      <th>ürün besin değeri</th>\n",
       "      <th>ürün kategorisi</th>\n",
       "      <th>ürün fiyatı</th>\n",
       "      <th>ürün üretim yeri</th>\n",
       "      <th>market</th>\n",
       "      <th>şehir</th>\n",
       "      <th>id</th>\n",
       "      <th>Price</th>\n",
       "      <th>Open</th>\n",
       "      <th>High</th>\n",
       "      <th>Low</th>\n",
       "      <th>Change %</th>\n",
       "    </tr>\n",
       "  </thead>\n",
       "  <tbody>\n",
       "    <tr>\n",
       "      <th>2016-01-01</th>\n",
       "      <td>kıyma</td>\n",
       "      <td>120</td>\n",
       "      <td>et</td>\n",
       "      <td>33.41</td>\n",
       "      <td>Yurt içi</td>\n",
       "      <td>M</td>\n",
       "      <td>A</td>\n",
       "      <td>NaN</td>\n",
       "      <td>2.9139</td>\n",
       "      <td>2.9177</td>\n",
       "      <td>2.9201</td>\n",
       "      <td>2.9129</td>\n",
       "      <td>-0.13%</td>\n",
       "    </tr>\n",
       "    <tr>\n",
       "      <th>2016-01-01</th>\n",
       "      <td>tavuk</td>\n",
       "      <td>103</td>\n",
       "      <td>et</td>\n",
       "      <td>11.22</td>\n",
       "      <td>Yurt içi</td>\n",
       "      <td>M</td>\n",
       "      <td>A</td>\n",
       "      <td>NaN</td>\n",
       "      <td>2.9139</td>\n",
       "      <td>2.9177</td>\n",
       "      <td>2.9201</td>\n",
       "      <td>2.9129</td>\n",
       "      <td>-0.13%</td>\n",
       "    </tr>\n",
       "    <tr>\n",
       "      <th>2016-01-01</th>\n",
       "      <td>hindi</td>\n",
       "      <td>160</td>\n",
       "      <td>et</td>\n",
       "      <td>11.12</td>\n",
       "      <td>Yurt içi</td>\n",
       "      <td>M</td>\n",
       "      <td>A</td>\n",
       "      <td>NaN</td>\n",
       "      <td>2.9139</td>\n",
       "      <td>2.9177</td>\n",
       "      <td>2.9201</td>\n",
       "      <td>2.9129</td>\n",
       "      <td>-0.13%</td>\n",
       "    </tr>\n",
       "    <tr>\n",
       "      <th>2016-01-01</th>\n",
       "      <td>Bakla-kuru</td>\n",
       "      <td>354</td>\n",
       "      <td>sebze ve bakliyat</td>\n",
       "      <td>7.02</td>\n",
       "      <td>Yurt içi</td>\n",
       "      <td>M</td>\n",
       "      <td>A</td>\n",
       "      <td>NaN</td>\n",
       "      <td>2.9139</td>\n",
       "      <td>2.9177</td>\n",
       "      <td>2.9201</td>\n",
       "      <td>2.9129</td>\n",
       "      <td>-0.13%</td>\n",
       "    </tr>\n",
       "    <tr>\n",
       "      <th>2016-01-01</th>\n",
       "      <td>Bakla-taze</td>\n",
       "      <td>72</td>\n",
       "      <td>sebze ve bakliyat</td>\n",
       "      <td>13.14</td>\n",
       "      <td>Yurt içi</td>\n",
       "      <td>M</td>\n",
       "      <td>A</td>\n",
       "      <td>NaN</td>\n",
       "      <td>2.9139</td>\n",
       "      <td>2.9177</td>\n",
       "      <td>2.9201</td>\n",
       "      <td>2.9129</td>\n",
       "      <td>-0.13%</td>\n",
       "    </tr>\n",
       "  </tbody>\n",
       "</table>\n",
       "</div>"
      ],
      "text/plain": [
       "                  ürün  ürün besin değeri    ürün kategorisi  ürün fiyatı  \\\n",
       "2016-01-01       kıyma                120                 et        33.41   \n",
       "2016-01-01       tavuk                103                 et        11.22   \n",
       "2016-01-01       hindi                160                 et        11.12   \n",
       "2016-01-01  Bakla-kuru                354  sebze ve bakliyat         7.02   \n",
       "2016-01-01  Bakla-taze                 72  sebze ve bakliyat        13.14   \n",
       "\n",
       "           ürün üretim yeri market şehir  id   Price    Open    High     Low  \\\n",
       "2016-01-01         Yurt içi      M     A NaN  2.9139  2.9177  2.9201  2.9129   \n",
       "2016-01-01         Yurt içi      M     A NaN  2.9139  2.9177  2.9201  2.9129   \n",
       "2016-01-01         Yurt içi      M     A NaN  2.9139  2.9177  2.9201  2.9129   \n",
       "2016-01-01         Yurt içi      M     A NaN  2.9139  2.9177  2.9201  2.9129   \n",
       "2016-01-01         Yurt içi      M     A NaN  2.9139  2.9177  2.9201  2.9129   \n",
       "\n",
       "           Change %  \n",
       "2016-01-01   -0.13%  \n",
       "2016-01-01   -0.13%  \n",
       "2016-01-01   -0.13%  \n",
       "2016-01-01   -0.13%  \n",
       "2016-01-01   -0.13%  "
      ]
     },
     "execution_count": 57,
     "metadata": {},
     "output_type": "execute_result"
    }
   ],
   "source": [
    "DF.head()"
   ]
  },
  {
   "cell_type": "code",
   "execution_count": 58,
   "id": "0f45dd75-99e5-4dc4-8169-a229582b29f2",
   "metadata": {},
   "outputs": [
    {
     "data": {
      "text/html": [
       "<div>\n",
       "<style scoped>\n",
       "    .dataframe tbody tr th:only-of-type {\n",
       "        vertical-align: middle;\n",
       "    }\n",
       "\n",
       "    .dataframe tbody tr th {\n",
       "        vertical-align: top;\n",
       "    }\n",
       "\n",
       "    .dataframe thead th {\n",
       "        text-align: right;\n",
       "    }\n",
       "</style>\n",
       "<table border=\"1\" class=\"dataframe\">\n",
       "  <thead>\n",
       "    <tr style=\"text-align: right;\">\n",
       "      <th></th>\n",
       "      <th>ürün</th>\n",
       "      <th>ürün besin değeri</th>\n",
       "      <th>ürün kategorisi</th>\n",
       "      <th>ürün fiyatı</th>\n",
       "      <th>ürün üretim yeri</th>\n",
       "      <th>market</th>\n",
       "      <th>şehir</th>\n",
       "      <th>id</th>\n",
       "      <th>Price</th>\n",
       "      <th>Open</th>\n",
       "      <th>High</th>\n",
       "      <th>Low</th>\n",
       "      <th>Change %</th>\n",
       "    </tr>\n",
       "  </thead>\n",
       "  <tbody>\n",
       "    <tr>\n",
       "      <th>2021-12-01</th>\n",
       "      <td>fındık</td>\n",
       "      <td>110</td>\n",
       "      <td>kuruyemiş</td>\n",
       "      <td>NaN</td>\n",
       "      <td>Yurt dışı</td>\n",
       "      <td>B</td>\n",
       "      <td>H</td>\n",
       "      <td>45499.0</td>\n",
       "      <td>13.2635</td>\n",
       "      <td>13.4856</td>\n",
       "      <td>13.8983</td>\n",
       "      <td>12.3977</td>\n",
       "      <td>-1.56%</td>\n",
       "    </tr>\n",
       "    <tr>\n",
       "      <th>2021-12-01</th>\n",
       "      <td>fıstık</td>\n",
       "      <td>115</td>\n",
       "      <td>kuruyemiş</td>\n",
       "      <td>NaN</td>\n",
       "      <td>Yurt dışı</td>\n",
       "      <td>B</td>\n",
       "      <td>H</td>\n",
       "      <td>45500.0</td>\n",
       "      <td>13.2635</td>\n",
       "      <td>13.4856</td>\n",
       "      <td>13.8983</td>\n",
       "      <td>12.3977</td>\n",
       "      <td>-1.56%</td>\n",
       "    </tr>\n",
       "    <tr>\n",
       "      <th>2021-12-01</th>\n",
       "      <td>kaju</td>\n",
       "      <td>100</td>\n",
       "      <td>kuruyemiş</td>\n",
       "      <td>NaN</td>\n",
       "      <td>Yurt dışı</td>\n",
       "      <td>B</td>\n",
       "      <td>H</td>\n",
       "      <td>45501.0</td>\n",
       "      <td>13.2635</td>\n",
       "      <td>13.4856</td>\n",
       "      <td>13.8983</td>\n",
       "      <td>12.3977</td>\n",
       "      <td>-1.56%</td>\n",
       "    </tr>\n",
       "    <tr>\n",
       "      <th>2021-12-01</th>\n",
       "      <td>badem</td>\n",
       "      <td>110</td>\n",
       "      <td>kuruyemiş</td>\n",
       "      <td>NaN</td>\n",
       "      <td>Yurt dışı</td>\n",
       "      <td>B</td>\n",
       "      <td>H</td>\n",
       "      <td>45502.0</td>\n",
       "      <td>13.2635</td>\n",
       "      <td>13.4856</td>\n",
       "      <td>13.8983</td>\n",
       "      <td>12.3977</td>\n",
       "      <td>-1.56%</td>\n",
       "    </tr>\n",
       "    <tr>\n",
       "      <th>2021-12-01</th>\n",
       "      <td>ceviz</td>\n",
       "      <td>120</td>\n",
       "      <td>kuruyemiş</td>\n",
       "      <td>NaN</td>\n",
       "      <td>Yurt dışı</td>\n",
       "      <td>B</td>\n",
       "      <td>H</td>\n",
       "      <td>45503.0</td>\n",
       "      <td>13.2635</td>\n",
       "      <td>13.4856</td>\n",
       "      <td>13.8983</td>\n",
       "      <td>12.3977</td>\n",
       "      <td>-1.56%</td>\n",
       "    </tr>\n",
       "  </tbody>\n",
       "</table>\n",
       "</div>"
      ],
      "text/plain": [
       "              ürün  ürün besin değeri ürün kategorisi  ürün fiyatı  \\\n",
       "2021-12-01  fındık                110       kuruyemiş          NaN   \n",
       "2021-12-01  fıstık                115       kuruyemiş          NaN   \n",
       "2021-12-01    kaju                100       kuruyemiş          NaN   \n",
       "2021-12-01   badem                110       kuruyemiş          NaN   \n",
       "2021-12-01   ceviz                120       kuruyemiş          NaN   \n",
       "\n",
       "           ürün üretim yeri market şehir       id    Price     Open     High  \\\n",
       "2021-12-01        Yurt dışı      B     H  45499.0  13.2635  13.4856  13.8983   \n",
       "2021-12-01        Yurt dışı      B     H  45500.0  13.2635  13.4856  13.8983   \n",
       "2021-12-01        Yurt dışı      B     H  45501.0  13.2635  13.4856  13.8983   \n",
       "2021-12-01        Yurt dışı      B     H  45502.0  13.2635  13.4856  13.8983   \n",
       "2021-12-01        Yurt dışı      B     H  45503.0  13.2635  13.4856  13.8983   \n",
       "\n",
       "                Low Change %  \n",
       "2021-12-01  12.3977   -1.56%  \n",
       "2021-12-01  12.3977   -1.56%  \n",
       "2021-12-01  12.3977   -1.56%  \n",
       "2021-12-01  12.3977   -1.56%  \n",
       "2021-12-01  12.3977   -1.56%  "
      ]
     },
     "execution_count": 58,
     "metadata": {},
     "output_type": "execute_result"
    }
   ],
   "source": [
    "DF.tail()"
   ]
  },
  {
   "cell_type": "code",
   "execution_count": 59,
   "id": "3260ec78-0a65-4a1a-9f0b-cbdcf5e42954",
   "metadata": {},
   "outputs": [
    {
     "data": {
      "text/plain": [
       "72048"
      ]
     },
     "execution_count": 59,
     "metadata": {},
     "output_type": "execute_result"
    }
   ],
   "source": [
    "DF.Price.isna().sum()"
   ]
  },
  {
   "cell_type": "code",
   "execution_count": 60,
   "id": "5108e702-89ed-4392-bb20-ebec1cdb25a6",
   "metadata": {},
   "outputs": [
    {
     "data": {
      "text/plain": [
       "DatetimeIndex(['2016-05-01', '2016-10-01', '2017-01-01', '2017-04-01',\n",
       "               '2017-07-01', '2017-10-01', '2018-04-01', '2018-07-01',\n",
       "               '2018-09-01', '2018-12-01', '2019-06-01', '2019-09-01',\n",
       "               '2019-12-01', '2020-02-01', '2020-03-01', '2020-08-01',\n",
       "               '2020-11-01', '2021-05-01', '2021-08-01'],\n",
       "              dtype='datetime64[ns]', freq=None)"
      ]
     },
     "execution_count": 60,
     "metadata": {},
     "output_type": "execute_result"
    }
   ],
   "source": [
    "NaN_price_list = DF[DF['Price'].isna()].index.unique()\n",
    "NaN_price_list"
   ]
  },
  {
   "cell_type": "code",
   "execution_count": 61,
   "id": "e9cb592e-6150-4c44-94b1-9be0497ffdd3",
   "metadata": {},
   "outputs": [],
   "source": [
    "for weekend in NaN_price_list:\n",
    "    DF.loc[weekend, \"Price\"] = tamUSD.loc[weekend - timedelta(2), \"Price\"]"
   ]
  },
  {
   "cell_type": "code",
   "execution_count": 62,
   "id": "d493dbde-933a-4c95-a7be-6f11bf6605c4",
   "metadata": {},
   "outputs": [
    {
     "data": {
      "text/plain": [
       "2021-05-01    8.2105\n",
       "2021-05-01    8.2105\n",
       "2021-05-01    8.2105\n",
       "2021-05-01    8.2105\n",
       "2021-05-01    8.2105\n",
       "               ...  \n",
       "2021-05-01    8.2105\n",
       "2021-05-01    8.2105\n",
       "2021-05-01    8.2105\n",
       "2021-05-01    8.2105\n",
       "2021-05-01    8.2105\n",
       "Name: Price, Length: 3792, dtype: float64"
      ]
     },
     "execution_count": 62,
     "metadata": {},
     "output_type": "execute_result"
    }
   ],
   "source": [
    "DF.loc[NaN_price_list[17], \"Price\"]"
   ]
  },
  {
   "cell_type": "code",
   "execution_count": 63,
   "id": "06c3d529-0fd7-45dd-b456-f960c30fd826",
   "metadata": {},
   "outputs": [
    {
     "data": {
      "text/plain": [
       "0"
      ]
     },
     "execution_count": 63,
     "metadata": {},
     "output_type": "execute_result"
    }
   ],
   "source": [
    "DF[\"Price\"].isnull().sum()"
   ]
  },
  {
   "cell_type": "markdown",
   "id": "7235f6f6-5e8c-412b-bdd7-dc31a56fa890",
   "metadata": {},
   "source": [
    "## Enflasyonun eklenmesi"
   ]
  },
  {
   "cell_type": "code",
   "execution_count": 64,
   "id": "31a50a75-0e41-4b60-b8ef-3588a0fbf3c7",
   "metadata": {},
   "outputs": [
    {
     "data": {
      "text/html": [
       "<div>\n",
       "<style scoped>\n",
       "    .dataframe tbody tr th:only-of-type {\n",
       "        vertical-align: middle;\n",
       "    }\n",
       "\n",
       "    .dataframe tbody tr th {\n",
       "        vertical-align: top;\n",
       "    }\n",
       "\n",
       "    .dataframe thead th {\n",
       "        text-align: right;\n",
       "    }\n",
       "</style>\n",
       "<table border=\"1\" class=\"dataframe\">\n",
       "  <thead>\n",
       "    <tr style=\"text-align: right;\">\n",
       "      <th></th>\n",
       "      <th>tarih</th>\n",
       "      <th>yillik tufe</th>\n",
       "      <th>aylık tufe</th>\n",
       "    </tr>\n",
       "  </thead>\n",
       "  <tbody>\n",
       "    <tr>\n",
       "      <th>0</th>\n",
       "      <td>1.01.2016</td>\n",
       "      <td>9.58</td>\n",
       "      <td>1.82</td>\n",
       "    </tr>\n",
       "    <tr>\n",
       "      <th>1</th>\n",
       "      <td>1.02.2016</td>\n",
       "      <td>8.78</td>\n",
       "      <td>-0.02</td>\n",
       "    </tr>\n",
       "    <tr>\n",
       "      <th>2</th>\n",
       "      <td>1.03.2016</td>\n",
       "      <td>7.46</td>\n",
       "      <td>-0.04</td>\n",
       "    </tr>\n",
       "    <tr>\n",
       "      <th>3</th>\n",
       "      <td>1.04.2016</td>\n",
       "      <td>6.57</td>\n",
       "      <td>0.78</td>\n",
       "    </tr>\n",
       "    <tr>\n",
       "      <th>4</th>\n",
       "      <td>1.05.2016</td>\n",
       "      <td>6.58</td>\n",
       "      <td>0.58</td>\n",
       "    </tr>\n",
       "    <tr>\n",
       "      <th>...</th>\n",
       "      <td>...</td>\n",
       "      <td>...</td>\n",
       "      <td>...</td>\n",
       "    </tr>\n",
       "    <tr>\n",
       "      <th>67</th>\n",
       "      <td>1.08.2021</td>\n",
       "      <td>19.25</td>\n",
       "      <td>1.12</td>\n",
       "    </tr>\n",
       "    <tr>\n",
       "      <th>68</th>\n",
       "      <td>1.09.2021</td>\n",
       "      <td>19.58</td>\n",
       "      <td>1.25</td>\n",
       "    </tr>\n",
       "    <tr>\n",
       "      <th>69</th>\n",
       "      <td>1.10.2021</td>\n",
       "      <td>19.89</td>\n",
       "      <td>2.39</td>\n",
       "    </tr>\n",
       "    <tr>\n",
       "      <th>70</th>\n",
       "      <td>1.11.2021</td>\n",
       "      <td>21.31</td>\n",
       "      <td>3.51</td>\n",
       "    </tr>\n",
       "    <tr>\n",
       "      <th>71</th>\n",
       "      <td>1.12.2021</td>\n",
       "      <td>36.08</td>\n",
       "      <td>13.58</td>\n",
       "    </tr>\n",
       "  </tbody>\n",
       "</table>\n",
       "<p>72 rows × 3 columns</p>\n",
       "</div>"
      ],
      "text/plain": [
       "        tarih  yillik tufe  aylık tufe\n",
       "0   1.01.2016         9.58        1.82\n",
       "1   1.02.2016         8.78       -0.02\n",
       "2   1.03.2016         7.46       -0.04\n",
       "3   1.04.2016         6.57        0.78\n",
       "4   1.05.2016         6.58        0.58\n",
       "..        ...          ...         ...\n",
       "67  1.08.2021        19.25        1.12\n",
       "68  1.09.2021        19.58        1.25\n",
       "69  1.10.2021        19.89        2.39\n",
       "70  1.11.2021        21.31        3.51\n",
       "71  1.12.2021        36.08       13.58\n",
       "\n",
       "[72 rows x 3 columns]"
      ]
     },
     "execution_count": 64,
     "metadata": {},
     "output_type": "execute_result"
    }
   ],
   "source": [
    "inflation = pd.read_csv(\"~/Desktop/DataThon_Yarisma/inflationReis.csv\", delimiter=\";\")\n",
    "inflation.head(100)"
   ]
  },
  {
   "cell_type": "markdown",
   "id": "2e11508c-750b-4704-8ab2-5e8c240d2cd8",
   "metadata": {},
   "source": [
    "## inflation['tarih']= pd.to_datetime(inflation['tarih'])"
   ]
  },
  {
   "cell_type": "code",
   "execution_count": 66,
   "id": "72f40f42-8077-4c15-b1f9-6acb7603ba6b",
   "metadata": {},
   "outputs": [
    {
     "data": {
      "text/plain": [
       "0    2016-01-01\n",
       "1    2016-01-02\n",
       "2    2016-01-03\n",
       "3    2016-01-04\n",
       "4    2016-01-05\n",
       "        ...    \n",
       "67   2021-01-08\n",
       "68   2021-01-09\n",
       "69   2021-01-10\n",
       "70   2021-01-11\n",
       "71   2021-01-12\n",
       "Name: tarih, Length: 72, dtype: datetime64[ns]"
      ]
     },
     "execution_count": 66,
     "metadata": {},
     "output_type": "execute_result"
    }
   ],
   "source": [
    "inflation.tarih"
   ]
  },
  {
   "cell_type": "code",
   "execution_count": 67,
   "id": "a10e40e3-f492-466c-a22e-f91248f486c0",
   "metadata": {},
   "outputs": [],
   "source": [
    "inflation = inflation.set_index(\"tarih\")"
   ]
  },
  {
   "cell_type": "code",
   "execution_count": 68,
   "id": "17c7df55-db87-43c0-93f4-51e92a5548f3",
   "metadata": {},
   "outputs": [
    {
     "data": {
      "text/html": [
       "<div>\n",
       "<style scoped>\n",
       "    .dataframe tbody tr th:only-of-type {\n",
       "        vertical-align: middle;\n",
       "    }\n",
       "\n",
       "    .dataframe tbody tr th {\n",
       "        vertical-align: top;\n",
       "    }\n",
       "\n",
       "    .dataframe thead th {\n",
       "        text-align: right;\n",
       "    }\n",
       "</style>\n",
       "<table border=\"1\" class=\"dataframe\">\n",
       "  <thead>\n",
       "    <tr style=\"text-align: right;\">\n",
       "      <th></th>\n",
       "      <th>yillik tufe</th>\n",
       "      <th>aylık tufe</th>\n",
       "    </tr>\n",
       "    <tr>\n",
       "      <th>tarih</th>\n",
       "      <th></th>\n",
       "      <th></th>\n",
       "    </tr>\n",
       "  </thead>\n",
       "  <tbody>\n",
       "    <tr>\n",
       "      <th>2016-01-01</th>\n",
       "      <td>9.58</td>\n",
       "      <td>1.82</td>\n",
       "    </tr>\n",
       "    <tr>\n",
       "      <th>2016-01-02</th>\n",
       "      <td>8.78</td>\n",
       "      <td>-0.02</td>\n",
       "    </tr>\n",
       "    <tr>\n",
       "      <th>2016-01-03</th>\n",
       "      <td>7.46</td>\n",
       "      <td>-0.04</td>\n",
       "    </tr>\n",
       "    <tr>\n",
       "      <th>2016-01-04</th>\n",
       "      <td>6.57</td>\n",
       "      <td>0.78</td>\n",
       "    </tr>\n",
       "    <tr>\n",
       "      <th>2016-01-05</th>\n",
       "      <td>6.58</td>\n",
       "      <td>0.58</td>\n",
       "    </tr>\n",
       "    <tr>\n",
       "      <th>...</th>\n",
       "      <td>...</td>\n",
       "      <td>...</td>\n",
       "    </tr>\n",
       "    <tr>\n",
       "      <th>2021-01-08</th>\n",
       "      <td>19.25</td>\n",
       "      <td>1.12</td>\n",
       "    </tr>\n",
       "    <tr>\n",
       "      <th>2021-01-09</th>\n",
       "      <td>19.58</td>\n",
       "      <td>1.25</td>\n",
       "    </tr>\n",
       "    <tr>\n",
       "      <th>2021-01-10</th>\n",
       "      <td>19.89</td>\n",
       "      <td>2.39</td>\n",
       "    </tr>\n",
       "    <tr>\n",
       "      <th>2021-01-11</th>\n",
       "      <td>21.31</td>\n",
       "      <td>3.51</td>\n",
       "    </tr>\n",
       "    <tr>\n",
       "      <th>2021-01-12</th>\n",
       "      <td>36.08</td>\n",
       "      <td>13.58</td>\n",
       "    </tr>\n",
       "  </tbody>\n",
       "</table>\n",
       "<p>72 rows × 2 columns</p>\n",
       "</div>"
      ],
      "text/plain": [
       "            yillik tufe  aylık tufe\n",
       "tarih                              \n",
       "2016-01-01         9.58        1.82\n",
       "2016-01-02         8.78       -0.02\n",
       "2016-01-03         7.46       -0.04\n",
       "2016-01-04         6.57        0.78\n",
       "2016-01-05         6.58        0.58\n",
       "...                 ...         ...\n",
       "2021-01-08        19.25        1.12\n",
       "2021-01-09        19.58        1.25\n",
       "2021-01-10        19.89        2.39\n",
       "2021-01-11        21.31        3.51\n",
       "2021-01-12        36.08       13.58\n",
       "\n",
       "[72 rows x 2 columns]"
      ]
     },
     "execution_count": 68,
     "metadata": {},
     "output_type": "execute_result"
    }
   ],
   "source": [
    "inflation"
   ]
  },
  {
   "cell_type": "code",
   "execution_count": 69,
   "id": "c758714c-df50-42e1-8cd6-22467e906f52",
   "metadata": {},
   "outputs": [
    {
     "data": {
      "text/html": [
       "<div>\n",
       "<style scoped>\n",
       "    .dataframe tbody tr th:only-of-type {\n",
       "        vertical-align: middle;\n",
       "    }\n",
       "\n",
       "    .dataframe tbody tr th {\n",
       "        vertical-align: top;\n",
       "    }\n",
       "\n",
       "    .dataframe thead th {\n",
       "        text-align: right;\n",
       "    }\n",
       "</style>\n",
       "<table border=\"1\" class=\"dataframe\">\n",
       "  <thead>\n",
       "    <tr style=\"text-align: right;\">\n",
       "      <th></th>\n",
       "      <th>ürün</th>\n",
       "      <th>ürün besin değeri</th>\n",
       "      <th>ürün kategorisi</th>\n",
       "      <th>ürün fiyatı</th>\n",
       "      <th>ürün üretim yeri</th>\n",
       "      <th>market</th>\n",
       "      <th>şehir</th>\n",
       "      <th>id</th>\n",
       "      <th>Price</th>\n",
       "      <th>Open</th>\n",
       "      <th>High</th>\n",
       "      <th>Low</th>\n",
       "      <th>Change %</th>\n",
       "      <th>yillik tufe</th>\n",
       "      <th>aylık tufe</th>\n",
       "    </tr>\n",
       "  </thead>\n",
       "  <tbody>\n",
       "    <tr>\n",
       "      <th>2016-01-01</th>\n",
       "      <td>kıyma</td>\n",
       "      <td>120</td>\n",
       "      <td>et</td>\n",
       "      <td>33.41</td>\n",
       "      <td>Yurt içi</td>\n",
       "      <td>M</td>\n",
       "      <td>A</td>\n",
       "      <td>NaN</td>\n",
       "      <td>2.9139</td>\n",
       "      <td>2.9177</td>\n",
       "      <td>2.9201</td>\n",
       "      <td>2.9129</td>\n",
       "      <td>-0.13%</td>\n",
       "      <td>9.58</td>\n",
       "      <td>1.82</td>\n",
       "    </tr>\n",
       "    <tr>\n",
       "      <th>2016-01-01</th>\n",
       "      <td>tavuk</td>\n",
       "      <td>103</td>\n",
       "      <td>et</td>\n",
       "      <td>11.22</td>\n",
       "      <td>Yurt içi</td>\n",
       "      <td>M</td>\n",
       "      <td>A</td>\n",
       "      <td>NaN</td>\n",
       "      <td>2.9139</td>\n",
       "      <td>2.9177</td>\n",
       "      <td>2.9201</td>\n",
       "      <td>2.9129</td>\n",
       "      <td>-0.13%</td>\n",
       "      <td>9.58</td>\n",
       "      <td>1.82</td>\n",
       "    </tr>\n",
       "    <tr>\n",
       "      <th>2016-01-01</th>\n",
       "      <td>hindi</td>\n",
       "      <td>160</td>\n",
       "      <td>et</td>\n",
       "      <td>11.12</td>\n",
       "      <td>Yurt içi</td>\n",
       "      <td>M</td>\n",
       "      <td>A</td>\n",
       "      <td>NaN</td>\n",
       "      <td>2.9139</td>\n",
       "      <td>2.9177</td>\n",
       "      <td>2.9201</td>\n",
       "      <td>2.9129</td>\n",
       "      <td>-0.13%</td>\n",
       "      <td>9.58</td>\n",
       "      <td>1.82</td>\n",
       "    </tr>\n",
       "    <tr>\n",
       "      <th>2016-01-01</th>\n",
       "      <td>Bakla-kuru</td>\n",
       "      <td>354</td>\n",
       "      <td>sebze ve bakliyat</td>\n",
       "      <td>7.02</td>\n",
       "      <td>Yurt içi</td>\n",
       "      <td>M</td>\n",
       "      <td>A</td>\n",
       "      <td>NaN</td>\n",
       "      <td>2.9139</td>\n",
       "      <td>2.9177</td>\n",
       "      <td>2.9201</td>\n",
       "      <td>2.9129</td>\n",
       "      <td>-0.13%</td>\n",
       "      <td>9.58</td>\n",
       "      <td>1.82</td>\n",
       "    </tr>\n",
       "    <tr>\n",
       "      <th>2016-01-01</th>\n",
       "      <td>Bakla-taze</td>\n",
       "      <td>72</td>\n",
       "      <td>sebze ve bakliyat</td>\n",
       "      <td>13.14</td>\n",
       "      <td>Yurt içi</td>\n",
       "      <td>M</td>\n",
       "      <td>A</td>\n",
       "      <td>NaN</td>\n",
       "      <td>2.9139</td>\n",
       "      <td>2.9177</td>\n",
       "      <td>2.9201</td>\n",
       "      <td>2.9129</td>\n",
       "      <td>-0.13%</td>\n",
       "      <td>9.58</td>\n",
       "      <td>1.82</td>\n",
       "    </tr>\n",
       "  </tbody>\n",
       "</table>\n",
       "</div>"
      ],
      "text/plain": [
       "                  ürün  ürün besin değeri    ürün kategorisi  ürün fiyatı  \\\n",
       "2016-01-01       kıyma                120                 et        33.41   \n",
       "2016-01-01       tavuk                103                 et        11.22   \n",
       "2016-01-01       hindi                160                 et        11.12   \n",
       "2016-01-01  Bakla-kuru                354  sebze ve bakliyat         7.02   \n",
       "2016-01-01  Bakla-taze                 72  sebze ve bakliyat        13.14   \n",
       "\n",
       "           ürün üretim yeri market şehir  id   Price    Open    High     Low  \\\n",
       "2016-01-01         Yurt içi      M     A NaN  2.9139  2.9177  2.9201  2.9129   \n",
       "2016-01-01         Yurt içi      M     A NaN  2.9139  2.9177  2.9201  2.9129   \n",
       "2016-01-01         Yurt içi      M     A NaN  2.9139  2.9177  2.9201  2.9129   \n",
       "2016-01-01         Yurt içi      M     A NaN  2.9139  2.9177  2.9201  2.9129   \n",
       "2016-01-01         Yurt içi      M     A NaN  2.9139  2.9177  2.9201  2.9129   \n",
       "\n",
       "           Change %  yillik tufe  aylık tufe  \n",
       "2016-01-01   -0.13%         9.58        1.82  \n",
       "2016-01-01   -0.13%         9.58        1.82  \n",
       "2016-01-01   -0.13%         9.58        1.82  \n",
       "2016-01-01   -0.13%         9.58        1.82  \n",
       "2016-01-01   -0.13%         9.58        1.82  "
      ]
     },
     "execution_count": 69,
     "metadata": {},
     "output_type": "execute_result"
    }
   ],
   "source": [
    "DF = DF.join(inflation)\n",
    "DF.head()"
   ]
  },
  {
   "cell_type": "code",
   "execution_count": 70,
   "id": "0542bfe2-3e27-41bf-8a00-497e470ed2f4",
   "metadata": {},
   "outputs": [
    {
     "data": {
      "text/plain": [
       "array([11.22, 11.1 , 11.18, ...,   nan,   nan,   nan])"
      ]
     },
     "execution_count": 70,
     "metadata": {},
     "output_type": "execute_result"
    }
   ],
   "source": [
    "DF[DF[\"ürün\"]==\"tavuk\"][\"ürün fiyatı\"].values"
   ]
  },
  {
   "cell_type": "code",
   "execution_count": 71,
   "id": "da579263-de08-4e5c-9cce-28e2603a6f10",
   "metadata": {},
   "outputs": [
    {
     "data": {
      "text/plain": [
       "<AxesSubplot:>"
      ]
     },
     "execution_count": 71,
     "metadata": {},
     "output_type": "execute_result"
    },
    {
     "data": {
      "image/png": "[encoded data removed]",
      "text/plain": [
       "<Figure size 432x288 with 1 Axes>"
      ]
     },
     "metadata": {
      "needs_background": "light"
     },
     "output_type": "display_data"
    }
   ],
   "source": [
    "sns.lineplot(DF[DF[\"ürün\"]==\"tavuk\"][\"ürün fiyatı\"].index, DF[DF[\"ürün\"]==\"tavuk\"][\"ürün fiyatı\"].values)"
   ]
  },
  {
   "cell_type": "code",
   "execution_count": 72,
   "id": "aa4ffc6a-18b9-4659-a54f-0fe30ef8ecee",
   "metadata": {},
   "outputs": [],
   "source": [
    "DF.drop([\"Open\", \"High\", \"Low\", \"Change %\"], axis=1, inplace=True)"
   ]
  },
  {
   "cell_type": "code",
   "execution_count": 73,
   "id": "3ec9192a-f108-4eaa-80f6-dd8c4c6901d9",
   "metadata": {},
   "outputs": [
    {
     "data": {
      "text/html": [
       "<div>\n",
       "<style scoped>\n",
       "    .dataframe tbody tr th:only-of-type {\n",
       "        vertical-align: middle;\n",
       "    }\n",
       "\n",
       "    .dataframe tbody tr th {\n",
       "        vertical-align: top;\n",
       "    }\n",
       "\n",
       "    .dataframe thead th {\n",
       "        text-align: right;\n",
       "    }\n",
       "</style>\n",
       "<table border=\"1\" class=\"dataframe\">\n",
       "  <thead>\n",
       "    <tr style=\"text-align: right;\">\n",
       "      <th></th>\n",
       "      <th>ürün</th>\n",
       "      <th>ürün besin değeri</th>\n",
       "      <th>ürün kategorisi</th>\n",
       "      <th>ürün fiyatı</th>\n",
       "      <th>ürün üretim yeri</th>\n",
       "      <th>market</th>\n",
       "      <th>şehir</th>\n",
       "      <th>id</th>\n",
       "      <th>Price</th>\n",
       "      <th>yillik tufe</th>\n",
       "      <th>aylık tufe</th>\n",
       "    </tr>\n",
       "  </thead>\n",
       "  <tbody>\n",
       "    <tr>\n",
       "      <th>2016-01-01</th>\n",
       "      <td>tavuk</td>\n",
       "      <td>103</td>\n",
       "      <td>et</td>\n",
       "      <td>11.22</td>\n",
       "      <td>Yurt içi</td>\n",
       "      <td>M</td>\n",
       "      <td>A</td>\n",
       "      <td>NaN</td>\n",
       "      <td>2.9139</td>\n",
       "      <td>9.58</td>\n",
       "      <td>1.82</td>\n",
       "    </tr>\n",
       "    <tr>\n",
       "      <th>2016-01-01</th>\n",
       "      <td>tavuk</td>\n",
       "      <td>103</td>\n",
       "      <td>et</td>\n",
       "      <td>11.10</td>\n",
       "      <td>Yurt dışı</td>\n",
       "      <td>M</td>\n",
       "      <td>A</td>\n",
       "      <td>NaN</td>\n",
       "      <td>2.9139</td>\n",
       "      <td>9.58</td>\n",
       "      <td>1.82</td>\n",
       "    </tr>\n",
       "    <tr>\n",
       "      <th>2016-01-01</th>\n",
       "      <td>tavuk</td>\n",
       "      <td>103</td>\n",
       "      <td>et</td>\n",
       "      <td>11.18</td>\n",
       "      <td>Yurt içi</td>\n",
       "      <td>C</td>\n",
       "      <td>A</td>\n",
       "      <td>NaN</td>\n",
       "      <td>2.9139</td>\n",
       "      <td>9.58</td>\n",
       "      <td>1.82</td>\n",
       "    </tr>\n",
       "    <tr>\n",
       "      <th>2016-01-01</th>\n",
       "      <td>tavuk</td>\n",
       "      <td>103</td>\n",
       "      <td>et</td>\n",
       "      <td>11.25</td>\n",
       "      <td>Yurt dışı</td>\n",
       "      <td>C</td>\n",
       "      <td>A</td>\n",
       "      <td>NaN</td>\n",
       "      <td>2.9139</td>\n",
       "      <td>9.58</td>\n",
       "      <td>1.82</td>\n",
       "    </tr>\n",
       "    <tr>\n",
       "      <th>2016-01-01</th>\n",
       "      <td>tavuk</td>\n",
       "      <td>103</td>\n",
       "      <td>et</td>\n",
       "      <td>11.23</td>\n",
       "      <td>Yurt içi</td>\n",
       "      <td>B</td>\n",
       "      <td>A</td>\n",
       "      <td>NaN</td>\n",
       "      <td>2.9139</td>\n",
       "      <td>9.58</td>\n",
       "      <td>1.82</td>\n",
       "    </tr>\n",
       "    <tr>\n",
       "      <th>...</th>\n",
       "      <td>...</td>\n",
       "      <td>...</td>\n",
       "      <td>...</td>\n",
       "      <td>...</td>\n",
       "      <td>...</td>\n",
       "      <td>...</td>\n",
       "      <td>...</td>\n",
       "      <td>...</td>\n",
       "      <td>...</td>\n",
       "      <td>...</td>\n",
       "      <td>...</td>\n",
       "    </tr>\n",
       "    <tr>\n",
       "      <th>2021-12-01</th>\n",
       "      <td>tavuk</td>\n",
       "      <td>103</td>\n",
       "      <td>et</td>\n",
       "      <td>NaN</td>\n",
       "      <td>Yurt dışı</td>\n",
       "      <td>M</td>\n",
       "      <td>H</td>\n",
       "      <td>45110.0</td>\n",
       "      <td>13.2635</td>\n",
       "      <td>NaN</td>\n",
       "      <td>NaN</td>\n",
       "    </tr>\n",
       "    <tr>\n",
       "      <th>2021-12-01</th>\n",
       "      <td>tavuk</td>\n",
       "      <td>103</td>\n",
       "      <td>et</td>\n",
       "      <td>NaN</td>\n",
       "      <td>Yurt içi</td>\n",
       "      <td>C</td>\n",
       "      <td>H</td>\n",
       "      <td>45189.0</td>\n",
       "      <td>13.2635</td>\n",
       "      <td>NaN</td>\n",
       "      <td>NaN</td>\n",
       "    </tr>\n",
       "    <tr>\n",
       "      <th>2021-12-01</th>\n",
       "      <td>tavuk</td>\n",
       "      <td>103</td>\n",
       "      <td>et</td>\n",
       "      <td>NaN</td>\n",
       "      <td>Yurt dışı</td>\n",
       "      <td>C</td>\n",
       "      <td>H</td>\n",
       "      <td>45268.0</td>\n",
       "      <td>13.2635</td>\n",
       "      <td>NaN</td>\n",
       "      <td>NaN</td>\n",
       "    </tr>\n",
       "    <tr>\n",
       "      <th>2021-12-01</th>\n",
       "      <td>tavuk</td>\n",
       "      <td>103</td>\n",
       "      <td>et</td>\n",
       "      <td>NaN</td>\n",
       "      <td>Yurt içi</td>\n",
       "      <td>B</td>\n",
       "      <td>H</td>\n",
       "      <td>45347.0</td>\n",
       "      <td>13.2635</td>\n",
       "      <td>NaN</td>\n",
       "      <td>NaN</td>\n",
       "    </tr>\n",
       "    <tr>\n",
       "      <th>2021-12-01</th>\n",
       "      <td>tavuk</td>\n",
       "      <td>103</td>\n",
       "      <td>et</td>\n",
       "      <td>NaN</td>\n",
       "      <td>Yurt dışı</td>\n",
       "      <td>B</td>\n",
       "      <td>H</td>\n",
       "      <td>45426.0</td>\n",
       "      <td>13.2635</td>\n",
       "      <td>NaN</td>\n",
       "      <td>NaN</td>\n",
       "    </tr>\n",
       "  </tbody>\n",
       "</table>\n",
       "<p>3456 rows × 11 columns</p>\n",
       "</div>"
      ],
      "text/plain": [
       "             ürün  ürün besin değeri ürün kategorisi  ürün fiyatı  \\\n",
       "2016-01-01  tavuk                103              et        11.22   \n",
       "2016-01-01  tavuk                103              et        11.10   \n",
       "2016-01-01  tavuk                103              et        11.18   \n",
       "2016-01-01  tavuk                103              et        11.25   \n",
       "2016-01-01  tavuk                103              et        11.23   \n",
       "...           ...                ...             ...          ...   \n",
       "2021-12-01  tavuk                103              et          NaN   \n",
       "2021-12-01  tavuk                103              et          NaN   \n",
       "2021-12-01  tavuk                103              et          NaN   \n",
       "2021-12-01  tavuk                103              et          NaN   \n",
       "2021-12-01  tavuk                103              et          NaN   \n",
       "\n",
       "           ürün üretim yeri market şehir       id    Price  yillik tufe  \\\n",
       "2016-01-01         Yurt içi      M     A      NaN   2.9139         9.58   \n",
       "2016-01-01        Yurt dışı      M     A      NaN   2.9139         9.58   \n",
       "2016-01-01         Yurt içi      C     A      NaN   2.9139         9.58   \n",
       "2016-01-01        Yurt dışı      C     A      NaN   2.9139         9.58   \n",
       "2016-01-01         Yurt içi      B     A      NaN   2.9139         9.58   \n",
       "...                     ...    ...   ...      ...      ...          ...   \n",
       "2021-12-01        Yurt dışı      M     H  45110.0  13.2635          NaN   \n",
       "2021-12-01         Yurt içi      C     H  45189.0  13.2635          NaN   \n",
       "2021-12-01        Yurt dışı      C     H  45268.0  13.2635          NaN   \n",
       "2021-12-01         Yurt içi      B     H  45347.0  13.2635          NaN   \n",
       "2021-12-01        Yurt dışı      B     H  45426.0  13.2635          NaN   \n",
       "\n",
       "            aylık tufe  \n",
       "2016-01-01        1.82  \n",
       "2016-01-01        1.82  \n",
       "2016-01-01        1.82  \n",
       "2016-01-01        1.82  \n",
       "2016-01-01        1.82  \n",
       "...                ...  \n",
       "2021-12-01         NaN  \n",
       "2021-12-01         NaN  \n",
       "2021-12-01         NaN  \n",
       "2021-12-01         NaN  \n",
       "2021-12-01         NaN  \n",
       "\n",
       "[3456 rows x 11 columns]"
      ]
     },
     "execution_count": 73,
     "metadata": {},
     "output_type": "execute_result"
    }
   ],
   "source": [
    "DF[DF[\"ürün\"]==\"tavuk\"]"
   ]
  },
  {
   "cell_type": "code",
   "execution_count": 74,
   "id": "06e3693b-e50f-4bae-8b3e-4db076980848",
   "metadata": {},
   "outputs": [],
   "source": [
    "DF.to_csv(\"YarismaVerisi.csv\")"
   ]
  },
  {
   "cell_type": "code",
   "execution_count": null,
   "id": "4c343e9b-68ca-472c-aa06-5a30f960cc95",
   "metadata": {},
   "outputs": [],
   "source": []
  }
 ],
 "metadata": {
  "kernelspec": {
   "display_name": "Python 3 (ipykernel)",
   "language": "python",
   "name": "python3"
  },
  "language_info": {
   "codemirror_mode": {
    "name": "ipython",
    "version": 3
   },
   "file_extension": ".py",
   "mimetype": "text/x-python",
   "name": "python",
   "nbconvert_exporter": "python",
   "pygments_lexer": "ipython3",
   "version": "3.8.8"
  }
 },
 "nbformat": 4,
 "nbformat_minor": 5
}
