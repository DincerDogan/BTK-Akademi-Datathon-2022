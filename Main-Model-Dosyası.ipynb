{
 "cells": [
  {
   "cell_type": "markdown",
   "id": "08ebeb47-67d8-4d87-8d9d-c74fb261dc6e",
   "metadata": {},
   "source": [
    "# 1- Exploratory Data Analysis (Keşifçi Veri Analizi)"
   ]
  },
  {
   "cell_type": "markdown",
   "id": "7220d7dc-ce0c-4043-a932-dea3344ecc1f",
   "metadata": {},
   "source": [
    "## 1.1-Veri Setini İnceleme"
   ]
  },
  {
   "cell_type": "code",
   "execution_count": 165,
   "id": "8ce2f71a-07e8-443d-8664-33061e7c7463",
   "metadata": {},
   "outputs": [],
   "source": [
    "import time\n",
    "import numpy as np\n",
    "import pandas as pd\n",
    "from matplotlib import pyplot as plt\n",
    "import seaborn as sns\n",
    "from dython.data_utils import split_hist\n",
    "import lightgbm as lgb\n",
    "\n",
    "import warnings\n",
    "\n",
    "pd.set_option('display.max_columns', None)\n",
    "pd.set_option('display.width', 500)\n",
    "warnings.filterwarnings('ignore')"
   ]
  },
  {
   "cell_type": "markdown",
   "id": "5921f0c3-f88c-4a70-ac51-52f1b88a3180",
   "metadata": {},
   "source": [
    "### Train, Test ve Sample Submission veri setleri"
   ]
  },
  {
   "cell_type": "code",
   "execution_count": 2,
   "id": "d749b124-6657-4ed4-851b-c6d41d58ae32",
   "metadata": {},
   "outputs": [],
   "source": [
    "train = pd.read_csv(\"~/Desktop/DataThon/datasets/train.csv\", parse_dates=['tarih'])\n",
    "test = pd.read_csv(\"~/Desktop/DataThon/datasets/testFeatures.csv\", parse_dates=['tarih'])\n",
    "sample_sub = pd.read_csv(\"~/Desktop/DataThon/datasets/sample_solution.csv\")"
   ]
  },
  {
   "cell_type": "markdown",
   "id": "979cdf3a-f2ef-471c-97b7-a86bc2154b98",
   "metadata": {},
   "source": [
    "#### Train"
   ]
  },
  {
   "cell_type": "code",
   "execution_count": 3,
   "id": "45c4422c-6f2c-4fb5-84a1-4fff0b7d9e17",
   "metadata": {},
   "outputs": [
    {
     "data": {
      "text/html": [
       "<div>\n",
       "<style scoped>\n",
       "    .dataframe tbody tr th:only-of-type {\n",
       "        vertical-align: middle;\n",
       "    }\n",
       "\n",
       "    .dataframe tbody tr th {\n",
       "        vertical-align: top;\n",
       "    }\n",
       "\n",
       "    .dataframe thead th {\n",
       "        text-align: right;\n",
       "    }\n",
       "</style>\n",
       "<table border=\"1\" class=\"dataframe\">\n",
       "  <thead>\n",
       "    <tr style=\"text-align: right;\">\n",
       "      <th></th>\n",
       "      <th>tarih</th>\n",
       "      <th>ürün</th>\n",
       "      <th>ürün besin değeri</th>\n",
       "      <th>ürün kategorisi</th>\n",
       "      <th>ürün fiyatı</th>\n",
       "      <th>ürün üretim yeri</th>\n",
       "      <th>market</th>\n",
       "      <th>şehir</th>\n",
       "    </tr>\n",
       "  </thead>\n",
       "  <tbody>\n",
       "    <tr>\n",
       "      <th>0</th>\n",
       "      <td>2016-01-01</td>\n",
       "      <td>kıyma</td>\n",
       "      <td>120</td>\n",
       "      <td>et</td>\n",
       "      <td>33.41</td>\n",
       "      <td>Yurt içi</td>\n",
       "      <td>M</td>\n",
       "      <td>A</td>\n",
       "    </tr>\n",
       "    <tr>\n",
       "      <th>1</th>\n",
       "      <td>2016-01-01</td>\n",
       "      <td>tavuk</td>\n",
       "      <td>103</td>\n",
       "      <td>et</td>\n",
       "      <td>11.22</td>\n",
       "      <td>Yurt içi</td>\n",
       "      <td>M</td>\n",
       "      <td>A</td>\n",
       "    </tr>\n",
       "    <tr>\n",
       "      <th>2</th>\n",
       "      <td>2016-01-01</td>\n",
       "      <td>hindi</td>\n",
       "      <td>160</td>\n",
       "      <td>et</td>\n",
       "      <td>11.12</td>\n",
       "      <td>Yurt içi</td>\n",
       "      <td>M</td>\n",
       "      <td>A</td>\n",
       "    </tr>\n",
       "    <tr>\n",
       "      <th>3</th>\n",
       "      <td>2016-01-01</td>\n",
       "      <td>Bakla-kuru</td>\n",
       "      <td>354</td>\n",
       "      <td>sebze ve bakliyat</td>\n",
       "      <td>7.02</td>\n",
       "      <td>Yurt içi</td>\n",
       "      <td>M</td>\n",
       "      <td>A</td>\n",
       "    </tr>\n",
       "    <tr>\n",
       "      <th>4</th>\n",
       "      <td>2016-01-01</td>\n",
       "      <td>Bakla-taze</td>\n",
       "      <td>72</td>\n",
       "      <td>sebze ve bakliyat</td>\n",
       "      <td>13.14</td>\n",
       "      <td>Yurt içi</td>\n",
       "      <td>M</td>\n",
       "      <td>A</td>\n",
       "    </tr>\n",
       "  </tbody>\n",
       "</table>\n",
       "</div>"
      ],
      "text/plain": [
       "       tarih        ürün  ürün besin değeri    ürün kategorisi  ürün fiyatı ürün üretim yeri market şehir\n",
       "0 2016-01-01       kıyma                120                 et        33.41         Yurt içi      M     A\n",
       "1 2016-01-01       tavuk                103                 et        11.22         Yurt içi      M     A\n",
       "2 2016-01-01       hindi                160                 et        11.12         Yurt içi      M     A\n",
       "3 2016-01-01  Bakla-kuru                354  sebze ve bakliyat         7.02         Yurt içi      M     A\n",
       "4 2016-01-01  Bakla-taze                 72  sebze ve bakliyat        13.14         Yurt içi      M     A"
      ]
     },
     "execution_count": 3,
     "metadata": {},
     "output_type": "execute_result"
    }
   ],
   "source": [
    "train.head()"
   ]
  },
  {
   "cell_type": "code",
   "execution_count": 4,
   "id": "4f14674a-4bc4-49b5-8363-6167de7b895f",
   "metadata": {},
   "outputs": [
    {
     "data": {
      "text/plain": [
       "(227520, 8)"
      ]
     },
     "execution_count": 4,
     "metadata": {},
     "output_type": "execute_result"
    }
   ],
   "source": [
    "train.shape"
   ]
  },
  {
   "cell_type": "code",
   "execution_count": 5,
   "id": "080d0a01-d1a5-430a-9aac-2db643ec90e1",
   "metadata": {},
   "outputs": [
    {
     "name": "stdout",
     "output_type": "stream",
     "text": [
      "<class 'pandas.core.frame.DataFrame'>\n",
      "RangeIndex: 227520 entries, 0 to 227519\n",
      "Data columns (total 8 columns):\n",
      " #   Column             Non-Null Count   Dtype         \n",
      "---  ------             --------------   -----         \n",
      " 0   tarih              227520 non-null  datetime64[ns]\n",
      " 1   ürün               227520 non-null  object        \n",
      " 2   ürün besin değeri  227520 non-null  int64         \n",
      " 3   ürün kategorisi    227520 non-null  object        \n",
      " 4   ürün fiyatı        227520 non-null  float64       \n",
      " 5   ürün üretim yeri   227520 non-null  object        \n",
      " 6   market             227520 non-null  object        \n",
      " 7   şehir              227520 non-null  object        \n",
      "dtypes: datetime64[ns](1), float64(1), int64(1), object(5)\n",
      "memory usage: 13.9+ MB\n"
     ]
    }
   ],
   "source": [
    "train.info()"
   ]
  },
  {
   "cell_type": "code",
   "execution_count": 6,
   "id": "6384f652-9480-41c4-95e4-d75f164d8626",
   "metadata": {},
   "outputs": [
    {
     "data": {
      "text/plain": [
       "tarih                0\n",
       "ürün                 0\n",
       "ürün besin değeri    0\n",
       "ürün kategorisi      0\n",
       "ürün fiyatı          0\n",
       "ürün üretim yeri     0\n",
       "market               0\n",
       "şehir                0\n",
       "dtype: int64"
      ]
     },
     "execution_count": 6,
     "metadata": {},
     "output_type": "execute_result"
    }
   ],
   "source": [
    "train.isnull().sum()"
   ]
  },
  {
   "cell_type": "code",
   "execution_count": 7,
   "id": "c83f2cba-1f09-448a-b740-7bb7dc6e2666",
   "metadata": {},
   "outputs": [
    {
     "data": {
      "text/plain": [
       "(Timestamp('2016-01-01 00:00:00'), Timestamp('2020-12-01 00:00:00'))"
      ]
     },
     "execution_count": 7,
     "metadata": {},
     "output_type": "execute_result"
    }
   ],
   "source": [
    "train[\"tarih\"].min(), train[\"tarih\"].max() # 5 yıllık veri seti"
   ]
  },
  {
   "cell_type": "markdown",
   "id": "e86e804c-5c9d-4d4d-98c9-d38788237cdc",
   "metadata": {},
   "source": [
    "#### Test"
   ]
  },
  {
   "cell_type": "code",
   "execution_count": 8,
   "id": "d78b808a-20dc-485a-9a5a-5bf821ab5a08",
   "metadata": {},
   "outputs": [
    {
     "data": {
      "text/html": [
       "<div>\n",
       "<style scoped>\n",
       "    .dataframe tbody tr th:only-of-type {\n",
       "        vertical-align: middle;\n",
       "    }\n",
       "\n",
       "    .dataframe tbody tr th {\n",
       "        vertical-align: top;\n",
       "    }\n",
       "\n",
       "    .dataframe thead th {\n",
       "        text-align: right;\n",
       "    }\n",
       "</style>\n",
       "<table border=\"1\" class=\"dataframe\">\n",
       "  <thead>\n",
       "    <tr style=\"text-align: right;\">\n",
       "      <th></th>\n",
       "      <th>id</th>\n",
       "      <th>tarih</th>\n",
       "      <th>ürün</th>\n",
       "      <th>ürün besin değeri</th>\n",
       "      <th>ürün kategorisi</th>\n",
       "      <th>ürün üretim yeri</th>\n",
       "      <th>market</th>\n",
       "      <th>şehir</th>\n",
       "    </tr>\n",
       "  </thead>\n",
       "  <tbody>\n",
       "    <tr>\n",
       "      <th>0</th>\n",
       "      <td>0</td>\n",
       "      <td>2021-01-01</td>\n",
       "      <td>kıyma</td>\n",
       "      <td>120</td>\n",
       "      <td>et</td>\n",
       "      <td>Yurt içi</td>\n",
       "      <td>M</td>\n",
       "      <td>A</td>\n",
       "    </tr>\n",
       "    <tr>\n",
       "      <th>1</th>\n",
       "      <td>1</td>\n",
       "      <td>2021-01-01</td>\n",
       "      <td>tavuk</td>\n",
       "      <td>103</td>\n",
       "      <td>et</td>\n",
       "      <td>Yurt içi</td>\n",
       "      <td>M</td>\n",
       "      <td>A</td>\n",
       "    </tr>\n",
       "    <tr>\n",
       "      <th>2</th>\n",
       "      <td>2</td>\n",
       "      <td>2021-01-01</td>\n",
       "      <td>hindi</td>\n",
       "      <td>160</td>\n",
       "      <td>et</td>\n",
       "      <td>Yurt içi</td>\n",
       "      <td>M</td>\n",
       "      <td>A</td>\n",
       "    </tr>\n",
       "    <tr>\n",
       "      <th>3</th>\n",
       "      <td>3</td>\n",
       "      <td>2021-01-01</td>\n",
       "      <td>Bakla-kuru</td>\n",
       "      <td>354</td>\n",
       "      <td>sebze ve bakliyat</td>\n",
       "      <td>Yurt içi</td>\n",
       "      <td>M</td>\n",
       "      <td>A</td>\n",
       "    </tr>\n",
       "    <tr>\n",
       "      <th>4</th>\n",
       "      <td>4</td>\n",
       "      <td>2021-01-01</td>\n",
       "      <td>Bakla-taze</td>\n",
       "      <td>72</td>\n",
       "      <td>sebze ve bakliyat</td>\n",
       "      <td>Yurt içi</td>\n",
       "      <td>M</td>\n",
       "      <td>A</td>\n",
       "    </tr>\n",
       "  </tbody>\n",
       "</table>\n",
       "</div>"
      ],
      "text/plain": [
       "   id      tarih        ürün  ürün besin değeri    ürün kategorisi ürün üretim yeri market şehir\n",
       "0   0 2021-01-01       kıyma                120                 et         Yurt içi      M     A\n",
       "1   1 2021-01-01       tavuk                103                 et         Yurt içi      M     A\n",
       "2   2 2021-01-01       hindi                160                 et         Yurt içi      M     A\n",
       "3   3 2021-01-01  Bakla-kuru                354  sebze ve bakliyat         Yurt içi      M     A\n",
       "4   4 2021-01-01  Bakla-taze                 72  sebze ve bakliyat         Yurt içi      M     A"
      ]
     },
     "execution_count": 8,
     "metadata": {},
     "output_type": "execute_result"
    }
   ],
   "source": [
    "test.head()"
   ]
  },
  {
   "cell_type": "code",
   "execution_count": 9,
   "id": "f8fdf7f5-cb51-4ee1-8a78-ad5da6a6d3a0",
   "metadata": {},
   "outputs": [
    {
     "data": {
      "text/plain": [
       "(45504, 8)"
      ]
     },
     "execution_count": 9,
     "metadata": {},
     "output_type": "execute_result"
    }
   ],
   "source": [
    "test.shape"
   ]
  },
  {
   "cell_type": "code",
   "execution_count": 10,
   "id": "f7654bce-b7fb-4d6f-ae12-84c8fd5d8cdb",
   "metadata": {},
   "outputs": [
    {
     "data": {
      "text/plain": [
       "id                   0\n",
       "tarih                0\n",
       "ürün                 0\n",
       "ürün besin değeri    0\n",
       "ürün kategorisi      0\n",
       "ürün üretim yeri     0\n",
       "market               0\n",
       "şehir                0\n",
       "dtype: int64"
      ]
     },
     "execution_count": 10,
     "metadata": {},
     "output_type": "execute_result"
    }
   ],
   "source": [
    "test.isnull().sum()"
   ]
  },
  {
   "cell_type": "code",
   "execution_count": 11,
   "id": "40ed7e66-e3dc-4f9e-873a-f277eae34ad8",
   "metadata": {},
   "outputs": [
    {
     "data": {
      "text/plain": [
       "(Timestamp('2021-01-01 00:00:00'), Timestamp('2021-12-01 00:00:00'))"
      ]
     },
     "execution_count": 11,
     "metadata": {},
     "output_type": "execute_result"
    }
   ],
   "source": [
    "test[\"tarih\"].min(), test[\"tarih\"].max()    # 1 yıllık veri seti"
   ]
  },
  {
   "cell_type": "markdown",
   "id": "cd52706f-52b2-4a34-b285-00604200d854",
   "metadata": {},
   "source": [
    "#### Sample "
   ]
  },
  {
   "cell_type": "code",
   "execution_count": 12,
   "id": "425ac220-bff5-457a-a794-cee81eab1fa6",
   "metadata": {},
   "outputs": [
    {
     "data": {
      "text/html": [
       "<div>\n",
       "<style scoped>\n",
       "    .dataframe tbody tr th:only-of-type {\n",
       "        vertical-align: middle;\n",
       "    }\n",
       "\n",
       "    .dataframe tbody tr th {\n",
       "        vertical-align: top;\n",
       "    }\n",
       "\n",
       "    .dataframe thead th {\n",
       "        text-align: right;\n",
       "    }\n",
       "</style>\n",
       "<table border=\"1\" class=\"dataframe\">\n",
       "  <thead>\n",
       "    <tr style=\"text-align: right;\">\n",
       "      <th></th>\n",
       "      <th>id</th>\n",
       "      <th>ürün fiyatı</th>\n",
       "    </tr>\n",
       "  </thead>\n",
       "  <tbody>\n",
       "    <tr>\n",
       "      <th>0</th>\n",
       "      <td>0</td>\n",
       "      <td>98.45</td>\n",
       "    </tr>\n",
       "    <tr>\n",
       "      <th>1</th>\n",
       "      <td>1</td>\n",
       "      <td>48.55</td>\n",
       "    </tr>\n",
       "    <tr>\n",
       "      <th>2</th>\n",
       "      <td>2</td>\n",
       "      <td>39.78</td>\n",
       "    </tr>\n",
       "    <tr>\n",
       "      <th>3</th>\n",
       "      <td>3</td>\n",
       "      <td>25.00</td>\n",
       "    </tr>\n",
       "  </tbody>\n",
       "</table>\n",
       "</div>"
      ],
      "text/plain": [
       "   id  ürün fiyatı\n",
       "0   0        98.45\n",
       "1   1        48.55\n",
       "2   2        39.78\n",
       "3   3        25.00"
      ]
     },
     "execution_count": 12,
     "metadata": {},
     "output_type": "execute_result"
    }
   ],
   "source": [
    "sample_sub.head()"
   ]
  },
  {
   "cell_type": "markdown",
   "id": "5042368d-7db1-4692-a556-24388d14434b",
   "metadata": {},
   "source": [
    "Üzerinde hızlı çalışılabilmesi için train ve test veri setleri birleştirildi. "
   ]
  },
  {
   "cell_type": "code",
   "execution_count": 13,
   "id": "39d55225-de96-4bca-960d-0f8ddaae8d4d",
   "metadata": {},
   "outputs": [],
   "source": [
    "df = pd.concat([train, test], sort=False)"
   ]
  },
  {
   "cell_type": "code",
   "execution_count": 14,
   "id": "11086155-61f4-4683-9d90-109430faaf3d",
   "metadata": {},
   "outputs": [
    {
     "data": {
      "text/plain": [
       "tarih                     0\n",
       "ürün                      0\n",
       "ürün besin değeri         0\n",
       "ürün kategorisi           0\n",
       "ürün fiyatı           45504\n",
       "ürün üretim yeri          0\n",
       "market                    0\n",
       "şehir                     0\n",
       "id                   227520\n",
       "dtype: int64"
      ]
     },
     "execution_count": 14,
     "metadata": {},
     "output_type": "execute_result"
    }
   ],
   "source": [
    "df.isnull().sum()"
   ]
  },
  {
   "cell_type": "markdown",
   "id": "00c4a470-1763-40de-b1e4-0c0411165119",
   "metadata": {},
   "source": [
    "#### Veri seti özet istatistikleri"
   ]
  },
  {
   "cell_type": "code",
   "execution_count": 15,
   "id": "093f6b9c-db6f-43cb-b0e4-a58474290b12",
   "metadata": {},
   "outputs": [
    {
     "data": {
      "text/html": [
       "<div>\n",
       "<style scoped>\n",
       "    .dataframe tbody tr th:only-of-type {\n",
       "        vertical-align: middle;\n",
       "    }\n",
       "\n",
       "    .dataframe tbody tr th {\n",
       "        vertical-align: top;\n",
       "    }\n",
       "\n",
       "    .dataframe thead th {\n",
       "        text-align: right;\n",
       "    }\n",
       "</style>\n",
       "<table border=\"1\" class=\"dataframe\">\n",
       "  <thead>\n",
       "    <tr style=\"text-align: right;\">\n",
       "      <th></th>\n",
       "      <th>ürün besin değeri</th>\n",
       "      <th>ürün fiyatı</th>\n",
       "      <th>id</th>\n",
       "    </tr>\n",
       "  </thead>\n",
       "  <tbody>\n",
       "    <tr>\n",
       "      <th>count</th>\n",
       "      <td>273024.000000</td>\n",
       "      <td>227520.000000</td>\n",
       "      <td>45504.000000</td>\n",
       "    </tr>\n",
       "    <tr>\n",
       "      <th>mean</th>\n",
       "      <td>143.113924</td>\n",
       "      <td>16.348622</td>\n",
       "      <td>22751.500000</td>\n",
       "    </tr>\n",
       "    <tr>\n",
       "      <th>std</th>\n",
       "      <td>133.218822</td>\n",
       "      <td>13.260935</td>\n",
       "      <td>13136.017661</td>\n",
       "    </tr>\n",
       "    <tr>\n",
       "      <th>min</th>\n",
       "      <td>8.000000</td>\n",
       "      <td>0.730000</td>\n",
       "      <td>0.000000</td>\n",
       "    </tr>\n",
       "    <tr>\n",
       "      <th>25%</th>\n",
       "      <td>41.000000</td>\n",
       "      <td>7.330000</td>\n",
       "      <td>11375.750000</td>\n",
       "    </tr>\n",
       "    <tr>\n",
       "      <th>50%</th>\n",
       "      <td>83.000000</td>\n",
       "      <td>12.600000</td>\n",
       "      <td>22751.500000</td>\n",
       "    </tr>\n",
       "    <tr>\n",
       "      <th>75%</th>\n",
       "      <td>250.000000</td>\n",
       "      <td>20.900000</td>\n",
       "      <td>34127.250000</td>\n",
       "    </tr>\n",
       "    <tr>\n",
       "      <th>max</th>\n",
       "      <td>402.000000</td>\n",
       "      <td>141.330000</td>\n",
       "      <td>45503.000000</td>\n",
       "    </tr>\n",
       "  </tbody>\n",
       "</table>\n",
       "</div>"
      ],
      "text/plain": [
       "       ürün besin değeri    ürün fiyatı            id\n",
       "count      273024.000000  227520.000000  45504.000000\n",
       "mean          143.113924      16.348622  22751.500000\n",
       "std           133.218822      13.260935  13136.017661\n",
       "min             8.000000       0.730000      0.000000\n",
       "25%            41.000000       7.330000  11375.750000\n",
       "50%            83.000000      12.600000  22751.500000\n",
       "75%           250.000000      20.900000  34127.250000\n",
       "max           402.000000     141.330000  45503.000000"
      ]
     },
     "execution_count": 15,
     "metadata": {},
     "output_type": "execute_result"
    }
   ],
   "source": [
    "df.describe(include=np.number)"
   ]
  },
  {
   "cell_type": "markdown",
   "id": "9d464cd9-7af9-4cad-a8cf-6b25d274a5e8",
   "metadata": {},
   "source": [
    "## 1.2-Numerik ve Kategorik Değişkenlerin Analizi"
   ]
  },
  {
   "cell_type": "markdown",
   "id": "79a612b8-40e9-4c2c-a140-d237fc0595a9",
   "metadata": {},
   "source": [
    "grab_col_names() fonksiyonu bir dataframedeki değişkenlerin türlerini göstermek için kullanılır."
   ]
  },
  {
   "cell_type": "code",
   "execution_count": 16,
   "id": "2560c959-a523-479b-ad22-b62f1850645d",
   "metadata": {},
   "outputs": [],
   "source": [
    "def grab_col_names(dataframe, cat_th=10, car_th=20):\n",
    "\n",
    "    # cat_cols, cat_but_car\n",
    "    cat_cols = [col for col in dataframe.columns if dataframe[col].dtypes == \"O\"]\n",
    "    num_but_cat = [col for col in dataframe.columns if dataframe[col].nunique() < cat_th and\n",
    "                   dataframe[col].dtypes != \"O\"]\n",
    "    cat_but_car = [col for col in dataframe.columns if dataframe[col].nunique() > car_th and\n",
    "                   dataframe[col].dtypes == \"O\"]\n",
    "    cat_cols = cat_cols + num_but_cat\n",
    "    cat_cols = [col for col in cat_cols if col not in cat_but_car]\n",
    "\n",
    "    # num_cols\n",
    "    num_cols = [col for col in dataframe.columns if dataframe[col].dtypes != \"O\"]\n",
    "    num_cols = [col for col in num_cols if col not in num_but_cat]\n",
    "  \n",
    "    return cat_cols, num_cols, cat_but_car"
   ]
  },
  {
   "cell_type": "code",
   "execution_count": 17,
   "id": "342e7b52-91cd-4e8e-b2ff-1355d2c631f6",
   "metadata": {},
   "outputs": [],
   "source": [
    "cat_cols, num_cols, cat_but_car = grab_col_names(df)"
   ]
  },
  {
   "cell_type": "markdown",
   "id": "eb2d5584-bd83-4b3c-b8ee-58a670b8857a",
   "metadata": {},
   "source": [
    "##### Kategorik Değişkenler"
   ]
  },
  {
   "cell_type": "code",
   "execution_count": 18,
   "id": "a852db36-3678-4ee7-802d-ce46c98a7010",
   "metadata": {},
   "outputs": [
    {
     "data": {
      "text/plain": [
       "['ürün kategorisi', 'ürün üretim yeri', 'market', 'şehir']"
      ]
     },
     "execution_count": 18,
     "metadata": {},
     "output_type": "execute_result"
    }
   ],
   "source": [
    "cat_cols"
   ]
  },
  {
   "cell_type": "markdown",
   "id": "28535483-6568-4fb8-b37f-7f960fc15f53",
   "metadata": {},
   "source": [
    "##### Numerik Değişkenler"
   ]
  },
  {
   "cell_type": "code",
   "execution_count": 19,
   "id": "6ac7651e-b392-472c-8874-21a4efa704cc",
   "metadata": {},
   "outputs": [
    {
     "data": {
      "text/plain": [
       "['tarih', 'ürün besin değeri', 'ürün fiyatı', 'id']"
      ]
     },
     "execution_count": 19,
     "metadata": {},
     "output_type": "execute_result"
    }
   ],
   "source": [
    "num_cols"
   ]
  },
  {
   "cell_type": "markdown",
   "id": "2dbb11fe-73b4-4839-ace5-a7e42e6eba78",
   "metadata": {},
   "source": [
    "### 1.2.1-Kategorik Değişkenlerin Bağımlı Değişkene Göre Analizi"
   ]
  },
  {
   "cell_type": "markdown",
   "id": "2598ca26-d8e8-413c-95b0-159b2c37acfd",
   "metadata": {},
   "source": [
    "Veri setindeki değişkenlerin bağımlı değişkenle olan beklenen korelasyonu incelenerek, yüksek korelasyon değerlerine sahip kategorik değişkenler bu bölümde incelenecektir."
   ]
  },
  {
   "cell_type": "markdown",
   "id": "68252d98-acf0-4447-85bb-4dab1b098529",
   "metadata": {},
   "source": [
    "cat_summary() veri setindeki kategorik değişkenlerin dağılımını veren özet fonksiyonudur."
   ]
  },
  {
   "cell_type": "code",
   "execution_count": 20,
   "id": "a6542bdd-5f42-4d4f-ab63-209835f86d9f",
   "metadata": {},
   "outputs": [],
   "source": [
    "def cat_summary(dataframe, col_name, target_col):\n",
    "    print(pd.DataFrame({col_name: dataframe[col_name].value_counts(),\n",
    "                        \"Ratio\": 100 * dataframe[col_name].value_counts() / len(dataframe),\n",
    "                        f\"{target_col}\"+\"_Mean\": df.groupby(col_name)[target_col].mean()}))"
   ]
  },
  {
   "cell_type": "markdown",
   "id": "6d72707e-f555-477e-bcfe-1776a9332254",
   "metadata": {},
   "source": [
    "cat_distribution_plot() veri setindeki kategorik değişkenlerin bağımlı değişkene göre dağılımını gösteren grafik fonksiyonudur."
   ]
  },
  {
   "cell_type": "code",
   "execution_count": 21,
   "id": "6db01c78-9e3f-45d2-9376-9523fea29b54",
   "metadata": {},
   "outputs": [],
   "source": [
    "def cat_distribution_plot(df, cat_col, target_col):\n",
    "    split_hist(df, target_col, split_by=cat_col, ylabel=\"Gözlem Sayısı\", \n",
    "               title=f\"{target_col} Değişkenine Göre {cat_col} Değişken Dağılımı\", bins=25, figsize=(12.1,4))\n",
    "    plt.show()"
   ]
  },
  {
   "cell_type": "markdown",
   "id": "0c2b1fd2-4f93-48d7-9a34-00b84b7c519d",
   "metadata": {},
   "source": [
    "cat_analyser_plot() veri setindeki kategorik değişkenlerin dağılımı ve bağımlı değişkenle olan ilişkisini gösteren grafik fonksiyonudur."
   ]
  },
  {
   "cell_type": "code",
   "execution_count": 22,
   "id": "74ee1642-f76a-4c33-8c27-53abea98c906",
   "metadata": {},
   "outputs": [],
   "source": [
    "def cat_analyser_plot(df, cat_col, target_col): \n",
    "    fig, axes = plt.subplots(1, 2, figsize=(12, 4))\n",
    "\n",
    "    df[cat_col].value_counts().plot(kind='bar', ax=axes[0], color=['#1f77b4', '#ff7f0e', '#2ca02c', '#d62728'])\n",
    "    axes[0].set_title(f\"{cat_col} Dağılımı\")\n",
    "    axes[0].set_xlabel(f\"{cat_col}\")\n",
    "    axes[0].set_ylabel(\"Gözlem Sayısı\")\n",
    "    \n",
    "    df.groupby(cat_col)[target_col].mean().plot(kind='bar', ax=axes[1], color=['#1f77b4', '#ff7f0e', '#2ca02c', '#d62728'] )\n",
    "    axes[1].set_title(f\"{cat_col}\"+\" \"+\"Kırılımında\"+\" \"+f\"{target_col}\"+\" \"+ \"Ortalaması\")\n",
    "    axes[1].set_xlabel(f\"{cat_col}\")\n",
    "    axes[1].set_ylabel(f\"{target_col}\")\n",
    "    plt.xticks(rotation=0)\n",
    "    plt.show()\n",
    "    \n",
    "    cat_distribution_plot(df, cat_col, target_col)   "
   ]
  },
  {
   "cell_type": "markdown",
   "id": "bdc71155-b575-4dce-a298-686d7420e7b9",
   "metadata": {},
   "source": [
    "#### Ürün üretim yeri değişkeni istatistikleri"
   ]
  },
  {
   "cell_type": "code",
   "execution_count": 23,
   "id": "4e24d6b8-8a65-498f-8ae0-960374316974",
   "metadata": {},
   "outputs": [
    {
     "name": "stdout",
     "output_type": "stream",
     "text": [
      "           ürün üretim yeri  Ratio  ürün fiyatı_Mean\n",
      "Yurt dışı            136512   50.0         16.330241\n",
      "Yurt içi             136512   50.0         16.367004\n"
     ]
    }
   ],
   "source": [
    "cat_summary(df, \"ürün üretim yeri\", \"ürün fiyatı\")"
   ]
  },
  {
   "cell_type": "code",
   "execution_count": 24,
   "id": "24d73136-dc6b-4a1a-9e00-3c07d6ed7aea",
   "metadata": {},
   "outputs": [
    {
     "data": {
      "image/png": "[encoded data removed]",
      "text/plain": [
       "<Figure size 864x288 with 2 Axes>"
      ]
     },
     "metadata": {
      "needs_background": "light"
     },
     "output_type": "display_data"
    },
    {
     "data": {
      "image/png": "[encoded data removed]",
      "text/plain": [
       "<Figure size 871.2x288 with 1 Axes>"
      ]
     },
     "metadata": {
      "needs_background": "light"
     },
     "output_type": "display_data"
    }
   ],
   "source": [
    "cat_analyser_plot(df, \"ürün üretim yeri\", \"ürün fiyatı\")"
   ]
  },
  {
   "cell_type": "markdown",
   "id": "424a97e3-ade0-4a67-80df-719df5293e68",
   "metadata": {},
   "source": [
    "Yukarıdaki grafiklerden anlaşılacağı üzere, ürünlerin üretilme yeri dağılımları eşit görülmektedir. Ürünlerin üretilme yerlerinin bağımlı değişkene göre dağılımı da yine benzer olduğu görülebilir. Ayrıca, ürün fiyat dağılımının 10-15 aralığında yoğunlaştığı söylenebilir."
   ]
  },
  {
   "cell_type": "markdown",
   "id": "0ff02e4f-617b-4cd5-8646-7f971446ad65",
   "metadata": {},
   "source": [
    "#### Ürün kategorisi değişken istatistikleri"
   ]
  },
  {
   "cell_type": "code",
   "execution_count": 25,
   "id": "4ded0047-dc77-497f-b0d1-737d3b4ecc2a",
   "metadata": {},
   "outputs": [
    {
     "name": "stdout",
     "output_type": "stream",
     "text": [
      "                             ürün kategorisi      Ratio  ürün fiyatı_Mean\n",
      "et                                     10368   3.797468         35.722958\n",
      "kuruyemiş                              17280   6.329114         30.049149\n",
      "meyve                                  62208  22.784810          9.992867\n",
      "sebze ve bakliyat                     100224  36.708861         14.909769\n",
      "süt ürünleri ve kahvaltılık            41472  15.189873         25.619672\n",
      "tahıl ve ürünleri                      41472  15.189873          9.536299\n"
     ]
    }
   ],
   "source": [
    "cat_summary(df, \"ürün kategorisi\", \"ürün fiyatı\")"
   ]
  },
  {
   "cell_type": "code",
   "execution_count": 26,
   "id": "cec2a688-4f48-419e-9dc7-98c71ec410f5",
   "metadata": {},
   "outputs": [
    {
     "data": {
      "image/png": "[encoded data removed]",
      "text/plain": [
       "<Figure size 864x288 with 2 Axes>"
      ]
     },
     "metadata": {
      "needs_background": "light"
     },
     "output_type": "display_data"
    },
    {
     "data": {
      "image/png": "[encoded data removed]",
      "text/plain": [
       "<Figure size 871.2x288 with 1 Axes>"
      ]
     },
     "metadata": {
      "needs_background": "light"
     },
     "output_type": "display_data"
    }
   ],
   "source": [
    "cat_analyser_plot(df, \"ürün kategorisi\", \"ürün fiyatı\")"
   ]
  },
  {
   "cell_type": "code",
   "execution_count": 27,
   "id": "ca3cb213-ccfb-4717-a0db-8ac169c969ae",
   "metadata": {},
   "outputs": [
    {
     "data": {
      "image/png": "[encoded data removed]",
      "text/plain": [
       "<Figure size 432x288 with 1 Axes>"
      ]
     },
     "metadata": {
      "needs_background": "light"
     },
     "output_type": "display_data"
    }
   ],
   "source": [
    "plt.title(\"Ürün Üretim Yeri - Ürün Fiyatı Grafiği\")\n",
    "sns.barplot(x= \"ürün üretim yeri\", y= \"ürün fiyatı\", hue= \"ürün kategorisi\", data=df);"
   ]
  },
  {
   "cell_type": "markdown",
   "id": "f64d9467-c0d6-4245-9752-a453c4324af2",
   "metadata": {},
   "source": [
    "Veri setinde ürün kategorisi bazında sebze ve bakliyat ürünlerin çoğunlukta olduğu görülebilir. Buna karşın, ürün fiyatı (bağımlı değişken) ortalamasına göre et ürünlerinin daha pahallı olduğu görülebilir. "
   ]
  },
  {
   "cell_type": "code",
   "execution_count": 28,
   "id": "25db9afe-345f-400e-80b7-00e33460f522",
   "metadata": {},
   "outputs": [
    {
     "name": "stdout",
     "output_type": "stream",
     "text": [
      "   market      Ratio  ürün fiyatı_Mean\n",
      "B   91008  33.333333         16.399465\n",
      "C   91008  33.333333         16.315214\n",
      "M   91008  33.333333         16.331189\n"
     ]
    }
   ],
   "source": [
    "cat_summary(df, \"market\", \"ürün fiyatı\")"
   ]
  },
  {
   "cell_type": "code",
   "execution_count": 29,
   "id": "3ff50d17-2729-44dd-b969-9cc6c92559e7",
   "metadata": {},
   "outputs": [
    {
     "data": {
      "image/png": "[encoded data removed]",
      "text/plain": [
       "<Figure size 864x288 with 2 Axes>"
      ]
     },
     "metadata": {
      "needs_background": "light"
     },
     "output_type": "display_data"
    },
    {
     "data": {
      "image/png": "[encoded data removed]",
      "text/plain": [
       "<Figure size 871.2x288 with 1 Axes>"
      ]
     },
     "metadata": {
      "needs_background": "light"
     },
     "output_type": "display_data"
    }
   ],
   "source": [
    "cat_analyser_plot(df, \"market\", \"ürün fiyatı\")"
   ]
  },
  {
   "cell_type": "markdown",
   "id": "a63a19db-8038-4753-8ee7-81b88b7209c3",
   "metadata": {},
   "source": [
    "#### Market-Ürün kategorisinde fiyat değişim grafiği"
   ]
  },
  {
   "cell_type": "code",
   "execution_count": 30,
   "id": "bb0debe5-b387-4c6e-bb49-9dbe43f9bd20",
   "metadata": {},
   "outputs": [
    {
     "data": {
      "image/png": "[encoded data removed]",
      "text/plain": [
       "<Figure size 432x288 with 1 Axes>"
      ]
     },
     "metadata": {
      "needs_background": "light"
     },
     "output_type": "display_data"
    }
   ],
   "source": [
    "sns.barplot(x= \"market\", y= \"ürün fiyatı\", hue= \"ürün kategorisi\", data=df);"
   ]
  },
  {
   "cell_type": "markdown",
   "id": "fead667f-adc1-4f01-9a12-8e7785e325ad",
   "metadata": {},
   "source": [
    "**Marketlerdeki ürün dağılımı ve ürün fiyatı dağılımı** incelendiğinde her 3 markette de aynı olduğu görülebilir. **Veri setinin sentetik olarak üretilmesinden** kaynaklı bu ve benzeri dağılıma sahip değişkenlerin bağımlı değişken üzerinde önemli bir rolü **olmaması** beklenir."
   ]
  },
  {
   "cell_type": "markdown",
   "id": "b4caa40f-dd1b-4473-82f9-763350202d37",
   "metadata": {},
   "source": [
    "#### Şehir-Ürün kategorisinde fiyat değişim grafiği"
   ]
  },
  {
   "cell_type": "code",
   "execution_count": 31,
   "id": "668d6351-df54-4c16-8e94-2622695deeaf",
   "metadata": {},
   "outputs": [
    {
     "data": {
      "image/png": "[encoded data removed]",
      "text/plain": [
       "<Figure size 432x288 with 1 Axes>"
      ]
     },
     "metadata": {
      "needs_background": "light"
     },
     "output_type": "display_data"
    }
   ],
   "source": [
    "sns.barplot(x= \"şehir\", y= \"ürün fiyatı\", hue= \"ürün kategorisi\", data=df);"
   ]
  },
  {
   "cell_type": "markdown",
   "id": "e2d8776b-9973-432b-a4f6-ee26c02a5f07",
   "metadata": {},
   "source": [
    "**Şehirlerdeki ürün dağılımı ve ürün fiyatı dağılımı** incelendiğinde 8 şehirde de yaklaşık olarak aynı olduğu görülebilir. **Veri setinin sentetik olarak üretilmesinden** kaynaklı bu ve benzeri dağılıma sahip değişkenlerin bağımlı değişken üzerinde önemli bir rolü **olmaması** beklenir"
   ]
  },
  {
   "cell_type": "markdown",
   "id": "754d44bf-1e1a-4ff1-83d8-d7a8eddcf844",
   "metadata": {},
   "source": [
    "### 1.2.2-Nümerik Değişkenlerin Bağımlı Değişkene Göre Analizi"
   ]
  },
  {
   "cell_type": "markdown",
   "id": "c94dcf59-9fef-4113-ac66-0e08b69e6036",
   "metadata": {},
   "source": [
    "Bu bölümde, veri setindeki bağımlı değişken dışında tek nümerik değişken olan ürün besin değeri değişkeninin analizi yapılmıştır."
   ]
  },
  {
   "cell_type": "markdown",
   "id": "37c9c0e4-f923-456d-813f-9d380a2badc2",
   "metadata": {},
   "source": [
    "num_summary() veri setindeki nümerik değişkenlerin dağılımını veren özet fonksiyonudur."
   ]
  },
  {
   "cell_type": "code",
   "execution_count": 32,
   "id": "9a9f6526-1e4b-463e-b6d0-1e5de5610498",
   "metadata": {},
   "outputs": [],
   "source": [
    "def num_summary(dataframe, numerical_col, plot=False):\n",
    "    quantiles = [0.05, 0.10, 0.20, 0.30, 0.40, 0.50, 0.60, 0.70, 0.80, 0.90, 0.95, 0.99]\n",
    "    print(\"\\t\\t\\t\"+f\"{numerical_col}\"+\" Nümerik Değişken Özet İstatistiği\")\n",
    "    print(\"\\t\\t\\t---------------------------------------------\")\n",
    "    print(pd.DataFrame(dataframe[numerical_col].describe(quantiles)).T, \"\\n\")\n",
    "\n",
    "    if plot:\n",
    "        dataframe[numerical_col].hist(bins=20)\n",
    "        plt.xlabel(numerical_col)\n",
    "        plt.title(numerical_col)\n",
    "        plt.show()"
   ]
  },
  {
   "cell_type": "markdown",
   "id": "f0a86fc6-03b7-4361-959e-8929a5f23b46",
   "metadata": {},
   "source": [
    "num_analyser_plot() veri setindeki nümerik değişkenlerin dağılımı ve bağımlı değişkenle olan ilişkisini gösteren grafik fonksiyonudur."
   ]
  },
  {
   "cell_type": "code",
   "execution_count": 33,
   "id": "157e5a20-527e-4a89-8aad-d79843057e22",
   "metadata": {},
   "outputs": [],
   "source": [
    "def num_analyser_plot(df, num_col, target_col):\n",
    "    fig, axes = plt.subplots(1, 2, figsize=(12, 4))\n",
    "    \n",
    "    sns.histplot(df[num_col], kde=True, bins=30, ax=axes[0]);\n",
    "    axes[0].lines[0].set_color('green')\n",
    "    axes[0].set_title(f\"{num_col}\"+\" \"+\"Dağılımı\")\n",
    "    axes[0].set_ylabel(\"Gözlem Sayısı\")\n",
    "    \n",
    "    quantiles = [0, 0.25, 0.50, 0.75, 1]\n",
    "    num_df = df.copy()\n",
    "    num_df[f\"{num_col}\"+\"_CAT\"] = pd.qcut(df[num_col], q=quantiles) # nümerik değişken kategorize edildi.\n",
    "    df_2 = num_df.groupby(f\"{num_col}\"+\"_CAT\")[target_col].mean()\n",
    "    \n",
    "    sns.barplot(x=df_2.index, y=df_2.values);\n",
    "    axes[1].set_title(f\"{num_col} Kırılımında {target_col} Ortalaması\")\n",
    "    axes[1].set_ylabel(f\"{target_col}\")\n",
    "\n",
    "    plt.show()"
   ]
  },
  {
   "cell_type": "code",
   "execution_count": 34,
   "id": "dae5f9be-d521-4b16-be85-cde75f8c463b",
   "metadata": {},
   "outputs": [
    {
     "name": "stdout",
     "output_type": "stream",
     "text": [
      "\t\t\türün besin değeri Nümerik Değişken Özet İstatistiği\n",
      "\t\t\t---------------------------------------------\n",
      "                      count        mean         std  min    5%   10%   20%   30%   40%   50%    60%    70%    80%    90%    95%    99%    max\n",
      "ürün besin değeri  273024.0  143.113924  133.218822  8.0  17.0  24.0  35.0  42.0  57.0  83.0  110.0  160.0  350.0  368.0  390.0  402.0  402.0 \n",
      "\n"
     ]
    },
    {
     "data": {
      "image/png": "[encoded data removed]",
      "text/plain": [
       "<Figure size 864x288 with 2 Axes>"
      ]
     },
     "metadata": {
      "needs_background": "light"
     },
     "output_type": "display_data"
    }
   ],
   "source": [
    "num_summary(df, \"ürün besin değeri\")\n",
    "num_analyser_plot(df, \"ürün besin değeri\", \"ürün fiyatı\")"
   ]
  },
  {
   "cell_type": "code",
   "execution_count": 35,
   "id": "74283d56-0f85-44ba-b7b5-0b8136ee1163",
   "metadata": {},
   "outputs": [
    {
     "data": {
      "image/png": "[encoded data removed]",
      "text/plain": [
       "<Figure size 900x600 with 1 Axes>"
      ]
     },
     "metadata": {
      "needs_background": "light"
     },
     "output_type": "display_data"
    }
   ],
   "source": [
    "plt.figure(dpi=75, figsize=(12,8))\n",
    "sns.scatterplot(x= \"ürün besin değeri\", y= \"ürün fiyatı\", hue= \"ürün kategorisi\", data= df);\n",
    "plt.legend(fontsize=20, loc=1);"
   ]
  },
  {
   "cell_type": "markdown",
   "id": "01139b51-185f-478e-9397-08e36ac5421e",
   "metadata": {},
   "source": [
    "Grafiklere göre, veri setinde ürün besin değeri düşük olanlarn çoğunlukta olduğu görülebilir. Ürünlere ait besin değerlerinde orta-yüksek (3. segment) olanların ortalama olarak daha pahallı olduğu görülebilir."
   ]
  },
  {
   "cell_type": "markdown",
   "id": "4b81b031-e28b-4e14-aa20-675e0f746dd7",
   "metadata": {},
   "source": [
    "# 2-Feature Engineering (Özellik Mühendisliği)"
   ]
  },
  {
   "cell_type": "markdown",
   "id": "05ee6e9d-24c4-4a13-b0c0-917defd92aa5",
   "metadata": {},
   "source": [
    "Buraya kadarki kısım, Veri setine ilk bakışla ilgiliydi. EDA olarak da tanımlanan buraya kadarki kısımda veri üzerinde herhangi bir değişiklik yapılmadı"
   ]
  },
  {
   "cell_type": "markdown",
   "id": "18d6f777-b657-47b1-8aae-37a481effdfc",
   "metadata": {},
   "source": [
    "Feature Engineering bölümüyle ile birlikte veri seti, geliştirilecek model için sayısallaştırılacaktır."
   ]
  },
  {
   "cell_type": "markdown",
   "id": "8afd4f7b-df74-4f53-a495-7755d797b002",
   "metadata": {},
   "source": [
    "#### Tüm Ürün Kategorilerinde Zamana Bağlı Değişim Grafiği"
   ]
  },
  {
   "cell_type": "code",
   "execution_count": 36,
   "id": "a1fe6477-58d0-42d9-8975-0bc6c69a80ac",
   "metadata": {},
   "outputs": [
    {
     "data": {
      "image/png": "[encoded data removed]",
      "text/plain": [
       "<Figure size 450x300 with 1 Axes>"
      ]
     },
     "metadata": {
      "needs_background": "light"
     },
     "output_type": "display_data"
    }
   ],
   "source": [
    "plt.figure(dpi=75)\n",
    "plt.title(\"Ürün Kategorilerinde Zamana Bağlı Değişim Grafiği\")\n",
    "sns.scatterplot(x= \"tarih\", y= \"ürün fiyatı\", hue= df[\"ürün kategorisi\"], data=df);"
   ]
  },
  {
   "cell_type": "markdown",
   "id": "62c333ae-0b93-4935-85ef-0025bd8efac8",
   "metadata": {},
   "source": [
    "#### 2016-2021 Tarihleri Arasındaki Dolar Kuru Hareketi"
   ]
  },
  {
   "attachments": {
    "dolar_tl.jpg": {
     "image/jpeg": "[encoded data removed]"
    }
   },
   "cell_type": "markdown",
   "id": "ae2323f8-44fc-4ce5-bd43-928e590fbe2f",
   "metadata": {},
   "source": [
    "![dolar_tl.jpg](attachment:dolar_tl.jpg)"
   ]
  },
  {
   "cell_type": "markdown",
   "id": "c06e0752-6591-4f7c-ac0d-8e9ba59783eb",
   "metadata": {},
   "source": [
    "Tüm ürün kategorilerindeki zamana bağlı artış grafiği ile dolar kurunun ilgili yıllardaki değişiminin örtüştüğünü görmek mümkün. Bu sebeple, bağımlı değişkeni daha iyi açıklaması adına veri setine yeni değişken olarak dolar kuru eklenecektir. "
   ]
  },
  {
   "cell_type": "markdown",
   "id": "cb2d8fb4-3538-4645-8ec3-ad860704ef65",
   "metadata": {},
   "source": [
    "## 2.1-Yeni Değişkenler Ekleme & Türetme (Feature Extraction)"
   ]
  },
  {
   "cell_type": "markdown",
   "id": "3da8c3ce-ed68-4fb4-a833-40040455aa7e",
   "metadata": {},
   "source": [
    "Bu bölüm, Keşifçi Veri Analizi bölümünde ele alınan değişkenlerin bağımlı değişken ile olan ilişkisi üzerinden, yeni değişkenler türetme aşamasıdır"
   ]
  },
  {
   "cell_type": "markdown",
   "id": "b38d7477-32c5-4f2c-9173-d94ad36d779d",
   "metadata": {},
   "source": [
    "3 Farklı yöntemde yeni değişkenler türetilecektir. İlk olarak veri setinde olmayan yeni değişkenler ekleme (dolar, enflasyon bilgisi), veri setindeki zaman değişkeni üzerinden yeni zaman değişkenleri türetme ve son olarak veri setindeki diğer değişkenler üzerinden nümerik ve kategorik değişkenler türetme."
   ]
  },
  {
   "cell_type": "code",
   "execution_count": 32,
   "id": "c7c4fd37-9219-4ce8-a278-390b06ea4750",
   "metadata": {},
   "outputs": [
    {
     "data": {
      "text/html": [
       "<div>\n",
       "<style scoped>\n",
       "    .dataframe tbody tr th:only-of-type {\n",
       "        vertical-align: middle;\n",
       "    }\n",
       "\n",
       "    .dataframe tbody tr th {\n",
       "        vertical-align: top;\n",
       "    }\n",
       "\n",
       "    .dataframe thead th {\n",
       "        text-align: right;\n",
       "    }\n",
       "</style>\n",
       "<table border=\"1\" class=\"dataframe\">\n",
       "  <thead>\n",
       "    <tr style=\"text-align: right;\">\n",
       "      <th></th>\n",
       "      <th>tarih</th>\n",
       "      <th>ürün</th>\n",
       "      <th>ürün besin değeri</th>\n",
       "      <th>ürün kategorisi</th>\n",
       "      <th>ürün fiyatı</th>\n",
       "      <th>ürün üretim yeri</th>\n",
       "      <th>market</th>\n",
       "      <th>şehir</th>\n",
       "      <th>id</th>\n",
       "    </tr>\n",
       "  </thead>\n",
       "  <tbody>\n",
       "    <tr>\n",
       "      <th>0</th>\n",
       "      <td>2016-01-01</td>\n",
       "      <td>kıyma</td>\n",
       "      <td>120</td>\n",
       "      <td>et</td>\n",
       "      <td>33.41</td>\n",
       "      <td>Yurt içi</td>\n",
       "      <td>M</td>\n",
       "      <td>A</td>\n",
       "      <td>NaN</td>\n",
       "    </tr>\n",
       "    <tr>\n",
       "      <th>1</th>\n",
       "      <td>2016-01-01</td>\n",
       "      <td>tavuk</td>\n",
       "      <td>103</td>\n",
       "      <td>et</td>\n",
       "      <td>11.22</td>\n",
       "      <td>Yurt içi</td>\n",
       "      <td>M</td>\n",
       "      <td>A</td>\n",
       "      <td>NaN</td>\n",
       "    </tr>\n",
       "    <tr>\n",
       "      <th>2</th>\n",
       "      <td>2016-01-01</td>\n",
       "      <td>hindi</td>\n",
       "      <td>160</td>\n",
       "      <td>et</td>\n",
       "      <td>11.12</td>\n",
       "      <td>Yurt içi</td>\n",
       "      <td>M</td>\n",
       "      <td>A</td>\n",
       "      <td>NaN</td>\n",
       "    </tr>\n",
       "    <tr>\n",
       "      <th>3</th>\n",
       "      <td>2016-01-01</td>\n",
       "      <td>Bakla-kuru</td>\n",
       "      <td>354</td>\n",
       "      <td>sebze ve bakliyat</td>\n",
       "      <td>7.02</td>\n",
       "      <td>Yurt içi</td>\n",
       "      <td>M</td>\n",
       "      <td>A</td>\n",
       "      <td>NaN</td>\n",
       "    </tr>\n",
       "    <tr>\n",
       "      <th>4</th>\n",
       "      <td>2016-01-01</td>\n",
       "      <td>Bakla-taze</td>\n",
       "      <td>72</td>\n",
       "      <td>sebze ve bakliyat</td>\n",
       "      <td>13.14</td>\n",
       "      <td>Yurt içi</td>\n",
       "      <td>M</td>\n",
       "      <td>A</td>\n",
       "      <td>NaN</td>\n",
       "    </tr>\n",
       "  </tbody>\n",
       "</table>\n",
       "</div>"
      ],
      "text/plain": [
       "       tarih        ürün  ürün besin değeri    ürün kategorisi  ürün fiyatı ürün üretim yeri market şehir  id\n",
       "0 2016-01-01       kıyma                120                 et        33.41         Yurt içi      M     A NaN\n",
       "1 2016-01-01       tavuk                103                 et        11.22         Yurt içi      M     A NaN\n",
       "2 2016-01-01       hindi                160                 et        11.12         Yurt içi      M     A NaN\n",
       "3 2016-01-01  Bakla-kuru                354  sebze ve bakliyat         7.02         Yurt içi      M     A NaN\n",
       "4 2016-01-01  Bakla-taze                 72  sebze ve bakliyat        13.14         Yurt içi      M     A NaN"
      ]
     },
     "execution_count": 32,
     "metadata": {},
     "output_type": "execute_result"
    }
   ],
   "source": [
    "df.head()"
   ]
  },
  {
   "cell_type": "markdown",
   "id": "3b92e7a5-f6f4-41a6-8ccd-04c334516d8b",
   "metadata": {},
   "source": [
    "### 2.1.1 Veri Setinde Olmayan Yeni Değişkenler Ekleme"
   ]
  },
  {
   "cell_type": "markdown",
   "id": "e20dc94f-60de-4da2-ac67-a380e33f7c97",
   "metadata": {},
   "source": [
    "Bu bölümde, veri setinde olmayan fakat bağımlı değişken (ürün fiyatı) üzerinde önemli bir ilişki olacağı düşünülen yeni değişkenler bulunup eklenecektir. "
   ]
  },
  {
   "cell_type": "markdown",
   "id": "b701a72d-bac7-43a3-88f7-8bb6f98203ca",
   "metadata": {},
   "source": [
    "#### Dolar Değişkeni Ekleme"
   ]
  },
  {
   "cell_type": "markdown",
   "id": "cd82bdb8-d363-404b-b8e0-f2201088fa1f",
   "metadata": {},
   "source": [
    "Bağımlı değişkenin yıllara göre değişimi incelendiğinde, tarihsel dolar kuru ile bir ilişkisi olduğu söylenebilir. https://www.investing.com/currencies/usd-try-historical-data web sayfası üzerinden alınan dolar/tl verileri eklendi."
   ]
  },
  {
   "cell_type": "markdown",
   "id": "1ffdb154-63f2-4f2b-8298-a725d383d5ef",
   "metadata": {},
   "source": [
    "#### Enflasyon Değişkeni Ekleme"
   ]
  },
  {
   "cell_type": "markdown",
   "id": "4ee732eb-3452-4706-a32b-16cd24ad74ba",
   "metadata": {},
   "source": [
    "Bağımlı değişken üzerinde etkili olabileceği düşünülen bir diğer değişken ise enflasyon(TÜFE oranları). https://www.tcmb.gov.tr/wps/wcm/connect/TR/TCMB+TR/Main+Menu/Istatistikler/Enflasyon+Verileri/Tuketici+Fiyatlari web sayfasından alınan veriler, veri setine eklendi. "
   ]
  },
  {
   "cell_type": "markdown",
   "id": "c42cf4ac-8289-440c-a278-465702fc2b2e",
   "metadata": {},
   "source": [
    "Bu kısımla ilgili detaylı bilgi **Veriye-Yeni-Değişken-Ekleme.ipynb** dosyasından açıklanmıştır. "
   ]
  },
  {
   "cell_type": "markdown",
   "id": "6197f204-fcce-4748-bc67-a9a676db6155",
   "metadata": {},
   "source": [
    "Eklenen yeni değişkenler sonrası kolay kullanım için veri seti, yeni bir csv dosyası olarak kaydedildi. Elde edilen son hali şu şekildedir:"
   ]
  },
  {
   "cell_type": "code",
   "execution_count": 33,
   "id": "f33f0992-602f-487b-af41-447256c4ed3f",
   "metadata": {},
   "outputs": [],
   "source": [
    "train = pd.read_csv(\"~/Desktop/DataThon/datasets/kendiTrainVerim.csv\", parse_dates=['tarih'], index_col=[0])\n",
    "test = pd.read_csv(\"~/Desktop/DataThon/datasets/kendiTestVerim.csv\", parse_dates=['tarih'], index_col=[0])\n",
    "df = pd.concat([train, test], sort=False, ignore_index=True)"
   ]
  },
  {
   "cell_type": "code",
   "execution_count": 34,
   "id": "e4c407fe-b172-4a56-a499-1b602bfec935",
   "metadata": {},
   "outputs": [
    {
     "data": {
      "text/html": [
       "<div>\n",
       "<style scoped>\n",
       "    .dataframe tbody tr th:only-of-type {\n",
       "        vertical-align: middle;\n",
       "    }\n",
       "\n",
       "    .dataframe tbody tr th {\n",
       "        vertical-align: top;\n",
       "    }\n",
       "\n",
       "    .dataframe thead th {\n",
       "        text-align: right;\n",
       "    }\n",
       "</style>\n",
       "<table border=\"1\" class=\"dataframe\">\n",
       "  <thead>\n",
       "    <tr style=\"text-align: right;\">\n",
       "      <th></th>\n",
       "      <th>tarih</th>\n",
       "      <th>ürün</th>\n",
       "      <th>ürün besin değeri</th>\n",
       "      <th>ürün kategorisi</th>\n",
       "      <th>ürün fiyatı</th>\n",
       "      <th>ürün üretim yeri</th>\n",
       "      <th>market</th>\n",
       "      <th>şehir</th>\n",
       "      <th>Price</th>\n",
       "      <th>yillik tufe</th>\n",
       "      <th>aylık tufe</th>\n",
       "      <th>id</th>\n",
       "    </tr>\n",
       "  </thead>\n",
       "  <tbody>\n",
       "    <tr>\n",
       "      <th>0</th>\n",
       "      <td>2016-01-01</td>\n",
       "      <td>kıyma</td>\n",
       "      <td>120</td>\n",
       "      <td>et</td>\n",
       "      <td>33.41</td>\n",
       "      <td>Yurt içi</td>\n",
       "      <td>M</td>\n",
       "      <td>A</td>\n",
       "      <td>2.9139</td>\n",
       "      <td>9.58</td>\n",
       "      <td>1.82</td>\n",
       "      <td>NaN</td>\n",
       "    </tr>\n",
       "    <tr>\n",
       "      <th>1</th>\n",
       "      <td>2016-01-01</td>\n",
       "      <td>tavuk</td>\n",
       "      <td>103</td>\n",
       "      <td>et</td>\n",
       "      <td>11.22</td>\n",
       "      <td>Yurt içi</td>\n",
       "      <td>M</td>\n",
       "      <td>A</td>\n",
       "      <td>2.9139</td>\n",
       "      <td>9.58</td>\n",
       "      <td>1.82</td>\n",
       "      <td>NaN</td>\n",
       "    </tr>\n",
       "    <tr>\n",
       "      <th>2</th>\n",
       "      <td>2016-01-01</td>\n",
       "      <td>hindi</td>\n",
       "      <td>160</td>\n",
       "      <td>et</td>\n",
       "      <td>11.12</td>\n",
       "      <td>Yurt içi</td>\n",
       "      <td>M</td>\n",
       "      <td>A</td>\n",
       "      <td>2.9139</td>\n",
       "      <td>9.58</td>\n",
       "      <td>1.82</td>\n",
       "      <td>NaN</td>\n",
       "    </tr>\n",
       "    <tr>\n",
       "      <th>3</th>\n",
       "      <td>2016-01-01</td>\n",
       "      <td>Bakla-kuru</td>\n",
       "      <td>354</td>\n",
       "      <td>sebze ve bakliyat</td>\n",
       "      <td>7.02</td>\n",
       "      <td>Yurt içi</td>\n",
       "      <td>M</td>\n",
       "      <td>A</td>\n",
       "      <td>2.9139</td>\n",
       "      <td>9.58</td>\n",
       "      <td>1.82</td>\n",
       "      <td>NaN</td>\n",
       "    </tr>\n",
       "    <tr>\n",
       "      <th>4</th>\n",
       "      <td>2016-01-01</td>\n",
       "      <td>Bakla-taze</td>\n",
       "      <td>72</td>\n",
       "      <td>sebze ve bakliyat</td>\n",
       "      <td>13.14</td>\n",
       "      <td>Yurt içi</td>\n",
       "      <td>M</td>\n",
       "      <td>A</td>\n",
       "      <td>2.9139</td>\n",
       "      <td>9.58</td>\n",
       "      <td>1.82</td>\n",
       "      <td>NaN</td>\n",
       "    </tr>\n",
       "  </tbody>\n",
       "</table>\n",
       "</div>"
      ],
      "text/plain": [
       "       tarih        ürün  ürün besin değeri    ürün kategorisi  ürün fiyatı ürün üretim yeri market şehir   Price  yillik tufe  aylık tufe  id\n",
       "0 2016-01-01       kıyma                120                 et        33.41         Yurt içi      M     A  2.9139         9.58        1.82 NaN\n",
       "1 2016-01-01       tavuk                103                 et        11.22         Yurt içi      M     A  2.9139         9.58        1.82 NaN\n",
       "2 2016-01-01       hindi                160                 et        11.12         Yurt içi      M     A  2.9139         9.58        1.82 NaN\n",
       "3 2016-01-01  Bakla-kuru                354  sebze ve bakliyat         7.02         Yurt içi      M     A  2.9139         9.58        1.82 NaN\n",
       "4 2016-01-01  Bakla-taze                 72  sebze ve bakliyat        13.14         Yurt içi      M     A  2.9139         9.58        1.82 NaN"
      ]
     },
     "execution_count": 34,
     "metadata": {},
     "output_type": "execute_result"
    }
   ],
   "source": [
    "df.head()"
   ]
  },
  {
   "cell_type": "markdown",
   "id": "3a581d96-4d56-4cd3-8d83-8451536a5d0e",
   "metadata": {},
   "source": [
    "Price değişkeni, ilgili tarihe ait dolar kurunu, yillik tufe ve aylık tufe değişkenleri ise enflasyon bilgisini vermektedir."
   ]
  },
  {
   "cell_type": "markdown",
   "id": "2843916a-4f2e-47fe-8db4-09c3e3613d5a",
   "metadata": {},
   "source": [
    "#### Yeni Eklenen Değişkenler Sonrası Korelasyon Analizi"
   ]
  },
  {
   "cell_type": "markdown",
   "id": "040487b4-a229-4992-9e88-1a0dfbac1209",
   "metadata": {},
   "source": [
    "Korelasyon grafiği, veri setinde olmayan yeni değişkenlerin eklenmesi sonrası tüm değişkenlerin birbiri arasındaki ilişkileri gösteren heat map'tir."
   ]
  },
  {
   "cell_type": "code",
   "execution_count": 35,
   "id": "4b7eee20-a84a-4b9c-a60b-692c1807550e",
   "metadata": {},
   "outputs": [],
   "source": [
    "df_copy = df.drop([\"id\"], axis=1).copy()  # id değişkenini dışında tuttuk. \n",
    "df_corr = df_copy.corr(method ='pearson')"
   ]
  },
  {
   "cell_type": "code",
   "execution_count": 36,
   "id": "b7c1de2a-29c7-480c-9ee5-8003444de173",
   "metadata": {},
   "outputs": [
    {
     "data": {
      "image/png": "[encoded data removed]",
      "text/plain": [
       "<Figure size 936x576 with 2 Axes>"
      ]
     },
     "metadata": {},
     "output_type": "display_data"
    }
   ],
   "source": [
    "sns.set(rc = {'figure.figsize':(13,8)})\n",
    "sns.heatmap(df_corr);"
   ]
  },
  {
   "cell_type": "markdown",
   "id": "c5ce6b59-e19f-469a-a530-4fc3837b8d85",
   "metadata": {},
   "source": [
    "Görüldüğü üzere yeni eklenen dolar kuru ve enflasyon değişkenleri ürün fiyatını açıklamada daha iyi (korelasyon değerleri daha yüksek)"
   ]
  },
  {
   "cell_type": "markdown",
   "id": "4da2cddb-be4f-441f-b54c-018d90f30cbe",
   "metadata": {},
   "source": [
    "### 2.1.2 Veri Setinde Olan Değişkenler Üzerinden Yeni Değişkenler Türetme"
   ]
  },
  {
   "cell_type": "markdown",
   "id": "113faa07-033c-4df2-a72b-1f1fd9f1630f",
   "metadata": {
    "tags": []
   },
   "source": [
    "Var olan değişkenler üzerinden türetilecek olan yeni değişkenlerle, bağımlı değişken ile arasında anlamlı çıkarımlar kurulması amaçlanacaktır."
   ]
  },
  {
   "cell_type": "markdown",
   "id": "81ad8111-4df1-436a-9a45-84540749064a",
   "metadata": {},
   "source": [
    "Bu bölümde, türetilecek değişkenler iki kısıma ayrılacaktır. Zaman Serisi problemi olduğundan bu ikiye ayrım; zaman değişkeninden türetilen değişkenler ve diğer değişkenler üzerinden türetilecek değişkenler olacaktır. "
   ]
  },
  {
   "cell_type": "markdown",
   "id": "6ec5362a-4efa-46fe-adc2-67de40630d83",
   "metadata": {},
   "source": [
    "#### 2.1.2.1-Yeni Zaman Değişkenleri Türetme"
   ]
  },
  {
   "cell_type": "markdown",
   "id": "9fc2e264-9666-4e14-a141-6e6927a08716",
   "metadata": {},
   "source": [
    "tarih değişkeninden yeni değişkenlerin türetilmesi aşamasıdır."
   ]
  },
  {
   "cell_type": "markdown",
   "id": "11bf4289-771c-465d-8ab5-ed3db030be0c",
   "metadata": {},
   "source": [
    "##### tarih Değişkeninden Nümerik ve Kategorik Değişkenler Türetme"
   ]
  },
  {
   "cell_type": "markdown",
   "id": "d3c34b72-04d9-422e-bb18-04f0ab4b661f",
   "metadata": {},
   "source": [
    "create_date_features( ) fonksiyonu, zaman değişkeni üzerinden yeni zaman değişkenlerinin türetilmesini sağlayan fonksiyondur."
   ]
  },
  {
   "cell_type": "code",
   "execution_count": 37,
   "id": "7693fbb3-6896-4ad7-ae20-ec0c9bda0cdd",
   "metadata": {},
   "outputs": [],
   "source": [
    "def create_date_features(df):\n",
    "    df['month'] = df.tarih.dt.month\n",
    "    df['day_of_year'] = df.tarih.dt.dayofyear  # yılın kaçıncı günü\n",
    "    df['week_of_year'] = df.tarih.dt.weekofyear # yılın kaçıncı haftası\n",
    "    df['day_of_week'] = df.tarih.dt.dayofweek  # haftanın kaçıncı günü\n",
    "    df['year'] = df.tarih.dt.year  # tarih\n",
    "    df[\"is_wknd\"] = df.tarih.dt.weekday // 4   # hafta sonu mu?\n",
    "    df['is_month_start'] = df.tarih.dt.is_month_start.astype(int)  # ay başı mı?\n",
    "    df['is_month_end'] = df.tarih.dt.is_month_end.astype(int)  # ay sonu mu?\n",
    "    return df"
   ]
  },
  {
   "cell_type": "code",
   "execution_count": 38,
   "id": "dee5961d-b917-436a-9855-a62cbf9e3296",
   "metadata": {},
   "outputs": [],
   "source": [
    "df = create_date_features(df)"
   ]
  },
  {
   "cell_type": "markdown",
   "id": "08f55877-4c6d-44c2-b179-07059676c309",
   "metadata": {},
   "source": [
    "##### Zamanda Kaydırma (Shift) ile Yeni Değişkenler Türetme"
   ]
  },
  {
   "cell_type": "markdown",
   "id": "f683fbd0-8520-46fa-9581-4c7766fcb515",
   "metadata": {},
   "source": [
    "random_noise () fonksiyonu ile kaydırmalı türetilecek değişkenlerde aşırı öğrenmenin (overfitting) önüne geçilmeye çalışılacaktır."
   ]
  },
  {
   "cell_type": "code",
   "execution_count": 39,
   "id": "0ede9d37-9c6a-40ce-8a04-1974fd9576d3",
   "metadata": {},
   "outputs": [],
   "source": [
    "def random_noise(dataframe):\n",
    "    return np.random.normal(scale=1.6, size=(len(dataframe),))"
   ]
  },
  {
   "cell_type": "markdown",
   "id": "e9115d37-d529-4c84-af99-97e6f8523dda",
   "metadata": {},
   "source": [
    "lag_features () fonksiyonu, ürün fiyatında tarihsel olarak kaydırma yapılıp bu değerler yeni değişkene atılacaktır. Zamanın belirli bir aralığında bağımlı değişken üzerinde bir etkisi olup olmadığı incelenecektir. Bu sayede, veri setindeki mevsimsellik yakalanmaya çalışılacaktır. "
   ]
  },
  {
   "cell_type": "code",
   "execution_count": 40,
   "id": "2eef2cad-bbe6-4743-b9ab-c2330af5d881",
   "metadata": {},
   "outputs": [],
   "source": [
    "def lag_features(dataframe, lags):\n",
    "    for lag in lags:\n",
    "        dataframe['ürün_fiyat_lag_' + str(lag)] = dataframe.groupby([\"ürün\", \"ürün kategorisi\", \"ürün üretim yeri\", \"şehir\", \"market\"])['ürün fiyatı'].transform(\n",
    "            lambda x: x.shift(lag)) + random_noise(dataframe)\n",
    "    return dataframe"
   ]
  },
  {
   "cell_type": "code",
   "execution_count": 41,
   "id": "41801fcb-c195-4d4b-af6c-b72e8c08cb5a",
   "metadata": {},
   "outputs": [],
   "source": [
    "df = lag_features(df, [1, 2, 3, 4, 5, 6, 7, 8, 9])  # Her bir kaydırma 1 aylık bir dönemi kapsamaktadır."
   ]
  },
  {
   "cell_type": "code",
   "execution_count": 42,
   "id": "c7f9ce98-6bd7-4ccb-bf51-13a8ad3a25b4",
   "metadata": {},
   "outputs": [
    {
     "data": {
      "text/html": [
       "<div>\n",
       "<style scoped>\n",
       "    .dataframe tbody tr th:only-of-type {\n",
       "        vertical-align: middle;\n",
       "    }\n",
       "\n",
       "    .dataframe tbody tr th {\n",
       "        vertical-align: top;\n",
       "    }\n",
       "\n",
       "    .dataframe thead th {\n",
       "        text-align: right;\n",
       "    }\n",
       "</style>\n",
       "<table border=\"1\" class=\"dataframe\">\n",
       "  <thead>\n",
       "    <tr style=\"text-align: right;\">\n",
       "      <th></th>\n",
       "      <th>tarih</th>\n",
       "      <th>ürün</th>\n",
       "      <th>ürün besin değeri</th>\n",
       "      <th>ürün kategorisi</th>\n",
       "      <th>ürün fiyatı</th>\n",
       "      <th>ürün üretim yeri</th>\n",
       "      <th>market</th>\n",
       "      <th>şehir</th>\n",
       "      <th>Price</th>\n",
       "      <th>yillik tufe</th>\n",
       "      <th>aylık tufe</th>\n",
       "      <th>id</th>\n",
       "      <th>month</th>\n",
       "      <th>day_of_year</th>\n",
       "      <th>week_of_year</th>\n",
       "      <th>day_of_week</th>\n",
       "      <th>year</th>\n",
       "      <th>is_wknd</th>\n",
       "      <th>is_month_start</th>\n",
       "      <th>is_month_end</th>\n",
       "      <th>ürün_fiyat_lag_1</th>\n",
       "      <th>ürün_fiyat_lag_2</th>\n",
       "      <th>ürün_fiyat_lag_3</th>\n",
       "      <th>ürün_fiyat_lag_4</th>\n",
       "      <th>ürün_fiyat_lag_5</th>\n",
       "      <th>ürün_fiyat_lag_6</th>\n",
       "      <th>ürün_fiyat_lag_7</th>\n",
       "      <th>ürün_fiyat_lag_8</th>\n",
       "      <th>ürün_fiyat_lag_9</th>\n",
       "    </tr>\n",
       "  </thead>\n",
       "  <tbody>\n",
       "    <tr>\n",
       "      <th>0</th>\n",
       "      <td>2016-01-01</td>\n",
       "      <td>kıyma</td>\n",
       "      <td>120</td>\n",
       "      <td>et</td>\n",
       "      <td>33.41</td>\n",
       "      <td>Yurt içi</td>\n",
       "      <td>M</td>\n",
       "      <td>A</td>\n",
       "      <td>2.9139</td>\n",
       "      <td>9.58</td>\n",
       "      <td>1.82</td>\n",
       "      <td>NaN</td>\n",
       "      <td>1</td>\n",
       "      <td>1</td>\n",
       "      <td>53</td>\n",
       "      <td>4</td>\n",
       "      <td>2016</td>\n",
       "      <td>1</td>\n",
       "      <td>1</td>\n",
       "      <td>0</td>\n",
       "      <td>NaN</td>\n",
       "      <td>NaN</td>\n",
       "      <td>NaN</td>\n",
       "      <td>NaN</td>\n",
       "      <td>NaN</td>\n",
       "      <td>NaN</td>\n",
       "      <td>NaN</td>\n",
       "      <td>NaN</td>\n",
       "      <td>NaN</td>\n",
       "    </tr>\n",
       "    <tr>\n",
       "      <th>1</th>\n",
       "      <td>2016-01-01</td>\n",
       "      <td>tavuk</td>\n",
       "      <td>103</td>\n",
       "      <td>et</td>\n",
       "      <td>11.22</td>\n",
       "      <td>Yurt içi</td>\n",
       "      <td>M</td>\n",
       "      <td>A</td>\n",
       "      <td>2.9139</td>\n",
       "      <td>9.58</td>\n",
       "      <td>1.82</td>\n",
       "      <td>NaN</td>\n",
       "      <td>1</td>\n",
       "      <td>1</td>\n",
       "      <td>53</td>\n",
       "      <td>4</td>\n",
       "      <td>2016</td>\n",
       "      <td>1</td>\n",
       "      <td>1</td>\n",
       "      <td>0</td>\n",
       "      <td>NaN</td>\n",
       "      <td>NaN</td>\n",
       "      <td>NaN</td>\n",
       "      <td>NaN</td>\n",
       "      <td>NaN</td>\n",
       "      <td>NaN</td>\n",
       "      <td>NaN</td>\n",
       "      <td>NaN</td>\n",
       "      <td>NaN</td>\n",
       "    </tr>\n",
       "    <tr>\n",
       "      <th>2</th>\n",
       "      <td>2016-01-01</td>\n",
       "      <td>hindi</td>\n",
       "      <td>160</td>\n",
       "      <td>et</td>\n",
       "      <td>11.12</td>\n",
       "      <td>Yurt içi</td>\n",
       "      <td>M</td>\n",
       "      <td>A</td>\n",
       "      <td>2.9139</td>\n",
       "      <td>9.58</td>\n",
       "      <td>1.82</td>\n",
       "      <td>NaN</td>\n",
       "      <td>1</td>\n",
       "      <td>1</td>\n",
       "      <td>53</td>\n",
       "      <td>4</td>\n",
       "      <td>2016</td>\n",
       "      <td>1</td>\n",
       "      <td>1</td>\n",
       "      <td>0</td>\n",
       "      <td>NaN</td>\n",
       "      <td>NaN</td>\n",
       "      <td>NaN</td>\n",
       "      <td>NaN</td>\n",
       "      <td>NaN</td>\n",
       "      <td>NaN</td>\n",
       "      <td>NaN</td>\n",
       "      <td>NaN</td>\n",
       "      <td>NaN</td>\n",
       "    </tr>\n",
       "    <tr>\n",
       "      <th>3</th>\n",
       "      <td>2016-01-01</td>\n",
       "      <td>Bakla-kuru</td>\n",
       "      <td>354</td>\n",
       "      <td>sebze ve bakliyat</td>\n",
       "      <td>7.02</td>\n",
       "      <td>Yurt içi</td>\n",
       "      <td>M</td>\n",
       "      <td>A</td>\n",
       "      <td>2.9139</td>\n",
       "      <td>9.58</td>\n",
       "      <td>1.82</td>\n",
       "      <td>NaN</td>\n",
       "      <td>1</td>\n",
       "      <td>1</td>\n",
       "      <td>53</td>\n",
       "      <td>4</td>\n",
       "      <td>2016</td>\n",
       "      <td>1</td>\n",
       "      <td>1</td>\n",
       "      <td>0</td>\n",
       "      <td>NaN</td>\n",
       "      <td>NaN</td>\n",
       "      <td>NaN</td>\n",
       "      <td>NaN</td>\n",
       "      <td>NaN</td>\n",
       "      <td>NaN</td>\n",
       "      <td>NaN</td>\n",
       "      <td>NaN</td>\n",
       "      <td>NaN</td>\n",
       "    </tr>\n",
       "    <tr>\n",
       "      <th>4</th>\n",
       "      <td>2016-01-01</td>\n",
       "      <td>Bakla-taze</td>\n",
       "      <td>72</td>\n",
       "      <td>sebze ve bakliyat</td>\n",
       "      <td>13.14</td>\n",
       "      <td>Yurt içi</td>\n",
       "      <td>M</td>\n",
       "      <td>A</td>\n",
       "      <td>2.9139</td>\n",
       "      <td>9.58</td>\n",
       "      <td>1.82</td>\n",
       "      <td>NaN</td>\n",
       "      <td>1</td>\n",
       "      <td>1</td>\n",
       "      <td>53</td>\n",
       "      <td>4</td>\n",
       "      <td>2016</td>\n",
       "      <td>1</td>\n",
       "      <td>1</td>\n",
       "      <td>0</td>\n",
       "      <td>NaN</td>\n",
       "      <td>NaN</td>\n",
       "      <td>NaN</td>\n",
       "      <td>NaN</td>\n",
       "      <td>NaN</td>\n",
       "      <td>NaN</td>\n",
       "      <td>NaN</td>\n",
       "      <td>NaN</td>\n",
       "      <td>NaN</td>\n",
       "    </tr>\n",
       "  </tbody>\n",
       "</table>\n",
       "</div>"
      ],
      "text/plain": [
       "       tarih        ürün  ürün besin değeri    ürün kategorisi  ürün fiyatı ürün üretim yeri market şehir   Price  yillik tufe  aylık tufe  id  month  day_of_year  week_of_year  day_of_week  year  is_wknd  is_month_start  is_month_end  ürün_fiyat_lag_1  ürün_fiyat_lag_2  ürün_fiyat_lag_3  ürün_fiyat_lag_4  ürün_fiyat_lag_5  ürün_fiyat_lag_6  ürün_fiyat_lag_7  ürün_fiyat_lag_8  ürün_fiyat_lag_9\n",
       "0 2016-01-01       kıyma                120                 et        33.41         Yurt içi      M     A  2.9139         9.58        1.82 NaN      1            1            53            4  2016        1               1             0               NaN               NaN               NaN               NaN               NaN               NaN               NaN               NaN               NaN\n",
       "1 2016-01-01       tavuk                103                 et        11.22         Yurt içi      M     A  2.9139         9.58        1.82 NaN      1            1            53            4  2016        1               1             0               NaN               NaN               NaN               NaN               NaN               NaN               NaN               NaN               NaN\n",
       "2 2016-01-01       hindi                160                 et        11.12         Yurt içi      M     A  2.9139         9.58        1.82 NaN      1            1            53            4  2016        1               1             0               NaN               NaN               NaN               NaN               NaN               NaN               NaN               NaN               NaN\n",
       "3 2016-01-01  Bakla-kuru                354  sebze ve bakliyat         7.02         Yurt içi      M     A  2.9139         9.58        1.82 NaN      1            1            53            4  2016        1               1             0               NaN               NaN               NaN               NaN               NaN               NaN               NaN               NaN               NaN\n",
       "4 2016-01-01  Bakla-taze                 72  sebze ve bakliyat        13.14         Yurt içi      M     A  2.9139         9.58        1.82 NaN      1            1            53            4  2016        1               1             0               NaN               NaN               NaN               NaN               NaN               NaN               NaN               NaN               NaN"
      ]
     },
     "execution_count": 42,
     "metadata": {},
     "output_type": "execute_result"
    }
   ],
   "source": [
    "df.head()"
   ]
  },
  {
   "cell_type": "markdown",
   "id": "e95994cd-7a01-43da-96d3-7ff00e871e48",
   "metadata": {},
   "source": [
    "##### Zamanda Hareketli Ortalama (Rolling Mean) ile Yeni Değişkenler Türetme"
   ]
  },
  {
   "cell_type": "markdown",
   "id": "75fcd1da-8706-4d75-99f4-58b276d4f3a7",
   "metadata": {},
   "source": [
    "roll_mean_features () fonksiyonu, zamanda belirli miktarda (1 shift/ay) kaydırılmış zaman serisi üzerinde hareketli ortalama alınmasını sağlamaktadır. "
   ]
  },
  {
   "cell_type": "code",
   "execution_count": 43,
   "id": "feb93ec1-a488-473c-b75c-f48e2af12db7",
   "metadata": {},
   "outputs": [],
   "source": [
    "def roll_mean_features(dataframe, windows):\n",
    "    for window in windows:\n",
    "        dataframe['fiyat_roll_mean_' + str(window)] = dataframe.groupby([\"ürün\", \"ürün kategorisi\", \"ürün üretim yeri\", \"şehir\", \"market\"])['ürün fiyatı']. \\\n",
    "                                                          transform(\n",
    "            lambda x: x.shift(1).rolling(window=window, win_type=\"triang\").mean()) + random_noise(\n",
    "            dataframe)\n",
    "    return dataframe"
   ]
  },
  {
   "cell_type": "code",
   "execution_count": 44,
   "id": "2861f733-47fd-40d9-bb13-b3bc7c43decd",
   "metadata": {},
   "outputs": [],
   "source": [
    "df = roll_mean_features(df, [1, 2, 3, 4, 5, 6]) # Shift edilmiş gözlemden ne kadar önceki değerler ile ortalama alınacağı verilir."
   ]
  },
  {
   "cell_type": "markdown",
   "id": "3828d72c-f65b-41fb-82ac-ca30dd492684",
   "metadata": {},
   "source": [
    "ewm_features(), zaman serisinde hareketli ortalama alınırken geçmiş değerleri ağırlıklandırarak yapılmasını sağlayan fonksiyondur."
   ]
  },
  {
   "cell_type": "code",
   "execution_count": 45,
   "id": "816d7ef5-21e0-448e-961f-20dff8d3a908",
   "metadata": {},
   "outputs": [],
   "source": [
    "def ewm_features(dataframe, alphas, lags):\n",
    "    for alpha in alphas:\n",
    "        for lag in lags:\n",
    "            dataframe['fiyat_ewm_alpha_' + str(alpha).replace(\".\", \"\") + \"_lag_\" + str(lag)] = \\\n",
    "                dataframe.groupby([\"ürün\", \"ürün kategorisi\", \"ürün üretim yeri\", \"şehir\", \"market\"])['ürün fiyatı'].transform(lambda x: x.shift(lag).ewm(alpha=alpha).mean())\n",
    "    return dataframe"
   ]
  },
  {
   "cell_type": "code",
   "execution_count": 46,
   "id": "763b567f-386e-4919-8fd7-e395d4beeb33",
   "metadata": {},
   "outputs": [],
   "source": [
    "alphas = [0.95, 0.9, 0.8, 0.7, 0.5]  # Ağırlıklandırma katsayıları. \n",
    "lags = [2, 3, 4, 5, 6, 7, 8]      # Shift değerleri"
   ]
  },
  {
   "cell_type": "code",
   "execution_count": 47,
   "id": "575a71d3-7320-483b-b858-c703ec5736d1",
   "metadata": {},
   "outputs": [],
   "source": [
    "df = ewm_features(df, alphas, lags)"
   ]
  },
  {
   "cell_type": "code",
   "execution_count": 48,
   "id": "6a1d4356-eb47-4fef-b168-f2fc6315a08e",
   "metadata": {},
   "outputs": [
    {
     "data": {
      "text/html": [
       "<div>\n",
       "<style scoped>\n",
       "    .dataframe tbody tr th:only-of-type {\n",
       "        vertical-align: middle;\n",
       "    }\n",
       "\n",
       "    .dataframe tbody tr th {\n",
       "        vertical-align: top;\n",
       "    }\n",
       "\n",
       "    .dataframe thead th {\n",
       "        text-align: right;\n",
       "    }\n",
       "</style>\n",
       "<table border=\"1\" class=\"dataframe\">\n",
       "  <thead>\n",
       "    <tr style=\"text-align: right;\">\n",
       "      <th></th>\n",
       "      <th>tarih</th>\n",
       "      <th>ürün</th>\n",
       "      <th>ürün besin değeri</th>\n",
       "      <th>ürün kategorisi</th>\n",
       "      <th>ürün fiyatı</th>\n",
       "      <th>ürün üretim yeri</th>\n",
       "      <th>market</th>\n",
       "      <th>şehir</th>\n",
       "      <th>Price</th>\n",
       "      <th>yillik tufe</th>\n",
       "      <th>aylık tufe</th>\n",
       "      <th>id</th>\n",
       "      <th>month</th>\n",
       "      <th>day_of_year</th>\n",
       "      <th>week_of_year</th>\n",
       "      <th>day_of_week</th>\n",
       "      <th>year</th>\n",
       "      <th>is_wknd</th>\n",
       "      <th>is_month_start</th>\n",
       "      <th>is_month_end</th>\n",
       "      <th>ürün_fiyat_lag_1</th>\n",
       "      <th>ürün_fiyat_lag_2</th>\n",
       "      <th>ürün_fiyat_lag_3</th>\n",
       "      <th>ürün_fiyat_lag_4</th>\n",
       "      <th>ürün_fiyat_lag_5</th>\n",
       "      <th>ürün_fiyat_lag_6</th>\n",
       "      <th>ürün_fiyat_lag_7</th>\n",
       "      <th>ürün_fiyat_lag_8</th>\n",
       "      <th>ürün_fiyat_lag_9</th>\n",
       "      <th>fiyat_roll_mean_1</th>\n",
       "      <th>fiyat_roll_mean_2</th>\n",
       "      <th>fiyat_roll_mean_3</th>\n",
       "      <th>fiyat_roll_mean_4</th>\n",
       "      <th>fiyat_roll_mean_5</th>\n",
       "      <th>fiyat_roll_mean_6</th>\n",
       "      <th>fiyat_ewm_alpha_095_lag_2</th>\n",
       "      <th>fiyat_ewm_alpha_095_lag_3</th>\n",
       "      <th>fiyat_ewm_alpha_095_lag_4</th>\n",
       "      <th>fiyat_ewm_alpha_095_lag_5</th>\n",
       "      <th>fiyat_ewm_alpha_095_lag_6</th>\n",
       "      <th>fiyat_ewm_alpha_095_lag_7</th>\n",
       "      <th>fiyat_ewm_alpha_095_lag_8</th>\n",
       "      <th>fiyat_ewm_alpha_09_lag_2</th>\n",
       "      <th>fiyat_ewm_alpha_09_lag_3</th>\n",
       "      <th>fiyat_ewm_alpha_09_lag_4</th>\n",
       "      <th>fiyat_ewm_alpha_09_lag_5</th>\n",
       "      <th>fiyat_ewm_alpha_09_lag_6</th>\n",
       "      <th>fiyat_ewm_alpha_09_lag_7</th>\n",
       "      <th>fiyat_ewm_alpha_09_lag_8</th>\n",
       "      <th>fiyat_ewm_alpha_08_lag_2</th>\n",
       "      <th>fiyat_ewm_alpha_08_lag_3</th>\n",
       "      <th>fiyat_ewm_alpha_08_lag_4</th>\n",
       "      <th>fiyat_ewm_alpha_08_lag_5</th>\n",
       "      <th>fiyat_ewm_alpha_08_lag_6</th>\n",
       "      <th>fiyat_ewm_alpha_08_lag_7</th>\n",
       "      <th>fiyat_ewm_alpha_08_lag_8</th>\n",
       "      <th>fiyat_ewm_alpha_07_lag_2</th>\n",
       "      <th>fiyat_ewm_alpha_07_lag_3</th>\n",
       "      <th>fiyat_ewm_alpha_07_lag_4</th>\n",
       "      <th>fiyat_ewm_alpha_07_lag_5</th>\n",
       "      <th>fiyat_ewm_alpha_07_lag_6</th>\n",
       "      <th>fiyat_ewm_alpha_07_lag_7</th>\n",
       "      <th>fiyat_ewm_alpha_07_lag_8</th>\n",
       "      <th>fiyat_ewm_alpha_05_lag_2</th>\n",
       "      <th>fiyat_ewm_alpha_05_lag_3</th>\n",
       "      <th>fiyat_ewm_alpha_05_lag_4</th>\n",
       "      <th>fiyat_ewm_alpha_05_lag_5</th>\n",
       "      <th>fiyat_ewm_alpha_05_lag_6</th>\n",
       "      <th>fiyat_ewm_alpha_05_lag_7</th>\n",
       "      <th>fiyat_ewm_alpha_05_lag_8</th>\n",
       "    </tr>\n",
       "  </thead>\n",
       "  <tbody>\n",
       "    <tr>\n",
       "      <th>0</th>\n",
       "      <td>2016-01-01</td>\n",
       "      <td>kıyma</td>\n",
       "      <td>120</td>\n",
       "      <td>et</td>\n",
       "      <td>33.41</td>\n",
       "      <td>Yurt içi</td>\n",
       "      <td>M</td>\n",
       "      <td>A</td>\n",
       "      <td>2.9139</td>\n",
       "      <td>9.58</td>\n",
       "      <td>1.82</td>\n",
       "      <td>NaN</td>\n",
       "      <td>1</td>\n",
       "      <td>1</td>\n",
       "      <td>53</td>\n",
       "      <td>4</td>\n",
       "      <td>2016</td>\n",
       "      <td>1</td>\n",
       "      <td>1</td>\n",
       "      <td>0</td>\n",
       "      <td>NaN</td>\n",
       "      <td>NaN</td>\n",
       "      <td>NaN</td>\n",
       "      <td>NaN</td>\n",
       "      <td>NaN</td>\n",
       "      <td>NaN</td>\n",
       "      <td>NaN</td>\n",
       "      <td>NaN</td>\n",
       "      <td>NaN</td>\n",
       "      <td>NaN</td>\n",
       "      <td>NaN</td>\n",
       "      <td>NaN</td>\n",
       "      <td>NaN</td>\n",
       "      <td>NaN</td>\n",
       "      <td>NaN</td>\n",
       "      <td>NaN</td>\n",
       "      <td>NaN</td>\n",
       "      <td>NaN</td>\n",
       "      <td>NaN</td>\n",
       "      <td>NaN</td>\n",
       "      <td>NaN</td>\n",
       "      <td>NaN</td>\n",
       "      <td>NaN</td>\n",
       "      <td>NaN</td>\n",
       "      <td>NaN</td>\n",
       "      <td>NaN</td>\n",
       "      <td>NaN</td>\n",
       "      <td>NaN</td>\n",
       "      <td>NaN</td>\n",
       "      <td>NaN</td>\n",
       "      <td>NaN</td>\n",
       "      <td>NaN</td>\n",
       "      <td>NaN</td>\n",
       "      <td>NaN</td>\n",
       "      <td>NaN</td>\n",
       "      <td>NaN</td>\n",
       "      <td>NaN</td>\n",
       "      <td>NaN</td>\n",
       "      <td>NaN</td>\n",
       "      <td>NaN</td>\n",
       "      <td>NaN</td>\n",
       "      <td>NaN</td>\n",
       "      <td>NaN</td>\n",
       "      <td>NaN</td>\n",
       "      <td>NaN</td>\n",
       "      <td>NaN</td>\n",
       "      <td>NaN</td>\n",
       "      <td>NaN</td>\n",
       "      <td>NaN</td>\n",
       "      <td>NaN</td>\n",
       "    </tr>\n",
       "    <tr>\n",
       "      <th>1</th>\n",
       "      <td>2016-01-01</td>\n",
       "      <td>tavuk</td>\n",
       "      <td>103</td>\n",
       "      <td>et</td>\n",
       "      <td>11.22</td>\n",
       "      <td>Yurt içi</td>\n",
       "      <td>M</td>\n",
       "      <td>A</td>\n",
       "      <td>2.9139</td>\n",
       "      <td>9.58</td>\n",
       "      <td>1.82</td>\n",
       "      <td>NaN</td>\n",
       "      <td>1</td>\n",
       "      <td>1</td>\n",
       "      <td>53</td>\n",
       "      <td>4</td>\n",
       "      <td>2016</td>\n",
       "      <td>1</td>\n",
       "      <td>1</td>\n",
       "      <td>0</td>\n",
       "      <td>NaN</td>\n",
       "      <td>NaN</td>\n",
       "      <td>NaN</td>\n",
       "      <td>NaN</td>\n",
       "      <td>NaN</td>\n",
       "      <td>NaN</td>\n",
       "      <td>NaN</td>\n",
       "      <td>NaN</td>\n",
       "      <td>NaN</td>\n",
       "      <td>NaN</td>\n",
       "      <td>NaN</td>\n",
       "      <td>NaN</td>\n",
       "      <td>NaN</td>\n",
       "      <td>NaN</td>\n",
       "      <td>NaN</td>\n",
       "      <td>NaN</td>\n",
       "      <td>NaN</td>\n",
       "      <td>NaN</td>\n",
       "      <td>NaN</td>\n",
       "      <td>NaN</td>\n",
       "      <td>NaN</td>\n",
       "      <td>NaN</td>\n",
       "      <td>NaN</td>\n",
       "      <td>NaN</td>\n",
       "      <td>NaN</td>\n",
       "      <td>NaN</td>\n",
       "      <td>NaN</td>\n",
       "      <td>NaN</td>\n",
       "      <td>NaN</td>\n",
       "      <td>NaN</td>\n",
       "      <td>NaN</td>\n",
       "      <td>NaN</td>\n",
       "      <td>NaN</td>\n",
       "      <td>NaN</td>\n",
       "      <td>NaN</td>\n",
       "      <td>NaN</td>\n",
       "      <td>NaN</td>\n",
       "      <td>NaN</td>\n",
       "      <td>NaN</td>\n",
       "      <td>NaN</td>\n",
       "      <td>NaN</td>\n",
       "      <td>NaN</td>\n",
       "      <td>NaN</td>\n",
       "      <td>NaN</td>\n",
       "      <td>NaN</td>\n",
       "      <td>NaN</td>\n",
       "      <td>NaN</td>\n",
       "      <td>NaN</td>\n",
       "      <td>NaN</td>\n",
       "      <td>NaN</td>\n",
       "    </tr>\n",
       "    <tr>\n",
       "      <th>2</th>\n",
       "      <td>2016-01-01</td>\n",
       "      <td>hindi</td>\n",
       "      <td>160</td>\n",
       "      <td>et</td>\n",
       "      <td>11.12</td>\n",
       "      <td>Yurt içi</td>\n",
       "      <td>M</td>\n",
       "      <td>A</td>\n",
       "      <td>2.9139</td>\n",
       "      <td>9.58</td>\n",
       "      <td>1.82</td>\n",
       "      <td>NaN</td>\n",
       "      <td>1</td>\n",
       "      <td>1</td>\n",
       "      <td>53</td>\n",
       "      <td>4</td>\n",
       "      <td>2016</td>\n",
       "      <td>1</td>\n",
       "      <td>1</td>\n",
       "      <td>0</td>\n",
       "      <td>NaN</td>\n",
       "      <td>NaN</td>\n",
       "      <td>NaN</td>\n",
       "      <td>NaN</td>\n",
       "      <td>NaN</td>\n",
       "      <td>NaN</td>\n",
       "      <td>NaN</td>\n",
       "      <td>NaN</td>\n",
       "      <td>NaN</td>\n",
       "      <td>NaN</td>\n",
       "      <td>NaN</td>\n",
       "      <td>NaN</td>\n",
       "      <td>NaN</td>\n",
       "      <td>NaN</td>\n",
       "      <td>NaN</td>\n",
       "      <td>NaN</td>\n",
       "      <td>NaN</td>\n",
       "      <td>NaN</td>\n",
       "      <td>NaN</td>\n",
       "      <td>NaN</td>\n",
       "      <td>NaN</td>\n",
       "      <td>NaN</td>\n",
       "      <td>NaN</td>\n",
       "      <td>NaN</td>\n",
       "      <td>NaN</td>\n",
       "      <td>NaN</td>\n",
       "      <td>NaN</td>\n",
       "      <td>NaN</td>\n",
       "      <td>NaN</td>\n",
       "      <td>NaN</td>\n",
       "      <td>NaN</td>\n",
       "      <td>NaN</td>\n",
       "      <td>NaN</td>\n",
       "      <td>NaN</td>\n",
       "      <td>NaN</td>\n",
       "      <td>NaN</td>\n",
       "      <td>NaN</td>\n",
       "      <td>NaN</td>\n",
       "      <td>NaN</td>\n",
       "      <td>NaN</td>\n",
       "      <td>NaN</td>\n",
       "      <td>NaN</td>\n",
       "      <td>NaN</td>\n",
       "      <td>NaN</td>\n",
       "      <td>NaN</td>\n",
       "      <td>NaN</td>\n",
       "      <td>NaN</td>\n",
       "      <td>NaN</td>\n",
       "      <td>NaN</td>\n",
       "      <td>NaN</td>\n",
       "    </tr>\n",
       "    <tr>\n",
       "      <th>3</th>\n",
       "      <td>2016-01-01</td>\n",
       "      <td>Bakla-kuru</td>\n",
       "      <td>354</td>\n",
       "      <td>sebze ve bakliyat</td>\n",
       "      <td>7.02</td>\n",
       "      <td>Yurt içi</td>\n",
       "      <td>M</td>\n",
       "      <td>A</td>\n",
       "      <td>2.9139</td>\n",
       "      <td>9.58</td>\n",
       "      <td>1.82</td>\n",
       "      <td>NaN</td>\n",
       "      <td>1</td>\n",
       "      <td>1</td>\n",
       "      <td>53</td>\n",
       "      <td>4</td>\n",
       "      <td>2016</td>\n",
       "      <td>1</td>\n",
       "      <td>1</td>\n",
       "      <td>0</td>\n",
       "      <td>NaN</td>\n",
       "      <td>NaN</td>\n",
       "      <td>NaN</td>\n",
       "      <td>NaN</td>\n",
       "      <td>NaN</td>\n",
       "      <td>NaN</td>\n",
       "      <td>NaN</td>\n",
       "      <td>NaN</td>\n",
       "      <td>NaN</td>\n",
       "      <td>NaN</td>\n",
       "      <td>NaN</td>\n",
       "      <td>NaN</td>\n",
       "      <td>NaN</td>\n",
       "      <td>NaN</td>\n",
       "      <td>NaN</td>\n",
       "      <td>NaN</td>\n",
       "      <td>NaN</td>\n",
       "      <td>NaN</td>\n",
       "      <td>NaN</td>\n",
       "      <td>NaN</td>\n",
       "      <td>NaN</td>\n",
       "      <td>NaN</td>\n",
       "      <td>NaN</td>\n",
       "      <td>NaN</td>\n",
       "      <td>NaN</td>\n",
       "      <td>NaN</td>\n",
       "      <td>NaN</td>\n",
       "      <td>NaN</td>\n",
       "      <td>NaN</td>\n",
       "      <td>NaN</td>\n",
       "      <td>NaN</td>\n",
       "      <td>NaN</td>\n",
       "      <td>NaN</td>\n",
       "      <td>NaN</td>\n",
       "      <td>NaN</td>\n",
       "      <td>NaN</td>\n",
       "      <td>NaN</td>\n",
       "      <td>NaN</td>\n",
       "      <td>NaN</td>\n",
       "      <td>NaN</td>\n",
       "      <td>NaN</td>\n",
       "      <td>NaN</td>\n",
       "      <td>NaN</td>\n",
       "      <td>NaN</td>\n",
       "      <td>NaN</td>\n",
       "      <td>NaN</td>\n",
       "      <td>NaN</td>\n",
       "      <td>NaN</td>\n",
       "      <td>NaN</td>\n",
       "      <td>NaN</td>\n",
       "    </tr>\n",
       "    <tr>\n",
       "      <th>4</th>\n",
       "      <td>2016-01-01</td>\n",
       "      <td>Bakla-taze</td>\n",
       "      <td>72</td>\n",
       "      <td>sebze ve bakliyat</td>\n",
       "      <td>13.14</td>\n",
       "      <td>Yurt içi</td>\n",
       "      <td>M</td>\n",
       "      <td>A</td>\n",
       "      <td>2.9139</td>\n",
       "      <td>9.58</td>\n",
       "      <td>1.82</td>\n",
       "      <td>NaN</td>\n",
       "      <td>1</td>\n",
       "      <td>1</td>\n",
       "      <td>53</td>\n",
       "      <td>4</td>\n",
       "      <td>2016</td>\n",
       "      <td>1</td>\n",
       "      <td>1</td>\n",
       "      <td>0</td>\n",
       "      <td>NaN</td>\n",
       "      <td>NaN</td>\n",
       "      <td>NaN</td>\n",
       "      <td>NaN</td>\n",
       "      <td>NaN</td>\n",
       "      <td>NaN</td>\n",
       "      <td>NaN</td>\n",
       "      <td>NaN</td>\n",
       "      <td>NaN</td>\n",
       "      <td>NaN</td>\n",
       "      <td>NaN</td>\n",
       "      <td>NaN</td>\n",
       "      <td>NaN</td>\n",
       "      <td>NaN</td>\n",
       "      <td>NaN</td>\n",
       "      <td>NaN</td>\n",
       "      <td>NaN</td>\n",
       "      <td>NaN</td>\n",
       "      <td>NaN</td>\n",
       "      <td>NaN</td>\n",
       "      <td>NaN</td>\n",
       "      <td>NaN</td>\n",
       "      <td>NaN</td>\n",
       "      <td>NaN</td>\n",
       "      <td>NaN</td>\n",
       "      <td>NaN</td>\n",
       "      <td>NaN</td>\n",
       "      <td>NaN</td>\n",
       "      <td>NaN</td>\n",
       "      <td>NaN</td>\n",
       "      <td>NaN</td>\n",
       "      <td>NaN</td>\n",
       "      <td>NaN</td>\n",
       "      <td>NaN</td>\n",
       "      <td>NaN</td>\n",
       "      <td>NaN</td>\n",
       "      <td>NaN</td>\n",
       "      <td>NaN</td>\n",
       "      <td>NaN</td>\n",
       "      <td>NaN</td>\n",
       "      <td>NaN</td>\n",
       "      <td>NaN</td>\n",
       "      <td>NaN</td>\n",
       "      <td>NaN</td>\n",
       "      <td>NaN</td>\n",
       "      <td>NaN</td>\n",
       "      <td>NaN</td>\n",
       "      <td>NaN</td>\n",
       "      <td>NaN</td>\n",
       "      <td>NaN</td>\n",
       "    </tr>\n",
       "  </tbody>\n",
       "</table>\n",
       "</div>"
      ],
      "text/plain": [
       "       tarih        ürün  ürün besin değeri    ürün kategorisi  ürün fiyatı ürün üretim yeri market şehir   Price  yillik tufe  aylık tufe  id  month  day_of_year  week_of_year  day_of_week  year  is_wknd  is_month_start  is_month_end  ürün_fiyat_lag_1  ürün_fiyat_lag_2  ürün_fiyat_lag_3  ürün_fiyat_lag_4  ürün_fiyat_lag_5  ürün_fiyat_lag_6  ürün_fiyat_lag_7  ürün_fiyat_lag_8  ürün_fiyat_lag_9  fiyat_roll_mean_1  fiyat_roll_mean_2  fiyat_roll_mean_3  fiyat_roll_mean_4  fiyat_roll_mean_5  \\\n",
       "0 2016-01-01       kıyma                120                 et        33.41         Yurt içi      M     A  2.9139         9.58        1.82 NaN      1            1            53            4  2016        1               1             0               NaN               NaN               NaN               NaN               NaN               NaN               NaN               NaN               NaN                NaN                NaN                NaN                NaN                NaN   \n",
       "1 2016-01-01       tavuk                103                 et        11.22         Yurt içi      M     A  2.9139         9.58        1.82 NaN      1            1            53            4  2016        1               1             0               NaN               NaN               NaN               NaN               NaN               NaN               NaN               NaN               NaN                NaN                NaN                NaN                NaN                NaN   \n",
       "2 2016-01-01       hindi                160                 et        11.12         Yurt içi      M     A  2.9139         9.58        1.82 NaN      1            1            53            4  2016        1               1             0               NaN               NaN               NaN               NaN               NaN               NaN               NaN               NaN               NaN                NaN                NaN                NaN                NaN                NaN   \n",
       "3 2016-01-01  Bakla-kuru                354  sebze ve bakliyat         7.02         Yurt içi      M     A  2.9139         9.58        1.82 NaN      1            1            53            4  2016        1               1             0               NaN               NaN               NaN               NaN               NaN               NaN               NaN               NaN               NaN                NaN                NaN                NaN                NaN                NaN   \n",
       "4 2016-01-01  Bakla-taze                 72  sebze ve bakliyat        13.14         Yurt içi      M     A  2.9139         9.58        1.82 NaN      1            1            53            4  2016        1               1             0               NaN               NaN               NaN               NaN               NaN               NaN               NaN               NaN               NaN                NaN                NaN                NaN                NaN                NaN   \n",
       "\n",
       "   fiyat_roll_mean_6  fiyat_ewm_alpha_095_lag_2  fiyat_ewm_alpha_095_lag_3  fiyat_ewm_alpha_095_lag_4  fiyat_ewm_alpha_095_lag_5  fiyat_ewm_alpha_095_lag_6  fiyat_ewm_alpha_095_lag_7  fiyat_ewm_alpha_095_lag_8  fiyat_ewm_alpha_09_lag_2  fiyat_ewm_alpha_09_lag_3  fiyat_ewm_alpha_09_lag_4  fiyat_ewm_alpha_09_lag_5  fiyat_ewm_alpha_09_lag_6  fiyat_ewm_alpha_09_lag_7  fiyat_ewm_alpha_09_lag_8  fiyat_ewm_alpha_08_lag_2  fiyat_ewm_alpha_08_lag_3  fiyat_ewm_alpha_08_lag_4  fiyat_ewm_alpha_08_lag_5  \\\n",
       "0                NaN                        NaN                        NaN                        NaN                        NaN                        NaN                        NaN                        NaN                       NaN                       NaN                       NaN                       NaN                       NaN                       NaN                       NaN                       NaN                       NaN                       NaN                       NaN   \n",
       "1                NaN                        NaN                        NaN                        NaN                        NaN                        NaN                        NaN                        NaN                       NaN                       NaN                       NaN                       NaN                       NaN                       NaN                       NaN                       NaN                       NaN                       NaN                       NaN   \n",
       "2                NaN                        NaN                        NaN                        NaN                        NaN                        NaN                        NaN                        NaN                       NaN                       NaN                       NaN                       NaN                       NaN                       NaN                       NaN                       NaN                       NaN                       NaN                       NaN   \n",
       "3                NaN                        NaN                        NaN                        NaN                        NaN                        NaN                        NaN                        NaN                       NaN                       NaN                       NaN                       NaN                       NaN                       NaN                       NaN                       NaN                       NaN                       NaN                       NaN   \n",
       "4                NaN                        NaN                        NaN                        NaN                        NaN                        NaN                        NaN                        NaN                       NaN                       NaN                       NaN                       NaN                       NaN                       NaN                       NaN                       NaN                       NaN                       NaN                       NaN   \n",
       "\n",
       "   fiyat_ewm_alpha_08_lag_6  fiyat_ewm_alpha_08_lag_7  fiyat_ewm_alpha_08_lag_8  fiyat_ewm_alpha_07_lag_2  fiyat_ewm_alpha_07_lag_3  fiyat_ewm_alpha_07_lag_4  fiyat_ewm_alpha_07_lag_5  fiyat_ewm_alpha_07_lag_6  fiyat_ewm_alpha_07_lag_7  fiyat_ewm_alpha_07_lag_8  fiyat_ewm_alpha_05_lag_2  fiyat_ewm_alpha_05_lag_3  fiyat_ewm_alpha_05_lag_4  fiyat_ewm_alpha_05_lag_5  fiyat_ewm_alpha_05_lag_6  fiyat_ewm_alpha_05_lag_7  fiyat_ewm_alpha_05_lag_8  \n",
       "0                       NaN                       NaN                       NaN                       NaN                       NaN                       NaN                       NaN                       NaN                       NaN                       NaN                       NaN                       NaN                       NaN                       NaN                       NaN                       NaN                       NaN  \n",
       "1                       NaN                       NaN                       NaN                       NaN                       NaN                       NaN                       NaN                       NaN                       NaN                       NaN                       NaN                       NaN                       NaN                       NaN                       NaN                       NaN                       NaN  \n",
       "2                       NaN                       NaN                       NaN                       NaN                       NaN                       NaN                       NaN                       NaN                       NaN                       NaN                       NaN                       NaN                       NaN                       NaN                       NaN                       NaN                       NaN  \n",
       "3                       NaN                       NaN                       NaN                       NaN                       NaN                       NaN                       NaN                       NaN                       NaN                       NaN                       NaN                       NaN                       NaN                       NaN                       NaN                       NaN                       NaN  \n",
       "4                       NaN                       NaN                       NaN                       NaN                       NaN                       NaN                       NaN                       NaN                       NaN                       NaN                       NaN                       NaN                       NaN                       NaN                       NaN                       NaN                       NaN  "
      ]
     },
     "execution_count": 48,
     "metadata": {},
     "output_type": "execute_result"
    }
   ],
   "source": [
    "df.head()"
   ]
  },
  {
   "cell_type": "markdown",
   "id": "4c6251a8-617b-4af2-a3f5-8fce93a3d0d5",
   "metadata": {
    "tags": []
   },
   "source": [
    "#### 2.1.2.1-Diğer Değişkenlerden Yeni Değişkenler Türetme"
   ]
  },
  {
   "cell_type": "markdown",
   "id": "aebcd187-87f2-4f1c-8a2a-a8f0ad496ad0",
   "metadata": {},
   "source": [
    "Bu bölümde, veri setindeki zaman değişkeni dışındaki değişkenler üzerinden yeni kategorik ve nümerik değişkenler türetilecektir. "
   ]
  },
  {
   "cell_type": "markdown",
   "id": "1aa1c30a-4867-444e-ab3b-31655cb02c5d",
   "metadata": {},
   "source": [
    "#### ürün besin değeri Değişkeni ile Kategorik Değişken Türetme"
   ]
  },
  {
   "cell_type": "markdown",
   "id": "54364b36-0691-4cad-9e4b-4ea040ae75a0",
   "metadata": {},
   "source": [
    "ürün besin değeri, bağımlı değişken olan ürün fiyatı değişkeni üzerinde etkisinin olacağı beklenir. Bu sebeple, nümerik olan bu değişkenden yeni kategorik değişken türeterek eğitilecek model için anlamlı bir değişken olması beklenir."
   ]
  },
  {
   "cell_type": "code",
   "execution_count": 49,
   "id": "bdcb772d-3bcf-44b1-8c26-b1f1936991ae",
   "metadata": {},
   "outputs": [
    {
     "data": {
      "text/plain": [
       "count    273024.000000\n",
       "mean        143.113924\n",
       "std         133.218822\n",
       "min           8.000000\n",
       "25%          41.000000\n",
       "50%          83.000000\n",
       "75%         250.000000\n",
       "max         402.000000\n",
       "Name: ürün besin değeri, dtype: float64"
      ]
     },
     "execution_count": 49,
     "metadata": {},
     "output_type": "execute_result"
    }
   ],
   "source": [
    "df['ürün besin değeri'].describe()"
   ]
  },
  {
   "cell_type": "code",
   "execution_count": 50,
   "id": "5c8158eb-6bd4-47af-86d8-739777eb7202",
   "metadata": {},
   "outputs": [],
   "source": [
    "df[\"NEW_besin_değeri\"] = pd.qcut(df['ürün besin değeri'], 4, labels=['poor','average','rich','super_rich'])"
   ]
  },
  {
   "cell_type": "code",
   "execution_count": 51,
   "id": "730a7d58-db7d-43e0-b4cd-21f8f79c9e55",
   "metadata": {},
   "outputs": [
    {
     "data": {
      "image/png": "[encoded data removed]",
      "text/plain": [
       "<Figure size 864x288 with 2 Axes>"
      ]
     },
     "metadata": {},
     "output_type": "display_data"
    },
    {
     "data": {
      "image/png": "[encoded data removed]",
      "text/plain": [
       "<Figure size 871.2x288 with 1 Axes>"
      ]
     },
     "metadata": {},
     "output_type": "display_data"
    }
   ],
   "source": [
    "cat_analyser_plot(df, \"NEW_besin_değeri\", \"ürün fiyatı\")"
   ]
  },
  {
   "cell_type": "markdown",
   "id": "1f6a304f-e462-457d-8d46-860b7b046eae",
   "metadata": {},
   "source": [
    "ürün besin değeri rich kategorisinde olan ürünlerin ortalama fiyatı, diğer kategorilere oranla daha yüksek."
   ]
  },
  {
   "cell_type": "markdown",
   "id": "cfcd4122-f383-42ec-a5ec-439a2089b204",
   "metadata": {},
   "source": [
    "#### ürün besin değeri ve ürün fiaytı Değişkenleri ile Nümerik Değişken Türetme"
   ]
  },
  {
   "cell_type": "code",
   "execution_count": 52,
   "id": "e94ae2b4-0170-4211-96c1-8129abaaaaea",
   "metadata": {},
   "outputs": [],
   "source": [
    "df[\"NEW_uniq_price\"] = df[\"ürün besin değeri\"] / df[\"ürün fiyatı\"]"
   ]
  },
  {
   "cell_type": "code",
   "execution_count": 53,
   "id": "4db2cfda-8baf-45bd-ac67-59a04f1559df",
   "metadata": {},
   "outputs": [
    {
     "data": {
      "text/html": [
       "<div>\n",
       "<style scoped>\n",
       "    .dataframe tbody tr th:only-of-type {\n",
       "        vertical-align: middle;\n",
       "    }\n",
       "\n",
       "    .dataframe tbody tr th {\n",
       "        vertical-align: top;\n",
       "    }\n",
       "\n",
       "    .dataframe thead th {\n",
       "        text-align: right;\n",
       "    }\n",
       "</style>\n",
       "<table border=\"1\" class=\"dataframe\">\n",
       "  <thead>\n",
       "    <tr style=\"text-align: right;\">\n",
       "      <th></th>\n",
       "      <th>tarih</th>\n",
       "      <th>ürün</th>\n",
       "      <th>ürün besin değeri</th>\n",
       "      <th>ürün kategorisi</th>\n",
       "      <th>ürün fiyatı</th>\n",
       "      <th>ürün üretim yeri</th>\n",
       "      <th>market</th>\n",
       "      <th>şehir</th>\n",
       "      <th>Price</th>\n",
       "      <th>yillik tufe</th>\n",
       "      <th>aylık tufe</th>\n",
       "      <th>id</th>\n",
       "      <th>month</th>\n",
       "      <th>day_of_year</th>\n",
       "      <th>week_of_year</th>\n",
       "      <th>day_of_week</th>\n",
       "      <th>year</th>\n",
       "      <th>is_wknd</th>\n",
       "      <th>is_month_start</th>\n",
       "      <th>is_month_end</th>\n",
       "      <th>ürün_fiyat_lag_1</th>\n",
       "      <th>ürün_fiyat_lag_2</th>\n",
       "      <th>ürün_fiyat_lag_3</th>\n",
       "      <th>ürün_fiyat_lag_4</th>\n",
       "      <th>ürün_fiyat_lag_5</th>\n",
       "      <th>ürün_fiyat_lag_6</th>\n",
       "      <th>ürün_fiyat_lag_7</th>\n",
       "      <th>ürün_fiyat_lag_8</th>\n",
       "      <th>ürün_fiyat_lag_9</th>\n",
       "      <th>fiyat_roll_mean_1</th>\n",
       "      <th>fiyat_roll_mean_2</th>\n",
       "      <th>fiyat_roll_mean_3</th>\n",
       "      <th>fiyat_roll_mean_4</th>\n",
       "      <th>fiyat_roll_mean_5</th>\n",
       "      <th>fiyat_roll_mean_6</th>\n",
       "      <th>fiyat_ewm_alpha_095_lag_2</th>\n",
       "      <th>fiyat_ewm_alpha_095_lag_3</th>\n",
       "      <th>fiyat_ewm_alpha_095_lag_4</th>\n",
       "      <th>fiyat_ewm_alpha_095_lag_5</th>\n",
       "      <th>fiyat_ewm_alpha_095_lag_6</th>\n",
       "      <th>fiyat_ewm_alpha_095_lag_7</th>\n",
       "      <th>fiyat_ewm_alpha_095_lag_8</th>\n",
       "      <th>fiyat_ewm_alpha_09_lag_2</th>\n",
       "      <th>fiyat_ewm_alpha_09_lag_3</th>\n",
       "      <th>fiyat_ewm_alpha_09_lag_4</th>\n",
       "      <th>fiyat_ewm_alpha_09_lag_5</th>\n",
       "      <th>fiyat_ewm_alpha_09_lag_6</th>\n",
       "      <th>fiyat_ewm_alpha_09_lag_7</th>\n",
       "      <th>fiyat_ewm_alpha_09_lag_8</th>\n",
       "      <th>fiyat_ewm_alpha_08_lag_2</th>\n",
       "      <th>fiyat_ewm_alpha_08_lag_3</th>\n",
       "      <th>fiyat_ewm_alpha_08_lag_4</th>\n",
       "      <th>fiyat_ewm_alpha_08_lag_5</th>\n",
       "      <th>fiyat_ewm_alpha_08_lag_6</th>\n",
       "      <th>fiyat_ewm_alpha_08_lag_7</th>\n",
       "      <th>fiyat_ewm_alpha_08_lag_8</th>\n",
       "      <th>fiyat_ewm_alpha_07_lag_2</th>\n",
       "      <th>fiyat_ewm_alpha_07_lag_3</th>\n",
       "      <th>fiyat_ewm_alpha_07_lag_4</th>\n",
       "      <th>fiyat_ewm_alpha_07_lag_5</th>\n",
       "      <th>fiyat_ewm_alpha_07_lag_6</th>\n",
       "      <th>fiyat_ewm_alpha_07_lag_7</th>\n",
       "      <th>fiyat_ewm_alpha_07_lag_8</th>\n",
       "      <th>fiyat_ewm_alpha_05_lag_2</th>\n",
       "      <th>fiyat_ewm_alpha_05_lag_3</th>\n",
       "      <th>fiyat_ewm_alpha_05_lag_4</th>\n",
       "      <th>fiyat_ewm_alpha_05_lag_5</th>\n",
       "      <th>fiyat_ewm_alpha_05_lag_6</th>\n",
       "      <th>fiyat_ewm_alpha_05_lag_7</th>\n",
       "      <th>fiyat_ewm_alpha_05_lag_8</th>\n",
       "      <th>NEW_besin_değeri</th>\n",
       "      <th>NEW_uniq_price</th>\n",
       "    </tr>\n",
       "  </thead>\n",
       "  <tbody>\n",
       "    <tr>\n",
       "      <th>0</th>\n",
       "      <td>2016-01-01</td>\n",
       "      <td>kıyma</td>\n",
       "      <td>120</td>\n",
       "      <td>et</td>\n",
       "      <td>33.41</td>\n",
       "      <td>Yurt içi</td>\n",
       "      <td>M</td>\n",
       "      <td>A</td>\n",
       "      <td>2.9139</td>\n",
       "      <td>9.58</td>\n",
       "      <td>1.82</td>\n",
       "      <td>NaN</td>\n",
       "      <td>1</td>\n",
       "      <td>1</td>\n",
       "      <td>53</td>\n",
       "      <td>4</td>\n",
       "      <td>2016</td>\n",
       "      <td>1</td>\n",
       "      <td>1</td>\n",
       "      <td>0</td>\n",
       "      <td>NaN</td>\n",
       "      <td>NaN</td>\n",
       "      <td>NaN</td>\n",
       "      <td>NaN</td>\n",
       "      <td>NaN</td>\n",
       "      <td>NaN</td>\n",
       "      <td>NaN</td>\n",
       "      <td>NaN</td>\n",
       "      <td>NaN</td>\n",
       "      <td>NaN</td>\n",
       "      <td>NaN</td>\n",
       "      <td>NaN</td>\n",
       "      <td>NaN</td>\n",
       "      <td>NaN</td>\n",
       "      <td>NaN</td>\n",
       "      <td>NaN</td>\n",
       "      <td>NaN</td>\n",
       "      <td>NaN</td>\n",
       "      <td>NaN</td>\n",
       "      <td>NaN</td>\n",
       "      <td>NaN</td>\n",
       "      <td>NaN</td>\n",
       "      <td>NaN</td>\n",
       "      <td>NaN</td>\n",
       "      <td>NaN</td>\n",
       "      <td>NaN</td>\n",
       "      <td>NaN</td>\n",
       "      <td>NaN</td>\n",
       "      <td>NaN</td>\n",
       "      <td>NaN</td>\n",
       "      <td>NaN</td>\n",
       "      <td>NaN</td>\n",
       "      <td>NaN</td>\n",
       "      <td>NaN</td>\n",
       "      <td>NaN</td>\n",
       "      <td>NaN</td>\n",
       "      <td>NaN</td>\n",
       "      <td>NaN</td>\n",
       "      <td>NaN</td>\n",
       "      <td>NaN</td>\n",
       "      <td>NaN</td>\n",
       "      <td>NaN</td>\n",
       "      <td>NaN</td>\n",
       "      <td>NaN</td>\n",
       "      <td>NaN</td>\n",
       "      <td>NaN</td>\n",
       "      <td>NaN</td>\n",
       "      <td>NaN</td>\n",
       "      <td>NaN</td>\n",
       "      <td>NaN</td>\n",
       "      <td>rich</td>\n",
       "      <td>3.591739</td>\n",
       "    </tr>\n",
       "    <tr>\n",
       "      <th>1</th>\n",
       "      <td>2016-01-01</td>\n",
       "      <td>tavuk</td>\n",
       "      <td>103</td>\n",
       "      <td>et</td>\n",
       "      <td>11.22</td>\n",
       "      <td>Yurt içi</td>\n",
       "      <td>M</td>\n",
       "      <td>A</td>\n",
       "      <td>2.9139</td>\n",
       "      <td>9.58</td>\n",
       "      <td>1.82</td>\n",
       "      <td>NaN</td>\n",
       "      <td>1</td>\n",
       "      <td>1</td>\n",
       "      <td>53</td>\n",
       "      <td>4</td>\n",
       "      <td>2016</td>\n",
       "      <td>1</td>\n",
       "      <td>1</td>\n",
       "      <td>0</td>\n",
       "      <td>NaN</td>\n",
       "      <td>NaN</td>\n",
       "      <td>NaN</td>\n",
       "      <td>NaN</td>\n",
       "      <td>NaN</td>\n",
       "      <td>NaN</td>\n",
       "      <td>NaN</td>\n",
       "      <td>NaN</td>\n",
       "      <td>NaN</td>\n",
       "      <td>NaN</td>\n",
       "      <td>NaN</td>\n",
       "      <td>NaN</td>\n",
       "      <td>NaN</td>\n",
       "      <td>NaN</td>\n",
       "      <td>NaN</td>\n",
       "      <td>NaN</td>\n",
       "      <td>NaN</td>\n",
       "      <td>NaN</td>\n",
       "      <td>NaN</td>\n",
       "      <td>NaN</td>\n",
       "      <td>NaN</td>\n",
       "      <td>NaN</td>\n",
       "      <td>NaN</td>\n",
       "      <td>NaN</td>\n",
       "      <td>NaN</td>\n",
       "      <td>NaN</td>\n",
       "      <td>NaN</td>\n",
       "      <td>NaN</td>\n",
       "      <td>NaN</td>\n",
       "      <td>NaN</td>\n",
       "      <td>NaN</td>\n",
       "      <td>NaN</td>\n",
       "      <td>NaN</td>\n",
       "      <td>NaN</td>\n",
       "      <td>NaN</td>\n",
       "      <td>NaN</td>\n",
       "      <td>NaN</td>\n",
       "      <td>NaN</td>\n",
       "      <td>NaN</td>\n",
       "      <td>NaN</td>\n",
       "      <td>NaN</td>\n",
       "      <td>NaN</td>\n",
       "      <td>NaN</td>\n",
       "      <td>NaN</td>\n",
       "      <td>NaN</td>\n",
       "      <td>NaN</td>\n",
       "      <td>NaN</td>\n",
       "      <td>NaN</td>\n",
       "      <td>NaN</td>\n",
       "      <td>NaN</td>\n",
       "      <td>rich</td>\n",
       "      <td>9.180036</td>\n",
       "    </tr>\n",
       "    <tr>\n",
       "      <th>2</th>\n",
       "      <td>2016-01-01</td>\n",
       "      <td>hindi</td>\n",
       "      <td>160</td>\n",
       "      <td>et</td>\n",
       "      <td>11.12</td>\n",
       "      <td>Yurt içi</td>\n",
       "      <td>M</td>\n",
       "      <td>A</td>\n",
       "      <td>2.9139</td>\n",
       "      <td>9.58</td>\n",
       "      <td>1.82</td>\n",
       "      <td>NaN</td>\n",
       "      <td>1</td>\n",
       "      <td>1</td>\n",
       "      <td>53</td>\n",
       "      <td>4</td>\n",
       "      <td>2016</td>\n",
       "      <td>1</td>\n",
       "      <td>1</td>\n",
       "      <td>0</td>\n",
       "      <td>NaN</td>\n",
       "      <td>NaN</td>\n",
       "      <td>NaN</td>\n",
       "      <td>NaN</td>\n",
       "      <td>NaN</td>\n",
       "      <td>NaN</td>\n",
       "      <td>NaN</td>\n",
       "      <td>NaN</td>\n",
       "      <td>NaN</td>\n",
       "      <td>NaN</td>\n",
       "      <td>NaN</td>\n",
       "      <td>NaN</td>\n",
       "      <td>NaN</td>\n",
       "      <td>NaN</td>\n",
       "      <td>NaN</td>\n",
       "      <td>NaN</td>\n",
       "      <td>NaN</td>\n",
       "      <td>NaN</td>\n",
       "      <td>NaN</td>\n",
       "      <td>NaN</td>\n",
       "      <td>NaN</td>\n",
       "      <td>NaN</td>\n",
       "      <td>NaN</td>\n",
       "      <td>NaN</td>\n",
       "      <td>NaN</td>\n",
       "      <td>NaN</td>\n",
       "      <td>NaN</td>\n",
       "      <td>NaN</td>\n",
       "      <td>NaN</td>\n",
       "      <td>NaN</td>\n",
       "      <td>NaN</td>\n",
       "      <td>NaN</td>\n",
       "      <td>NaN</td>\n",
       "      <td>NaN</td>\n",
       "      <td>NaN</td>\n",
       "      <td>NaN</td>\n",
       "      <td>NaN</td>\n",
       "      <td>NaN</td>\n",
       "      <td>NaN</td>\n",
       "      <td>NaN</td>\n",
       "      <td>NaN</td>\n",
       "      <td>NaN</td>\n",
       "      <td>NaN</td>\n",
       "      <td>NaN</td>\n",
       "      <td>NaN</td>\n",
       "      <td>NaN</td>\n",
       "      <td>NaN</td>\n",
       "      <td>NaN</td>\n",
       "      <td>NaN</td>\n",
       "      <td>NaN</td>\n",
       "      <td>rich</td>\n",
       "      <td>14.388489</td>\n",
       "    </tr>\n",
       "    <tr>\n",
       "      <th>3</th>\n",
       "      <td>2016-01-01</td>\n",
       "      <td>Bakla-kuru</td>\n",
       "      <td>354</td>\n",
       "      <td>sebze ve bakliyat</td>\n",
       "      <td>7.02</td>\n",
       "      <td>Yurt içi</td>\n",
       "      <td>M</td>\n",
       "      <td>A</td>\n",
       "      <td>2.9139</td>\n",
       "      <td>9.58</td>\n",
       "      <td>1.82</td>\n",
       "      <td>NaN</td>\n",
       "      <td>1</td>\n",
       "      <td>1</td>\n",
       "      <td>53</td>\n",
       "      <td>4</td>\n",
       "      <td>2016</td>\n",
       "      <td>1</td>\n",
       "      <td>1</td>\n",
       "      <td>0</td>\n",
       "      <td>NaN</td>\n",
       "      <td>NaN</td>\n",
       "      <td>NaN</td>\n",
       "      <td>NaN</td>\n",
       "      <td>NaN</td>\n",
       "      <td>NaN</td>\n",
       "      <td>NaN</td>\n",
       "      <td>NaN</td>\n",
       "      <td>NaN</td>\n",
       "      <td>NaN</td>\n",
       "      <td>NaN</td>\n",
       "      <td>NaN</td>\n",
       "      <td>NaN</td>\n",
       "      <td>NaN</td>\n",
       "      <td>NaN</td>\n",
       "      <td>NaN</td>\n",
       "      <td>NaN</td>\n",
       "      <td>NaN</td>\n",
       "      <td>NaN</td>\n",
       "      <td>NaN</td>\n",
       "      <td>NaN</td>\n",
       "      <td>NaN</td>\n",
       "      <td>NaN</td>\n",
       "      <td>NaN</td>\n",
       "      <td>NaN</td>\n",
       "      <td>NaN</td>\n",
       "      <td>NaN</td>\n",
       "      <td>NaN</td>\n",
       "      <td>NaN</td>\n",
       "      <td>NaN</td>\n",
       "      <td>NaN</td>\n",
       "      <td>NaN</td>\n",
       "      <td>NaN</td>\n",
       "      <td>NaN</td>\n",
       "      <td>NaN</td>\n",
       "      <td>NaN</td>\n",
       "      <td>NaN</td>\n",
       "      <td>NaN</td>\n",
       "      <td>NaN</td>\n",
       "      <td>NaN</td>\n",
       "      <td>NaN</td>\n",
       "      <td>NaN</td>\n",
       "      <td>NaN</td>\n",
       "      <td>NaN</td>\n",
       "      <td>NaN</td>\n",
       "      <td>NaN</td>\n",
       "      <td>NaN</td>\n",
       "      <td>NaN</td>\n",
       "      <td>NaN</td>\n",
       "      <td>NaN</td>\n",
       "      <td>super_rich</td>\n",
       "      <td>50.427350</td>\n",
       "    </tr>\n",
       "    <tr>\n",
       "      <th>4</th>\n",
       "      <td>2016-01-01</td>\n",
       "      <td>Bakla-taze</td>\n",
       "      <td>72</td>\n",
       "      <td>sebze ve bakliyat</td>\n",
       "      <td>13.14</td>\n",
       "      <td>Yurt içi</td>\n",
       "      <td>M</td>\n",
       "      <td>A</td>\n",
       "      <td>2.9139</td>\n",
       "      <td>9.58</td>\n",
       "      <td>1.82</td>\n",
       "      <td>NaN</td>\n",
       "      <td>1</td>\n",
       "      <td>1</td>\n",
       "      <td>53</td>\n",
       "      <td>4</td>\n",
       "      <td>2016</td>\n",
       "      <td>1</td>\n",
       "      <td>1</td>\n",
       "      <td>0</td>\n",
       "      <td>NaN</td>\n",
       "      <td>NaN</td>\n",
       "      <td>NaN</td>\n",
       "      <td>NaN</td>\n",
       "      <td>NaN</td>\n",
       "      <td>NaN</td>\n",
       "      <td>NaN</td>\n",
       "      <td>NaN</td>\n",
       "      <td>NaN</td>\n",
       "      <td>NaN</td>\n",
       "      <td>NaN</td>\n",
       "      <td>NaN</td>\n",
       "      <td>NaN</td>\n",
       "      <td>NaN</td>\n",
       "      <td>NaN</td>\n",
       "      <td>NaN</td>\n",
       "      <td>NaN</td>\n",
       "      <td>NaN</td>\n",
       "      <td>NaN</td>\n",
       "      <td>NaN</td>\n",
       "      <td>NaN</td>\n",
       "      <td>NaN</td>\n",
       "      <td>NaN</td>\n",
       "      <td>NaN</td>\n",
       "      <td>NaN</td>\n",
       "      <td>NaN</td>\n",
       "      <td>NaN</td>\n",
       "      <td>NaN</td>\n",
       "      <td>NaN</td>\n",
       "      <td>NaN</td>\n",
       "      <td>NaN</td>\n",
       "      <td>NaN</td>\n",
       "      <td>NaN</td>\n",
       "      <td>NaN</td>\n",
       "      <td>NaN</td>\n",
       "      <td>NaN</td>\n",
       "      <td>NaN</td>\n",
       "      <td>NaN</td>\n",
       "      <td>NaN</td>\n",
       "      <td>NaN</td>\n",
       "      <td>NaN</td>\n",
       "      <td>NaN</td>\n",
       "      <td>NaN</td>\n",
       "      <td>NaN</td>\n",
       "      <td>NaN</td>\n",
       "      <td>NaN</td>\n",
       "      <td>NaN</td>\n",
       "      <td>NaN</td>\n",
       "      <td>NaN</td>\n",
       "      <td>NaN</td>\n",
       "      <td>average</td>\n",
       "      <td>5.479452</td>\n",
       "    </tr>\n",
       "  </tbody>\n",
       "</table>\n",
       "</div>"
      ],
      "text/plain": [
       "       tarih        ürün  ürün besin değeri    ürün kategorisi  ürün fiyatı ürün üretim yeri market şehir   Price  yillik tufe  aylık tufe  id  month  day_of_year  week_of_year  day_of_week  year  is_wknd  is_month_start  is_month_end  ürün_fiyat_lag_1  ürün_fiyat_lag_2  ürün_fiyat_lag_3  ürün_fiyat_lag_4  ürün_fiyat_lag_5  ürün_fiyat_lag_6  ürün_fiyat_lag_7  ürün_fiyat_lag_8  ürün_fiyat_lag_9  fiyat_roll_mean_1  fiyat_roll_mean_2  fiyat_roll_mean_3  fiyat_roll_mean_4  fiyat_roll_mean_5  \\\n",
       "0 2016-01-01       kıyma                120                 et        33.41         Yurt içi      M     A  2.9139         9.58        1.82 NaN      1            1            53            4  2016        1               1             0               NaN               NaN               NaN               NaN               NaN               NaN               NaN               NaN               NaN                NaN                NaN                NaN                NaN                NaN   \n",
       "1 2016-01-01       tavuk                103                 et        11.22         Yurt içi      M     A  2.9139         9.58        1.82 NaN      1            1            53            4  2016        1               1             0               NaN               NaN               NaN               NaN               NaN               NaN               NaN               NaN               NaN                NaN                NaN                NaN                NaN                NaN   \n",
       "2 2016-01-01       hindi                160                 et        11.12         Yurt içi      M     A  2.9139         9.58        1.82 NaN      1            1            53            4  2016        1               1             0               NaN               NaN               NaN               NaN               NaN               NaN               NaN               NaN               NaN                NaN                NaN                NaN                NaN                NaN   \n",
       "3 2016-01-01  Bakla-kuru                354  sebze ve bakliyat         7.02         Yurt içi      M     A  2.9139         9.58        1.82 NaN      1            1            53            4  2016        1               1             0               NaN               NaN               NaN               NaN               NaN               NaN               NaN               NaN               NaN                NaN                NaN                NaN                NaN                NaN   \n",
       "4 2016-01-01  Bakla-taze                 72  sebze ve bakliyat        13.14         Yurt içi      M     A  2.9139         9.58        1.82 NaN      1            1            53            4  2016        1               1             0               NaN               NaN               NaN               NaN               NaN               NaN               NaN               NaN               NaN                NaN                NaN                NaN                NaN                NaN   \n",
       "\n",
       "   fiyat_roll_mean_6  fiyat_ewm_alpha_095_lag_2  fiyat_ewm_alpha_095_lag_3  fiyat_ewm_alpha_095_lag_4  fiyat_ewm_alpha_095_lag_5  fiyat_ewm_alpha_095_lag_6  fiyat_ewm_alpha_095_lag_7  fiyat_ewm_alpha_095_lag_8  fiyat_ewm_alpha_09_lag_2  fiyat_ewm_alpha_09_lag_3  fiyat_ewm_alpha_09_lag_4  fiyat_ewm_alpha_09_lag_5  fiyat_ewm_alpha_09_lag_6  fiyat_ewm_alpha_09_lag_7  fiyat_ewm_alpha_09_lag_8  fiyat_ewm_alpha_08_lag_2  fiyat_ewm_alpha_08_lag_3  fiyat_ewm_alpha_08_lag_4  fiyat_ewm_alpha_08_lag_5  \\\n",
       "0                NaN                        NaN                        NaN                        NaN                        NaN                        NaN                        NaN                        NaN                       NaN                       NaN                       NaN                       NaN                       NaN                       NaN                       NaN                       NaN                       NaN                       NaN                       NaN   \n",
       "1                NaN                        NaN                        NaN                        NaN                        NaN                        NaN                        NaN                        NaN                       NaN                       NaN                       NaN                       NaN                       NaN                       NaN                       NaN                       NaN                       NaN                       NaN                       NaN   \n",
       "2                NaN                        NaN                        NaN                        NaN                        NaN                        NaN                        NaN                        NaN                       NaN                       NaN                       NaN                       NaN                       NaN                       NaN                       NaN                       NaN                       NaN                       NaN                       NaN   \n",
       "3                NaN                        NaN                        NaN                        NaN                        NaN                        NaN                        NaN                        NaN                       NaN                       NaN                       NaN                       NaN                       NaN                       NaN                       NaN                       NaN                       NaN                       NaN                       NaN   \n",
       "4                NaN                        NaN                        NaN                        NaN                        NaN                        NaN                        NaN                        NaN                       NaN                       NaN                       NaN                       NaN                       NaN                       NaN                       NaN                       NaN                       NaN                       NaN                       NaN   \n",
       "\n",
       "   fiyat_ewm_alpha_08_lag_6  fiyat_ewm_alpha_08_lag_7  fiyat_ewm_alpha_08_lag_8  fiyat_ewm_alpha_07_lag_2  fiyat_ewm_alpha_07_lag_3  fiyat_ewm_alpha_07_lag_4  fiyat_ewm_alpha_07_lag_5  fiyat_ewm_alpha_07_lag_6  fiyat_ewm_alpha_07_lag_7  fiyat_ewm_alpha_07_lag_8  fiyat_ewm_alpha_05_lag_2  fiyat_ewm_alpha_05_lag_3  fiyat_ewm_alpha_05_lag_4  fiyat_ewm_alpha_05_lag_5  fiyat_ewm_alpha_05_lag_6  fiyat_ewm_alpha_05_lag_7  fiyat_ewm_alpha_05_lag_8 NEW_besin_değeri  NEW_uniq_price  \n",
       "0                       NaN                       NaN                       NaN                       NaN                       NaN                       NaN                       NaN                       NaN                       NaN                       NaN                       NaN                       NaN                       NaN                       NaN                       NaN                       NaN                       NaN             rich        3.591739  \n",
       "1                       NaN                       NaN                       NaN                       NaN                       NaN                       NaN                       NaN                       NaN                       NaN                       NaN                       NaN                       NaN                       NaN                       NaN                       NaN                       NaN                       NaN             rich        9.180036  \n",
       "2                       NaN                       NaN                       NaN                       NaN                       NaN                       NaN                       NaN                       NaN                       NaN                       NaN                       NaN                       NaN                       NaN                       NaN                       NaN                       NaN                       NaN             rich       14.388489  \n",
       "3                       NaN                       NaN                       NaN                       NaN                       NaN                       NaN                       NaN                       NaN                       NaN                       NaN                       NaN                       NaN                       NaN                       NaN                       NaN                       NaN                       NaN       super_rich       50.427350  \n",
       "4                       NaN                       NaN                       NaN                       NaN                       NaN                       NaN                       NaN                       NaN                       NaN                       NaN                       NaN                       NaN                       NaN                       NaN                       NaN                       NaN                       NaN          average        5.479452  "
      ]
     },
     "execution_count": 53,
     "metadata": {},
     "output_type": "execute_result"
    }
   ],
   "source": [
    "df.head()"
   ]
  },
  {
   "cell_type": "markdown",
   "id": "30034e86-5573-42c9-aa14-9d0d084cf4d7",
   "metadata": {},
   "source": [
    "## 2.2-Encoding İşlemleri"
   ]
  },
  {
   "cell_type": "markdown",
   "id": "6c77d033-8a9e-4dc9-9f50-24bb5f1709be",
   "metadata": {},
   "source": [
    "Bu bölüm, veri setindeki kategorik değişkenlerin model tarafından anlaşılabilir formatta olacak şekilde encode edilmesi aşamasıdır. One-Hot ve Rare Encoding işlemleri yapılacaktır."
   ]
  },
  {
   "cell_type": "markdown",
   "id": "fd6c25f2-949c-4c8d-acf6-184eee28d02f",
   "metadata": {},
   "source": [
    "### 2.2.1-One Hot Encoding"
   ]
  },
  {
   "cell_type": "markdown",
   "id": "d3987ede-1838-4b15-a3c0-667b26fa57a9",
   "metadata": {},
   "source": [
    "2'den fazla benzersiz(uniq) gözleme sahip kategorik değişkenlerin encode edilmesi aşamasıdır."
   ]
  },
  {
   "cell_type": "code",
   "execution_count": 54,
   "id": "a65be28e-a3a1-486f-9fa4-27c70570083c",
   "metadata": {},
   "outputs": [
    {
     "data": {
      "text/plain": [
       "['ürün kategorisi',\n",
       " 'market',\n",
       " 'şehir',\n",
       " 'day_of_week',\n",
       " 'year',\n",
       " 'NEW_besin_değeri']"
      ]
     },
     "execution_count": 54,
     "metadata": {},
     "output_type": "execute_result"
    }
   ],
   "source": [
    "ohe_cols = [col for col in df.columns if 10 >= df[col].nunique() > 2]  # One-Hot encoding için uygun değişkenler\n",
    "ohe_cols"
   ]
  },
  {
   "cell_type": "code",
   "execution_count": 55,
   "id": "e272cb10-9735-4ace-b272-7b8fce3eea3d",
   "metadata": {},
   "outputs": [],
   "source": [
    "ohe_cols.append(\"ürün\") \n",
    "ohe_cols.append(\"ürün üretim yeri\") # Bu değişkenlerin de encode edilmesi gerek."
   ]
  },
  {
   "cell_type": "code",
   "execution_count": 56,
   "id": "5413739b-a9c3-4b27-b90f-919eb65309eb",
   "metadata": {},
   "outputs": [
    {
     "data": {
      "text/plain": [
       "['ürün kategorisi',\n",
       " 'market',\n",
       " 'şehir',\n",
       " 'day_of_week',\n",
       " 'year',\n",
       " 'NEW_besin_değeri',\n",
       " 'ürün',\n",
       " 'ürün üretim yeri']"
      ]
     },
     "execution_count": 56,
     "metadata": {},
     "output_type": "execute_result"
    }
   ],
   "source": [
    "ohe_cols"
   ]
  },
  {
   "cell_type": "code",
   "execution_count": 57,
   "id": "8b93ecb0-3c0d-4be5-9864-7df126692542",
   "metadata": {},
   "outputs": [],
   "source": [
    "df = pd.get_dummies(df, columns=ohe_cols, drop_first=True)"
   ]
  },
  {
   "cell_type": "code",
   "execution_count": 58,
   "id": "7f4eda5f-eef1-478a-892b-413d367d2a20",
   "metadata": {},
   "outputs": [],
   "source": [
    "cat_cols, num_cols, cat_but_car = grab_col_names(df)"
   ]
  },
  {
   "cell_type": "markdown",
   "id": "6bdd1c26-c27e-4d70-a9d6-4b9a3877448b",
   "metadata": {},
   "source": [
    "### 2.2.2-Rare Encoding"
   ]
  },
  {
   "cell_type": "markdown",
   "id": "6711ca2c-13d0-423a-9b02-b7fb1c1a12b4",
   "metadata": {},
   "source": [
    "Bağımlı değişkene göre dağılımı seyrek olan değişken gözlemlerinin (varsa) birarada encode edilmesidir."
   ]
  },
  {
   "cell_type": "code",
   "execution_count": 59,
   "id": "e8eb9fea-b765-4565-943e-bbca0b4c55b4",
   "metadata": {},
   "outputs": [],
   "source": [
    "def rare_analyser(dataframe, target, cat_cols):\n",
    "    for col in cat_cols:\n",
    "        print(col, \":\", len(dataframe[col].value_counts()))\n",
    "        print(pd.DataFrame({\"COUNT\": dataframe[col].value_counts(),\n",
    "                            \"RATIO\": dataframe[col].value_counts() / len(dataframe),\n",
    "                            \"TARGET_MEAN\": dataframe.groupby(col)[target].mean()}), end=\"\\n\\n\\n\")"
   ]
  },
  {
   "cell_type": "code",
   "execution_count": 60,
   "id": "b51170bf-dea8-4f03-84f0-6895b6cccfc4",
   "metadata": {
    "tags": []
   },
   "outputs": [],
   "source": [
    "#rare_analyser(df, \"ürün fiyatı\", cat_cols)"
   ]
  },
  {
   "cell_type": "markdown",
   "id": "0e3aa8cb-af43-4dc3-bdc3-a7823cac4a6f",
   "metadata": {},
   "source": [
    "Rare olarak kabul edilebilecek (ratio < 0.01 seviyede) herhangi bir değişken gözlemi gözükmüyor."
   ]
  },
  {
   "cell_type": "code",
   "execution_count": 61,
   "id": "7fa867e8-daca-408c-8334-ac05fd06bceb",
   "metadata": {},
   "outputs": [
    {
     "data": {
      "text/plain": [
       "(273024, 171)"
      ]
     },
     "execution_count": 61,
     "metadata": {},
     "output_type": "execute_result"
    }
   ],
   "source": [
    "df.shape"
   ]
  },
  {
   "cell_type": "markdown",
   "id": "0e0121f0-9b66-4e3e-bf44-cf553573632b",
   "metadata": {},
   "source": [
    "Modelden oluşturmadan önce, Feature Extraction aşamasında dataframe değişken sayısının 8'den 176'ya çıkarıldığı görülebilir."
   ]
  },
  {
   "cell_type": "markdown",
   "id": "2472d597-5b09-4104-b664-6c5cf61c886c",
   "metadata": {},
   "source": [
    "# 3-Model Oluşturma ve Test"
   ]
  },
  {
   "cell_type": "markdown",
   "id": "d10b791a-5b27-4c50-b198-d2d7eac71c47",
   "metadata": {},
   "source": [
    "Bu aşamada, Keşifçi Veri Analizi ve Özellik Mühendisliği bölümlerinde hazırlanan veri seti üzerinde **LightGBM** makine öğrenmesi algoritması kullanarak model geliştirilecektir."
   ]
  },
  {
   "cell_type": "markdown",
   "id": "a3644761-b039-4df6-8970-390c322130fb",
   "metadata": {},
   "source": [
    "## 3.1-Hata Metriğinin Hazırlanması ve Validasyon"
   ]
  },
  {
   "cell_type": "markdown",
   "id": "368049bc-368d-4afb-b4e0-ac36d4c3a182",
   "metadata": {},
   "source": [
    "### 3.1.1-Hata Metriği"
   ]
  },
  {
   "cell_type": "markdown",
   "id": "bbbbe58b-981c-40c7-8e6c-d2566f97e3f7",
   "metadata": {},
   "source": [
    "Bu aşamada, kullanılacak model için validasyon yapıldığında model doğruluğunu ölçmek için **SMAPE hata metriği** kullanılacaktır."
   ]
  },
  {
   "cell_type": "code",
   "execution_count": 62,
   "id": "b641646f-52e6-4983-9c8c-da18de066826",
   "metadata": {},
   "outputs": [],
   "source": [
    "df['ürün fiyatı'] = np.log1p(df[\"ürün fiyatı\"].values)  # Modelde sağlıklı sonuç vermesi için logaritmasını alındı."
   ]
  },
  {
   "cell_type": "code",
   "execution_count": 63,
   "id": "588d070d-3e5a-4c82-9e30-e18ce8672674",
   "metadata": {},
   "outputs": [],
   "source": [
    "def smape(preds, target):\n",
    "    n = len(preds)\n",
    "    masked_arr = ~((preds == 0) & (target == 0))\n",
    "    preds, target = preds[masked_arr], target[masked_arr]\n",
    "    num = np.abs(preds - target)\n",
    "    denom = np.abs(preds) + np.abs(target)\n",
    "    smape_val = (200 * np.sum(num / denom)) / n\n",
    "    return smape_val\n",
    "\n",
    "def lgbm_smape(preds, train_data):\n",
    "    labels = train_data.get_label()\n",
    "    smape_val = smape(np.expm1(preds), np.expm1(labels))\n",
    "    return 'SMAPE', smape_val, False"
   ]
  },
  {
   "cell_type": "markdown",
   "id": "4daf8724-fb25-43ac-9c64-48c942104b7b",
   "metadata": {},
   "source": [
    "### 3.1.2-Validasyon"
   ]
  },
  {
   "cell_type": "markdown",
   "id": "f899e136-e848-4e3d-9395-412d8547ef9c",
   "metadata": {},
   "source": [
    "Modelin, test veri setinde nasıl bir sonuç alabileceğini validasyon veri seti oluşturarak inceleme aşamasıdır."
   ]
  },
  {
   "cell_type": "code",
   "execution_count": 64,
   "id": "1456892b-a8cd-49e0-b6d6-1805c6a62023",
   "metadata": {},
   "outputs": [],
   "source": [
    "train = df.loc[(df[\"tarih\"] < \"2020-05-01\"), :]   # Validasyon-train veri setleri belirlendi.\n",
    "val = df.loc[(df[\"tarih\"] >= \"2020-05-01\") & (df[\"tarih\"] <= \"2020-08-01\"), :]"
   ]
  },
  {
   "cell_type": "code",
   "execution_count": 65,
   "id": "9759e892-0ae3-4dfd-90c0-d7411ed08602",
   "metadata": {},
   "outputs": [],
   "source": [
    "cols = [col for col in train.columns if col not in ['tarih', 'id', \"ürün fiyatı\"]] # Bu değişkenler dışındaki değişkenler kullanılacaktır."
   ]
  },
  {
   "cell_type": "code",
   "execution_count": 66,
   "id": "4718839f-5557-4610-99f3-54fdc957daad",
   "metadata": {},
   "outputs": [],
   "source": [
    "Y_train = train['ürün fiyatı']\n",
    "X_train = train[cols]"
   ]
  },
  {
   "cell_type": "code",
   "execution_count": 67,
   "id": "b03ed887-1a8c-4b7e-b57e-faa5591e1faa",
   "metadata": {},
   "outputs": [],
   "source": [
    "Y_val = val['ürün fiyatı']\n",
    "X_val = val[cols]"
   ]
  },
  {
   "cell_type": "markdown",
   "id": "a751f5f2-9043-4803-97af-2bcccda22df2",
   "metadata": {},
   "source": [
    "#### Model Parametreleri"
   ]
  },
  {
   "cell_type": "code",
   "execution_count": 68,
   "id": "046455b5-4245-4731-be78-f86ced61bf10",
   "metadata": {},
   "outputs": [],
   "source": [
    "lgb_params = {'metric': {'mae'},\n",
    "              'num_leaves': 10,\n",
    "              'learning_rate': 0.02,\n",
    "              'feature_fraction': 0.8,\n",
    "              'max_depth': 5,\n",
    "              'verbose': 0,\n",
    "              'num_boost_round': 10000,\n",
    "              'early_stopping_rounds': 200,\n",
    "              'nthread': -1}"
   ]
  },
  {
   "cell_type": "code",
   "execution_count": 69,
   "id": "e7adfc2e-e1f0-4837-8700-6d834912b3a2",
   "metadata": {},
   "outputs": [],
   "source": [
    "lgbtrain = lgb.Dataset(data=X_train, label=Y_train, feature_name=cols)  # model için uygun formata getirildi.\n",
    "lgbval = lgb.Dataset(data=X_val, label=Y_val, reference=lgbtrain, feature_name=cols)"
   ]
  },
  {
   "cell_type": "code",
   "execution_count": 70,
   "id": "a326a956-884a-42af-9ce3-9e8606d091bd",
   "metadata": {},
   "outputs": [
    {
     "name": "stdout",
     "output_type": "stream",
     "text": [
      "[LightGBM] [Warning] Found whitespace in feature_names, replace with underlines\n",
      "[LightGBM] [Warning] Auto-choosing col-wise multi-threading, the overhead of testing was 0.045660 seconds.\n",
      "You can set `force_col_wise=true` to remove the overhead.\n",
      "[LightGBM] [Warning] Found whitespace in feature_names, replace with underlines\n",
      "Training until validation scores don't improve for 200 rounds\n",
      "[100]\ttraining's l1: 0.0868405\ttraining's SMAPE: 9.91473\tvalid_1's l1: 0.100485\tvalid_1's SMAPE: 10.519\n",
      "[200]\ttraining's l1: 0.0269293\ttraining's SMAPE: 3.09915\tvalid_1's l1: 0.021985\tvalid_1's SMAPE: 2.31536\n",
      "[300]\ttraining's l1: 0.0191469\ttraining's SMAPE: 2.19179\tvalid_1's l1: 0.0155589\tvalid_1's SMAPE: 1.64148\n",
      "[400]\ttraining's l1: 0.0166995\ttraining's SMAPE: 1.90123\tvalid_1's l1: 0.0146429\tvalid_1's SMAPE: 1.54563\n",
      "[500]\ttraining's l1: 0.0155525\ttraining's SMAPE: 1.7654\tvalid_1's l1: 0.0139872\tvalid_1's SMAPE: 1.47895\n",
      "[600]\ttraining's l1: 0.014707\ttraining's SMAPE: 1.66619\tvalid_1's l1: 0.0135787\tvalid_1's SMAPE: 1.43643\n",
      "[700]\ttraining's l1: 0.0140378\ttraining's SMAPE: 1.58864\tvalid_1's l1: 0.0133281\tvalid_1's SMAPE: 1.41009\n",
      "[800]\ttraining's l1: 0.0135514\ttraining's SMAPE: 1.53217\tvalid_1's l1: 0.0131205\tvalid_1's SMAPE: 1.38864\n",
      "[900]\ttraining's l1: 0.0131639\ttraining's SMAPE: 1.48742\tvalid_1's l1: 0.0130135\tvalid_1's SMAPE: 1.37755\n",
      "[1000]\ttraining's l1: 0.0128623\ttraining's SMAPE: 1.45167\tvalid_1's l1: 0.0128853\tvalid_1's SMAPE: 1.36434\n",
      "[1100]\ttraining's l1: 0.0126185\ttraining's SMAPE: 1.42342\tvalid_1's l1: 0.012803\tvalid_1's SMAPE: 1.35603\n",
      "[1200]\ttraining's l1: 0.0124119\ttraining's SMAPE: 1.39944\tvalid_1's l1: 0.0126898\tvalid_1's SMAPE: 1.34476\n",
      "[1300]\ttraining's l1: 0.0122305\ttraining's SMAPE: 1.37838\tvalid_1's l1: 0.0126214\tvalid_1's SMAPE: 1.33793\n",
      "[1400]\ttraining's l1: 0.012067\ttraining's SMAPE: 1.35913\tvalid_1's l1: 0.0125856\tvalid_1's SMAPE: 1.33427\n",
      "[1500]\ttraining's l1: 0.0119269\ttraining's SMAPE: 1.34217\tvalid_1's l1: 0.0125308\tvalid_1's SMAPE: 1.32853\n",
      "[1600]\ttraining's l1: 0.0118018\ttraining's SMAPE: 1.32707\tvalid_1's l1: 0.0124967\tvalid_1's SMAPE: 1.32493\n",
      "[1700]\ttraining's l1: 0.0116892\ttraining's SMAPE: 1.31347\tvalid_1's l1: 0.0124843\tvalid_1's SMAPE: 1.32358\n",
      "[1800]\ttraining's l1: 0.0115878\ttraining's SMAPE: 1.30159\tvalid_1's l1: 0.0124693\tvalid_1's SMAPE: 1.32213\n",
      "[1900]\ttraining's l1: 0.0114971\ttraining's SMAPE: 1.29109\tvalid_1's l1: 0.01245\tvalid_1's SMAPE: 1.32022\n",
      "[2000]\ttraining's l1: 0.0114066\ttraining's SMAPE: 1.28044\tvalid_1's l1: 0.0124359\tvalid_1's SMAPE: 1.31876\n",
      "[2100]\ttraining's l1: 0.0113267\ttraining's SMAPE: 1.27112\tvalid_1's l1: 0.0124229\tvalid_1's SMAPE: 1.31741\n",
      "[2200]\ttraining's l1: 0.0112554\ttraining's SMAPE: 1.26278\tvalid_1's l1: 0.0124147\tvalid_1's SMAPE: 1.31656\n",
      "[2300]\ttraining's l1: 0.0111897\ttraining's SMAPE: 1.25523\tvalid_1's l1: 0.0123963\tvalid_1's SMAPE: 1.31466\n",
      "[2400]\ttraining's l1: 0.0111314\ttraining's SMAPE: 1.24854\tvalid_1's l1: 0.0123795\tvalid_1's SMAPE: 1.31292\n",
      "[2500]\ttraining's l1: 0.0110777\ttraining's SMAPE: 1.24232\tvalid_1's l1: 0.0123692\tvalid_1's SMAPE: 1.3118\n",
      "[2600]\ttraining's l1: 0.0110268\ttraining's SMAPE: 1.23646\tvalid_1's l1: 0.0123566\tvalid_1's SMAPE: 1.31046\n",
      "[2700]\ttraining's l1: 0.0109778\ttraining's SMAPE: 1.23072\tvalid_1's l1: 0.0123463\tvalid_1's SMAPE: 1.30938\n",
      "[2800]\ttraining's l1: 0.0109334\ttraining's SMAPE: 1.22569\tvalid_1's l1: 0.0123316\tvalid_1's SMAPE: 1.30784\n",
      "[2900]\ttraining's l1: 0.0108936\ttraining's SMAPE: 1.22105\tvalid_1's l1: 0.0123253\tvalid_1's SMAPE: 1.30719\n",
      "[3000]\ttraining's l1: 0.010853\ttraining's SMAPE: 1.21632\tvalid_1's l1: 0.0123191\tvalid_1's SMAPE: 1.30651\n",
      "[3100]\ttraining's l1: 0.0108153\ttraining's SMAPE: 1.21197\tvalid_1's l1: 0.0123117\tvalid_1's SMAPE: 1.30577\n",
      "[3200]\ttraining's l1: 0.0107796\ttraining's SMAPE: 1.20782\tvalid_1's l1: 0.0123097\tvalid_1's SMAPE: 1.30555\n",
      "[3300]\ttraining's l1: 0.010746\ttraining's SMAPE: 1.20391\tvalid_1's l1: 0.0123082\tvalid_1's SMAPE: 1.30537\n",
      "[3400]\ttraining's l1: 0.0107138\ttraining's SMAPE: 1.20024\tvalid_1's l1: 0.0122999\tvalid_1's SMAPE: 1.30448\n",
      "[3500]\ttraining's l1: 0.0106847\ttraining's SMAPE: 1.19688\tvalid_1's l1: 0.0122937\tvalid_1's SMAPE: 1.30384\n",
      "[3600]\ttraining's l1: 0.0106537\ttraining's SMAPE: 1.19326\tvalid_1's l1: 0.0122894\tvalid_1's SMAPE: 1.30336\n",
      "[3700]\ttraining's l1: 0.0106246\ttraining's SMAPE: 1.18997\tvalid_1's l1: 0.0122805\tvalid_1's SMAPE: 1.30239\n",
      "[3800]\ttraining's l1: 0.0105966\ttraining's SMAPE: 1.18671\tvalid_1's l1: 0.0122802\tvalid_1's SMAPE: 1.30237\n",
      "[3900]\ttraining's l1: 0.010571\ttraining's SMAPE: 1.18379\tvalid_1's l1: 0.0122706\tvalid_1's SMAPE: 1.30133\n",
      "[4000]\ttraining's l1: 0.0105455\ttraining's SMAPE: 1.18085\tvalid_1's l1: 0.0122629\tvalid_1's SMAPE: 1.3005\n",
      "[4100]\ttraining's l1: 0.0105201\ttraining's SMAPE: 1.17795\tvalid_1's l1: 0.0122547\tvalid_1's SMAPE: 1.29964\n",
      "[4200]\ttraining's l1: 0.0104964\ttraining's SMAPE: 1.17519\tvalid_1's l1: 0.0122515\tvalid_1's SMAPE: 1.29929\n",
      "[4300]\ttraining's l1: 0.0104735\ttraining's SMAPE: 1.17256\tvalid_1's l1: 0.0122404\tvalid_1's SMAPE: 1.29809\n",
      "[4400]\ttraining's l1: 0.0104514\ttraining's SMAPE: 1.16994\tvalid_1's l1: 0.0122346\tvalid_1's SMAPE: 1.29745\n",
      "[4500]\ttraining's l1: 0.0104295\ttraining's SMAPE: 1.1674\tvalid_1's l1: 0.0122256\tvalid_1's SMAPE: 1.29649\n",
      "[4600]\ttraining's l1: 0.010408\ttraining's SMAPE: 1.16486\tvalid_1's l1: 0.0122186\tvalid_1's SMAPE: 1.29573\n",
      "[4700]\ttraining's l1: 0.0103874\ttraining's SMAPE: 1.16247\tvalid_1's l1: 0.0122138\tvalid_1's SMAPE: 1.29522\n",
      "[4800]\ttraining's l1: 0.0103676\ttraining's SMAPE: 1.16022\tvalid_1's l1: 0.0121982\tvalid_1's SMAPE: 1.29354\n",
      "[4900]\ttraining's l1: 0.0103465\ttraining's SMAPE: 1.15776\tvalid_1's l1: 0.0121866\tvalid_1's SMAPE: 1.2923\n",
      "[5000]\ttraining's l1: 0.0103266\ttraining's SMAPE: 1.15544\tvalid_1's l1: 0.0121814\tvalid_1's SMAPE: 1.29176\n",
      "[5100]\ttraining's l1: 0.010307\ttraining's SMAPE: 1.15323\tvalid_1's l1: 0.0121711\tvalid_1's SMAPE: 1.29065\n",
      "[5200]\ttraining's l1: 0.010288\ttraining's SMAPE: 1.15102\tvalid_1's l1: 0.0121611\tvalid_1's SMAPE: 1.28958\n",
      "[5300]\ttraining's l1: 0.0102676\ttraining's SMAPE: 1.14869\tvalid_1's l1: 0.0121527\tvalid_1's SMAPE: 1.28872\n",
      "[5400]\ttraining's l1: 0.0102484\ttraining's SMAPE: 1.14648\tvalid_1's l1: 0.0121465\tvalid_1's SMAPE: 1.28806\n",
      "[5500]\ttraining's l1: 0.0102287\ttraining's SMAPE: 1.14425\tvalid_1's l1: 0.0121431\tvalid_1's SMAPE: 1.28771\n",
      "[5600]\ttraining's l1: 0.0102091\ttraining's SMAPE: 1.142\tvalid_1's l1: 0.0121308\tvalid_1's SMAPE: 1.2864\n",
      "[5700]\ttraining's l1: 0.0101889\ttraining's SMAPE: 1.13971\tvalid_1's l1: 0.012117\tvalid_1's SMAPE: 1.28489\n",
      "[5800]\ttraining's l1: 0.0101704\ttraining's SMAPE: 1.13759\tvalid_1's l1: 0.0121031\tvalid_1's SMAPE: 1.28341\n",
      "[5900]\ttraining's l1: 0.0101525\ttraining's SMAPE: 1.13556\tvalid_1's l1: 0.01209\tvalid_1's SMAPE: 1.28201\n",
      "[6000]\ttraining's l1: 0.0101344\ttraining's SMAPE: 1.13351\tvalid_1's l1: 0.0120812\tvalid_1's SMAPE: 1.28108\n",
      "[6100]\ttraining's l1: 0.0101173\ttraining's SMAPE: 1.13156\tvalid_1's l1: 0.012071\tvalid_1's SMAPE: 1.27998\n",
      "[6200]\ttraining's l1: 0.0101009\ttraining's SMAPE: 1.12974\tvalid_1's l1: 0.0120619\tvalid_1's SMAPE: 1.27902\n",
      "[6300]\ttraining's l1: 0.010084\ttraining's SMAPE: 1.12777\tvalid_1's l1: 0.0120503\tvalid_1's SMAPE: 1.27779\n",
      "[6400]\ttraining's l1: 0.0100672\ttraining's SMAPE: 1.12587\tvalid_1's l1: 0.0120394\tvalid_1's SMAPE: 1.27662\n",
      "[6500]\ttraining's l1: 0.0100509\ttraining's SMAPE: 1.12404\tvalid_1's l1: 0.0120282\tvalid_1's SMAPE: 1.27544\n",
      "[6600]\ttraining's l1: 0.0100352\ttraining's SMAPE: 1.12227\tvalid_1's l1: 0.0120147\tvalid_1's SMAPE: 1.27401\n",
      "[6700]\ttraining's l1: 0.0100182\ttraining's SMAPE: 1.12029\tvalid_1's l1: 0.0120069\tvalid_1's SMAPE: 1.27317\n",
      "[6800]\ttraining's l1: 0.0100028\ttraining's SMAPE: 1.11854\tvalid_1's l1: 0.011997\tvalid_1's SMAPE: 1.27213\n",
      "[6900]\ttraining's l1: 0.00998701\ttraining's SMAPE: 1.11675\tvalid_1's l1: 0.0119869\tvalid_1's SMAPE: 1.27106\n",
      "[7000]\ttraining's l1: 0.0099722\ttraining's SMAPE: 1.11505\tvalid_1's l1: 0.011975\tvalid_1's SMAPE: 1.26982\n",
      "[7100]\ttraining's l1: 0.00995672\ttraining's SMAPE: 1.11332\tvalid_1's l1: 0.0119677\tvalid_1's SMAPE: 1.26905\n",
      "[7200]\ttraining's l1: 0.00994226\ttraining's SMAPE: 1.11171\tvalid_1's l1: 0.0119588\tvalid_1's SMAPE: 1.2681\n",
      "[7300]\ttraining's l1: 0.0099278\ttraining's SMAPE: 1.1101\tvalid_1's l1: 0.0119491\tvalid_1's SMAPE: 1.26709\n",
      "[7400]\ttraining's l1: 0.00991394\ttraining's SMAPE: 1.10854\tvalid_1's l1: 0.0119385\tvalid_1's SMAPE: 1.26595\n",
      "[7500]\ttraining's l1: 0.00989986\ttraining's SMAPE: 1.10695\tvalid_1's l1: 0.0119303\tvalid_1's SMAPE: 1.26508\n",
      "[7600]\ttraining's l1: 0.00988529\ttraining's SMAPE: 1.10532\tvalid_1's l1: 0.0119221\tvalid_1's SMAPE: 1.26423\n",
      "[7700]\ttraining's l1: 0.00987064\ttraining's SMAPE: 1.10366\tvalid_1's l1: 0.0119115\tvalid_1's SMAPE: 1.2631\n",
      "[7800]\ttraining's l1: 0.009856\ttraining's SMAPE: 1.102\tvalid_1's l1: 0.0119001\tvalid_1's SMAPE: 1.26188\n",
      "[7900]\ttraining's l1: 0.0098428\ttraining's SMAPE: 1.10053\tvalid_1's l1: 0.0118896\tvalid_1's SMAPE: 1.26074\n",
      "[8000]\ttraining's l1: 0.00982875\ttraining's SMAPE: 1.09895\tvalid_1's l1: 0.0118797\tvalid_1's SMAPE: 1.25971\n",
      "[8100]\ttraining's l1: 0.00981575\ttraining's SMAPE: 1.09748\tvalid_1's l1: 0.0118693\tvalid_1's SMAPE: 1.2586\n",
      "[8200]\ttraining's l1: 0.00980141\ttraining's SMAPE: 1.09587\tvalid_1's l1: 0.0118595\tvalid_1's SMAPE: 1.25755\n",
      "[8300]\ttraining's l1: 0.00978761\ttraining's SMAPE: 1.09434\tvalid_1's l1: 0.0118517\tvalid_1's SMAPE: 1.25673\n",
      "[8400]\ttraining's l1: 0.00977482\ttraining's SMAPE: 1.09293\tvalid_1's l1: 0.0118444\tvalid_1's SMAPE: 1.25595\n",
      "[8500]\ttraining's l1: 0.00976206\ttraining's SMAPE: 1.09149\tvalid_1's l1: 0.0118368\tvalid_1's SMAPE: 1.25515\n",
      "[8600]\ttraining's l1: 0.00974904\ttraining's SMAPE: 1.09003\tvalid_1's l1: 0.0118278\tvalid_1's SMAPE: 1.2542\n",
      "[8700]\ttraining's l1: 0.0097362\ttraining's SMAPE: 1.08862\tvalid_1's l1: 0.0118161\tvalid_1's SMAPE: 1.25297\n",
      "[8800]\ttraining's l1: 0.00972333\ttraining's SMAPE: 1.08719\tvalid_1's l1: 0.0118057\tvalid_1's SMAPE: 1.25187\n",
      "[8900]\ttraining's l1: 0.00971011\ttraining's SMAPE: 1.08574\tvalid_1's l1: 0.0117955\tvalid_1's SMAPE: 1.25079\n",
      "[9000]\ttraining's l1: 0.00969743\ttraining's SMAPE: 1.08431\tvalid_1's l1: 0.01179\tvalid_1's SMAPE: 1.25021\n",
      "[9100]\ttraining's l1: 0.00968477\ttraining's SMAPE: 1.08287\tvalid_1's l1: 0.0117826\tvalid_1's SMAPE: 1.24942\n",
      "[9200]\ttraining's l1: 0.0096724\ttraining's SMAPE: 1.08148\tvalid_1's l1: 0.0117744\tvalid_1's SMAPE: 1.24855\n",
      "[9300]\ttraining's l1: 0.00965916\ttraining's SMAPE: 1.07999\tvalid_1's l1: 0.0117641\tvalid_1's SMAPE: 1.24745\n",
      "[9400]\ttraining's l1: 0.0096471\ttraining's SMAPE: 1.07865\tvalid_1's l1: 0.0117607\tvalid_1's SMAPE: 1.24711\n",
      "[9500]\ttraining's l1: 0.00963503\ttraining's SMAPE: 1.0773\tvalid_1's l1: 0.0117541\tvalid_1's SMAPE: 1.24641\n",
      "[9600]\ttraining's l1: 0.00962244\ttraining's SMAPE: 1.07588\tvalid_1's l1: 0.0117469\tvalid_1's SMAPE: 1.24567\n",
      "[9700]\ttraining's l1: 0.00961039\ttraining's SMAPE: 1.07455\tvalid_1's l1: 0.0117416\tvalid_1's SMAPE: 1.24511\n",
      "[9800]\ttraining's l1: 0.00959769\ttraining's SMAPE: 1.07316\tvalid_1's l1: 0.0117311\tvalid_1's SMAPE: 1.244\n",
      "[9900]\ttraining's l1: 0.00958603\ttraining's SMAPE: 1.07186\tvalid_1's l1: 0.0117256\tvalid_1's SMAPE: 1.2434\n",
      "[10000]\ttraining's l1: 0.0095744\ttraining's SMAPE: 1.07056\tvalid_1's l1: 0.0117176\tvalid_1's SMAPE: 1.24257\n",
      "Did not meet early stopping. Best iteration is:\n",
      "[10000]\ttraining's l1: 0.0095744\ttraining's SMAPE: 1.07056\tvalid_1's l1: 0.0117176\tvalid_1's SMAPE: 1.24257\n"
     ]
    }
   ],
   "source": [
    "model = lgb.train(lgb_params, lgbtrain,\n",
    "                  valid_sets=[lgbtrain, lgbval],\n",
    "                  num_boost_round=lgb_params['num_boost_round'],\n",
    "                  early_stopping_rounds=lgb_params['early_stopping_rounds'],\n",
    "                  feval=lgbm_smape,\n",
    "                  verbose_eval=100)"
   ]
  },
  {
   "cell_type": "markdown",
   "id": "1bcdb119-7bb5-4dec-875e-2c53ffb0c2dc",
   "metadata": {},
   "source": [
    "#### Feature Perfomance "
   ]
  },
  {
   "cell_type": "markdown",
   "id": "16095f4b-d4ea-4442-aa57-1545983ac09c",
   "metadata": {},
   "source": [
    "plot_lgb_importances (), model için önemli değişkenleri sıralayıp grafikleştiren fonksiyondur."
   ]
  },
  {
   "cell_type": "code",
   "execution_count": 71,
   "id": "c0547746-845c-4271-ab27-d3ff6f7c1047",
   "metadata": {},
   "outputs": [],
   "source": [
    "def plot_lgb_importances(model, plot=False, num=10):\n",
    "\n",
    "    gain = model.feature_importance('gain')\n",
    "    feat_imp = pd.DataFrame({'feature': model.feature_name(),\n",
    "                             'split': model.feature_importance('split'),\n",
    "                             'gain': 100 * gain / gain.sum()}).sort_values('gain', ascending=False)\n",
    "    if plot:\n",
    "        plt.figure(figsize=(10, 10))\n",
    "        sns.set(font_scale=1)\n",
    "        sns.barplot(x=\"gain\", y=\"feature\", data=feat_imp[0:25])\n",
    "        plt.title('feature')\n",
    "        plt.tight_layout()\n",
    "        plt.show()\n",
    "    else:\n",
    "        print(feat_imp.head(num))\n",
    "        print(\"Sum:\", feat_imp[\"gain\"].sum())"
   ]
  },
  {
   "cell_type": "code",
   "execution_count": 72,
   "id": "35bdc80f-8d3b-4191-ad8a-d9c346bb9baf",
   "metadata": {},
   "outputs": [
    {
     "data": {
      "image/png": "[encoded data removed]",
      "text/plain": [
       "<Figure size 720x720 with 1 Axes>"
      ]
     },
     "metadata": {},
     "output_type": "display_data"
    }
   ],
   "source": [
    "plot_lgb_importances(model, plot=True)"
   ]
  },
  {
   "cell_type": "markdown",
   "id": "518b2c8f-9c60-46f5-a2d7-cd69f9ea240c",
   "metadata": {},
   "source": [
    "## 3.2-Tahminleme Testi"
   ]
  },
  {
   "cell_type": "markdown",
   "id": "5dc1ca01-915d-46c6-af31-37fa8424ee04",
   "metadata": {},
   "source": [
    "Bu aşamada, modelin hiç görmediği veri seti (test) üzerinden zamana bağlı ürün fiyat tahminlemesi yapması amaçlanmıştır."
   ]
  },
  {
   "cell_type": "code",
   "execution_count": 73,
   "id": "8b7c56b3-70d2-4d67-9d37-c4d91d7ca323",
   "metadata": {},
   "outputs": [],
   "source": [
    "train = df.loc[~df[\"ürün fiyatı\"].isna()]  # train veri seti ayrımı yapıldı.\n",
    "Y_train = train['ürün fiyatı']\n",
    "X_train = train[cols]"
   ]
  },
  {
   "cell_type": "code",
   "execution_count": 74,
   "id": "62be33ca-cdb0-4a84-873b-9086d4d7019a",
   "metadata": {},
   "outputs": [],
   "source": [
    "test = df.loc[df[\"ürün fiyatı\"].isna()] # test veri seti ayrımı yapıldı.\n",
    "X_test = test[cols]"
   ]
  },
  {
   "cell_type": "code",
   "execution_count": 75,
   "id": "3ef16520-308c-492b-9508-b677206977c3",
   "metadata": {},
   "outputs": [],
   "source": [
    "lgb_params = {'metric': {'mae'},\n",
    "              'num_leaves': 15,\n",
    "              'learning_rate': 0.02,\n",
    "              'feature_fraction': 0.8,\n",
    "              \"min_data_leaf\": 75,\n",
    "              'max_depth': 5,\n",
    "              'verbose': -1,\n",
    "              'nthread': -1,\n",
    "              \"num_boost_round\": model.best_iteration}  # Validasyon üzerinden elde edilen best iteration değerleri kullanıldı."
   ]
  },
  {
   "cell_type": "code",
   "execution_count": 76,
   "id": "7b567c91-8b12-4217-b885-de8236b7444e",
   "metadata": {},
   "outputs": [],
   "source": [
    "lgbtrain_all = lgb.Dataset(data=X_train, label=Y_train, feature_name=cols) # train veri seti modele uygun hale getirildi"
   ]
  },
  {
   "cell_type": "code",
   "execution_count": 77,
   "id": "e1b671e4-5f47-4ea7-afb0-894b1093fb6d",
   "metadata": {},
   "outputs": [
    {
     "name": "stdout",
     "output_type": "stream",
     "text": [
      "[LightGBM] [Warning] Unknown parameter: min_data_leaf\n"
     ]
    }
   ],
   "source": [
    "model = lgb.train(lgb_params, lgbtrain_all, num_boost_round=model.best_iteration) # Model best iteration ile eğitildi"
   ]
  },
  {
   "cell_type": "code",
   "execution_count": 78,
   "id": "879f0219-8660-4aa8-b43d-199a797071a4",
   "metadata": {},
   "outputs": [],
   "source": [
    "test_preds = model.predict(X_test, num_iteration=model.best_iteration)  # test veri setinde tahminleme"
   ]
  },
  {
   "cell_type": "code",
   "execution_count": 79,
   "id": "b9f1776c-6397-454f-b64e-bdea314f48e5",
   "metadata": {},
   "outputs": [],
   "source": [
    "submission_df = test.loc[:, ['id', 'ürün fiyatı']] # Submission'a uygun hale getirildi.\n",
    "submission_df['ürün fiyatı'] = np.expm1(test_preds)\n",
    "submission_df['id'] = submission_df.id.astype(int)"
   ]
  },
  {
   "cell_type": "code",
   "execution_count": 80,
   "id": "2cbb2206-9bb7-4539-8150-2637bf1c652e",
   "metadata": {},
   "outputs": [],
   "source": [
    "submission_df.sort_index(inplace=True)"
   ]
  },
  {
   "cell_type": "markdown",
   "id": "5be05ad2-c91a-4bec-b926-a342b9101ef4",
   "metadata": {},
   "source": [
    "#### Örnek submission değerleri"
   ]
  },
  {
   "cell_type": "code",
   "execution_count": 81,
   "id": "48443e1f-434e-45ef-a364-541bb2779c06",
   "metadata": {},
   "outputs": [
    {
     "data": {
      "text/html": [
       "<div>\n",
       "<style scoped>\n",
       "    .dataframe tbody tr th:only-of-type {\n",
       "        vertical-align: middle;\n",
       "    }\n",
       "\n",
       "    .dataframe tbody tr th {\n",
       "        vertical-align: top;\n",
       "    }\n",
       "\n",
       "    .dataframe thead th {\n",
       "        text-align: right;\n",
       "    }\n",
       "</style>\n",
       "<table border=\"1\" class=\"dataframe\">\n",
       "  <thead>\n",
       "    <tr style=\"text-align: right;\">\n",
       "      <th></th>\n",
       "      <th>id</th>\n",
       "      <th>ürün fiyatı</th>\n",
       "    </tr>\n",
       "  </thead>\n",
       "  <tbody>\n",
       "    <tr>\n",
       "      <th>0</th>\n",
       "      <td>0</td>\n",
       "      <td>98.45</td>\n",
       "    </tr>\n",
       "    <tr>\n",
       "      <th>1</th>\n",
       "      <td>1</td>\n",
       "      <td>48.55</td>\n",
       "    </tr>\n",
       "    <tr>\n",
       "      <th>2</th>\n",
       "      <td>2</td>\n",
       "      <td>39.78</td>\n",
       "    </tr>\n",
       "    <tr>\n",
       "      <th>3</th>\n",
       "      <td>3</td>\n",
       "      <td>25.00</td>\n",
       "    </tr>\n",
       "  </tbody>\n",
       "</table>\n",
       "</div>"
      ],
      "text/plain": [
       "   id  ürün fiyatı\n",
       "0   0        98.45\n",
       "1   1        48.55\n",
       "2   2        39.78\n",
       "3   3        25.00"
      ]
     },
     "execution_count": 81,
     "metadata": {},
     "output_type": "execute_result"
    }
   ],
   "source": [
    "sample_sub # Gerçek değerler"
   ]
  },
  {
   "cell_type": "markdown",
   "id": "f9979da6-a384-4036-902a-6eef8d20c1b9",
   "metadata": {},
   "source": [
    "#### Elde edilen değerler"
   ]
  },
  {
   "cell_type": "code",
   "execution_count": 82,
   "id": "a89d68be-2dc8-46d1-ba3d-0a49299124f5",
   "metadata": {},
   "outputs": [
    {
     "data": {
      "text/html": [
       "<div>\n",
       "<style scoped>\n",
       "    .dataframe tbody tr th:only-of-type {\n",
       "        vertical-align: middle;\n",
       "    }\n",
       "\n",
       "    .dataframe tbody tr th {\n",
       "        vertical-align: top;\n",
       "    }\n",
       "\n",
       "    .dataframe thead th {\n",
       "        text-align: right;\n",
       "    }\n",
       "</style>\n",
       "<table border=\"1\" class=\"dataframe\">\n",
       "  <thead>\n",
       "    <tr style=\"text-align: right;\">\n",
       "      <th></th>\n",
       "      <th>id</th>\n",
       "      <th>ürün fiyatı</th>\n",
       "    </tr>\n",
       "  </thead>\n",
       "  <tbody>\n",
       "    <tr>\n",
       "      <th>227520</th>\n",
       "      <td>0</td>\n",
       "      <td>132.174252</td>\n",
       "    </tr>\n",
       "    <tr>\n",
       "      <th>227521</th>\n",
       "      <td>1</td>\n",
       "      <td>47.910537</td>\n",
       "    </tr>\n",
       "    <tr>\n",
       "      <th>227522</th>\n",
       "      <td>2</td>\n",
       "      <td>52.161120</td>\n",
       "    </tr>\n",
       "    <tr>\n",
       "      <th>227523</th>\n",
       "      <td>3</td>\n",
       "      <td>32.338028</td>\n",
       "    </tr>\n",
       "  </tbody>\n",
       "</table>\n",
       "</div>"
      ],
      "text/plain": [
       "        id  ürün fiyatı\n",
       "227520   0   132.174252\n",
       "227521   1    47.910537\n",
       "227522   2    52.161120\n",
       "227523   3    32.338028"
      ]
     },
     "execution_count": 82,
     "metadata": {},
     "output_type": "execute_result"
    }
   ],
   "source": [
    "submission_df.sort_values(\"id\").head(4) # Tahmin edilen değerler"
   ]
  },
  {
   "cell_type": "markdown",
   "id": "74db5353-0a69-4918-8b9e-ccc307ac22c6",
   "metadata": {},
   "source": [
    "Görüldüğü üzere, tahmin edilen değerler gerçek verilere oldukça yakın. "
   ]
  },
  {
   "cell_type": "code",
   "execution_count": 84,
   "id": "63d7bd2d-8b0a-4c60-bd10-4daed0d526fa",
   "metadata": {},
   "outputs": [],
   "source": [
    "submission_df.to_csv(\"submission.csv\", index=False)  # Elde edilen sonuç veri setinin csv formatına getirilmesi"
   ]
  },
  {
   "cell_type": "code",
   "execution_count": null,
   "id": "b81d8cae-ddf3-432d-95ea-7d4dcf3d7998",
   "metadata": {},
   "outputs": [],
   "source": []
  }
 ],
 "metadata": {
  "kernelspec": {
   "display_name": "Python 3",
   "language": "python",
   "name": "python3"
  },
  "language_info": {
   "codemirror_mode": {
    "name": "ipython",
    "version": 3
   },
   "file_extension": ".py",
   "mimetype": "text/x-python",
   "name": "python",
   "nbconvert_exporter": "python",
   "pygments_lexer": "ipython3",
   "version": "3.8.8"
  }
 },
 "nbformat": 4,
 "nbformat_minor": 5
}
